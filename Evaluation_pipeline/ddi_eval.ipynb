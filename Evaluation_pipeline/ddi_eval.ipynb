{
 "cells": [
  {
   "cell_type": "code",
   "execution_count": 1,
   "id": "67bf0a97",
   "metadata": {},
   "outputs": [
    {
     "name": "stderr",
     "output_type": "stream",
     "text": [
      "/home/bt19d200/NER_Vamshi/NER_Model/.conda/lib/python3.10/site-packages/tqdm/auto.py:21: TqdmWarning: IProgress not found. Please update jupyter and ipywidgets. See https://ipywidgets.readthedocs.io/en/stable/user_install.html\n",
      "  from .autonotebook import tqdm as notebook_tqdm\n"
     ]
    }
   ],
   "source": [
    "from datasets import load_dataset"
   ]
  },
  {
   "cell_type": "code",
   "execution_count": 2,
   "id": "f2c1ed00",
   "metadata": {},
   "outputs": [],
   "source": [
    "from datasets import load_dataset\n",
    "\n",
    "dataset = load_dataset(\"bigbio/ddi_corpus\", \"ddi_corpus_bigbio_kb\")"
   ]
  },
  {
   "cell_type": "code",
   "execution_count": 3,
   "id": "91633d4a",
   "metadata": {},
   "outputs": [],
   "source": [
    "dataset=dataset['test']"
   ]
  },
  {
   "cell_type": "code",
   "execution_count": 4,
   "id": "c5b40644",
   "metadata": {},
   "outputs": [
    {
     "data": {
      "text/plain": [
       "Dataset({\n",
       "    features: ['id', 'document_id', 'passages', 'entities', 'events', 'coreferences', 'relations'],\n",
       "    num_rows: 303\n",
       "})"
      ]
     },
     "execution_count": 4,
     "metadata": {},
     "output_type": "execute_result"
    }
   ],
   "source": [
    "dataset"
   ]
  },
  {
   "cell_type": "code",
   "execution_count": 5,
   "id": "a205c03f",
   "metadata": {},
   "outputs": [
    {
     "data": {
      "text/plain": [
       "[{'id': '21887897_T1',\n",
       "  'type': 'GROUP',\n",
       "  'text': ['psychotropic drug'],\n",
       "  'offsets': [[28, 45]],\n",
       "  'normalized': []},\n",
       " {'id': '21887897_T2',\n",
       "  'type': 'DRUG',\n",
       "  'text': ['etizolam'],\n",
       "  'offsets': [[90, 98]],\n",
       "  'normalized': []},\n",
       " {'id': '21887897_T3',\n",
       "  'type': 'DRUG',\n",
       "  'text': ['phenobarbital'],\n",
       "  'offsets': [[100, 113]],\n",
       "  'normalized': []},\n",
       " {'id': '21887897_T4',\n",
       "  'type': 'DRUG',\n",
       "  'text': ['promethazine'],\n",
       "  'offsets': [[115, 127]],\n",
       "  'normalized': []},\n",
       " {'id': '21887897_T5',\n",
       "  'type': 'DRUG',\n",
       "  'text': ['chlorpromazine'],\n",
       "  'offsets': [[132, 146]],\n",
       "  'normalized': []},\n",
       " {'id': '21887897_T6',\n",
       "  'type': 'DRUG',\n",
       "  'text': ['etizolam'],\n",
       "  'offsets': [[231, 239]],\n",
       "  'normalized': []},\n",
       " {'id': '21887897_T7',\n",
       "  'type': 'DRUG',\n",
       "  'text': ['phenobarbital'],\n",
       "  'offsets': [[241, 254]],\n",
       "  'normalized': []},\n",
       " {'id': '21887897_T8',\n",
       "  'type': 'DRUG',\n",
       "  'text': ['promethazine'],\n",
       "  'offsets': [[256, 268]],\n",
       "  'normalized': []},\n",
       " {'id': '21887897_T9',\n",
       "  'type': 'DRUG',\n",
       "  'text': ['chlorpromazine'],\n",
       "  'offsets': [[273, 287]],\n",
       "  'normalized': []},\n",
       " {'id': '21887897_T10',\n",
       "  'type': 'GROUP',\n",
       "  'text': ['psychotropic drugs'],\n",
       "  'offsets': [[537, 555]],\n",
       "  'normalized': []}]"
      ]
     },
     "execution_count": 5,
     "metadata": {},
     "output_type": "execute_result"
    }
   ],
   "source": [
    "dataset[0]['entities']"
   ]
  },
  {
   "cell_type": "code",
   "execution_count": 6,
   "id": "a62158da",
   "metadata": {},
   "outputs": [],
   "source": [
    "rel_set=set()\n",
    "for data in dataset:\n",
    "    for rels in data['relations']:\n",
    "        rel_set.add(rels['type'])"
   ]
  },
  {
   "cell_type": "code",
   "execution_count": 7,
   "id": "3a6112f1",
   "metadata": {},
   "outputs": [
    {
     "data": {
      "text/plain": [
       "{'ADVISE', 'EFFECT', 'INT', 'MECHANISM'}"
      ]
     },
     "execution_count": 7,
     "metadata": {},
     "output_type": "execute_result"
    }
   ],
   "source": [
    "rel_set"
   ]
  },
  {
   "cell_type": "code",
   "execution_count": 8,
   "id": "2cdfbf88",
   "metadata": {},
   "outputs": [
    {
     "data": {
      "text/plain": [
       "[{'id': '21887897__text',\n",
       "  'type': 'abstract',\n",
       "  'text': ['An autopsy case of multiple psychotropic drug poisoning. A fatal poisoning case involving etizolam, phenobarbital, promethazine and chlorpromazine is presented. Quantitative toxicological analysis showed that the concentrations of etizolam, phenobarbital, promethazine and chlorpromazine in the femoral blood were 86 ng/ml, 5082 microg/ml, 0.107 microg/ml and 0.144 microg/ml, respectively, and large amounts of drugs were also detected in the stomach contents. We conclude that the cause of death was due to the interaction of multiple psychotropic drugs.'],\n",
       "  'offsets': [[0, 556]]}]"
      ]
     },
     "execution_count": 8,
     "metadata": {},
     "output_type": "execute_result"
    }
   ],
   "source": [
    "dataset[0]['passages']"
   ]
  },
  {
   "cell_type": "code",
   "execution_count": 9,
   "id": "1d26cbd3",
   "metadata": {},
   "outputs": [
    {
     "data": {
      "text/plain": [
       "{'id': '21887897',\n",
       " 'document_id': '21887897',\n",
       " 'passages': [{'id': '21887897__text',\n",
       "   'type': 'abstract',\n",
       "   'text': ['An autopsy case of multiple psychotropic drug poisoning. A fatal poisoning case involving etizolam, phenobarbital, promethazine and chlorpromazine is presented. Quantitative toxicological analysis showed that the concentrations of etizolam, phenobarbital, promethazine and chlorpromazine in the femoral blood were 86 ng/ml, 5082 microg/ml, 0.107 microg/ml and 0.144 microg/ml, respectively, and large amounts of drugs were also detected in the stomach contents. We conclude that the cause of death was due to the interaction of multiple psychotropic drugs.'],\n",
       "   'offsets': [[0, 556]]}],\n",
       " 'entities': [{'id': '21887897_T1',\n",
       "   'type': 'GROUP',\n",
       "   'text': ['psychotropic drug'],\n",
       "   'offsets': [[28, 45]],\n",
       "   'normalized': []},\n",
       "  {'id': '21887897_T2',\n",
       "   'type': 'DRUG',\n",
       "   'text': ['etizolam'],\n",
       "   'offsets': [[90, 98]],\n",
       "   'normalized': []},\n",
       "  {'id': '21887897_T3',\n",
       "   'type': 'DRUG',\n",
       "   'text': ['phenobarbital'],\n",
       "   'offsets': [[100, 113]],\n",
       "   'normalized': []},\n",
       "  {'id': '21887897_T4',\n",
       "   'type': 'DRUG',\n",
       "   'text': ['promethazine'],\n",
       "   'offsets': [[115, 127]],\n",
       "   'normalized': []},\n",
       "  {'id': '21887897_T5',\n",
       "   'type': 'DRUG',\n",
       "   'text': ['chlorpromazine'],\n",
       "   'offsets': [[132, 146]],\n",
       "   'normalized': []},\n",
       "  {'id': '21887897_T6',\n",
       "   'type': 'DRUG',\n",
       "   'text': ['etizolam'],\n",
       "   'offsets': [[231, 239]],\n",
       "   'normalized': []},\n",
       "  {'id': '21887897_T7',\n",
       "   'type': 'DRUG',\n",
       "   'text': ['phenobarbital'],\n",
       "   'offsets': [[241, 254]],\n",
       "   'normalized': []},\n",
       "  {'id': '21887897_T8',\n",
       "   'type': 'DRUG',\n",
       "   'text': ['promethazine'],\n",
       "   'offsets': [[256, 268]],\n",
       "   'normalized': []},\n",
       "  {'id': '21887897_T9',\n",
       "   'type': 'DRUG',\n",
       "   'text': ['chlorpromazine'],\n",
       "   'offsets': [[273, 287]],\n",
       "   'normalized': []},\n",
       "  {'id': '21887897_T10',\n",
       "   'type': 'GROUP',\n",
       "   'text': ['psychotropic drugs'],\n",
       "   'offsets': [[537, 555]],\n",
       "   'normalized': []}],\n",
       " 'events': [],\n",
       " 'coreferences': [],\n",
       " 'relations': []}"
      ]
     },
     "execution_count": 9,
     "metadata": {},
     "output_type": "execute_result"
    }
   ],
   "source": [
    "dataset[0]"
   ]
  },
  {
   "cell_type": "code",
   "execution_count": 10,
   "id": "c6672853",
   "metadata": {},
   "outputs": [],
   "source": [
    "d={}\n",
    "import re\n",
    "new_data=[]\n",
    "for i in range(len(dataset)):\n",
    "    dtokens=dataset[i]['passages'][0]['text'][0]\n",
    "    dtokens = [t for t in re.split(r'[\\s\\-.,:;/?\\]\\[\\(\\)~>]+', dtokens) if t]\n",
    "\n",
    "    # dtokens=re.split(r'[\\s\\-.,:;/?\\]\\[\\(\\)]+', dtokens)\n",
    "    temp={}\n",
    "    dataset[i]['tokens']=dtokens\n",
    "    ner=[]\n",
    "    true=[]\n",
    "    for ent in dataset[i]['entities']:\n",
    "        text=ent['text'][0]\n",
    "        text = [t for t in re.split(r'[\\s\\-.,:;/?\\]\\[\\(\\)~>]+', text) if t]\n",
    "        \n",
    "        start=dtokens.index(text[0],0)\n",
    "        end=dtokens.index(text[-1],start)\n",
    "        if end-start<=3:\n",
    "            ner.append([start,end,ent['text'][0],ent['type']])\n",
    "        \n",
    "        d[ent['id']]=ent['text'][0]\n",
    "\n",
    "    #print(dtokens.index(text[0]),dtokens.index(text[-1]))\n",
    "    for rel in dataset[i]['relations']:\n",
    "        # if arg1_id not in d or arg2_id not in d:\n",
    "        #     continue\n",
    "        head=d[rel['arg1_id']]\n",
    "        tail=d[rel['arg2_id']]\n",
    "        if head==tail:\n",
    "            continue\n",
    "        true.append([head,tail,rel['type']])\n",
    "    temp['ner']=ner\n",
    "    temp['relations']=true\n",
    "    temp['tokens']=dtokens\n",
    "    new_data.append(temp)\n",
    "\n",
    "        "
   ]
  },
  {
   "cell_type": "code",
   "execution_count": 11,
   "id": "fe762b91",
   "metadata": {},
   "outputs": [
    {
     "data": {
      "text/plain": [
       "[[5, 6, 'psychotropic drug', 'GROUP'],\n",
       " [13, 13, 'etizolam', 'DRUG'],\n",
       " [14, 14, 'phenobarbital', 'DRUG'],\n",
       " [15, 15, 'promethazine', 'DRUG'],\n",
       " [17, 17, 'chlorpromazine', 'DRUG'],\n",
       " [13, 13, 'etizolam', 'DRUG'],\n",
       " [14, 14, 'phenobarbital', 'DRUG'],\n",
       " [15, 15, 'promethazine', 'DRUG'],\n",
       " [17, 17, 'chlorpromazine', 'DRUG']]"
      ]
     },
     "execution_count": 11,
     "metadata": {},
     "output_type": "execute_result"
    }
   ],
   "source": [
    "new_data[0]['ner']"
   ]
  },
  {
   "cell_type": "code",
   "execution_count": 12,
   "id": "78aed4f9",
   "metadata": {},
   "outputs": [],
   "source": [
    "new_d={}\n",
    "for i in rel_set:\n",
    "    new_d[i]=0\n",
    "for data in dataset:\n",
    "    for rels in data['relations']:\n",
    "        new_d[rels['type']]+=1"
   ]
  },
  {
   "cell_type": "code",
   "execution_count": 13,
   "id": "8a516c78",
   "metadata": {},
   "outputs": [
    {
     "data": {
      "text/plain": [
       "{'INT': 96, 'EFFECT': 360, 'MECHANISM': 302, 'ADVISE': 221}"
      ]
     },
     "execution_count": 13,
     "metadata": {},
     "output_type": "execute_result"
    }
   ],
   "source": [
    "new_d"
   ]
  },
  {
   "cell_type": "code",
   "execution_count": 14,
   "id": "b753aec3",
   "metadata": {},
   "outputs": [
    {
     "data": {
      "text/plain": [
       "820"
      ]
     },
     "execution_count": 14,
     "metadata": {},
     "output_type": "execute_result"
    }
   ],
   "source": [
    "len(new_data[92]['tokens'])"
   ]
  },
  {
   "cell_type": "code",
   "execution_count": 15,
   "id": "a20f594e",
   "metadata": {},
   "outputs": [
    {
     "name": "stderr",
     "output_type": "stream",
     "text": [
      "/home/bt19d200/NER_Vamshi/NER_Model/.conda/lib/python3.10/site-packages/transformers/convert_slow_tokenizer.py:561: UserWarning: The sentencepiece tokenizer that you are converting to a fast tokenizer uses the byte fallback option which is not implemented in the fast tokenizers. In practice this means that the fast version of the tokenizer can produce unknown tokens whereas the sentencepiece version would have converted these unknown tokens into a sequence of byte tokens matching the original piece of text.\n",
      "  warnings.warn(\n",
      "100%|██████████| 303/303 [00:32<00:00,  9.27it/s]"
     ]
    },
    {
     "name": "stdout",
     "output_type": "stream",
     "text": [
      "Success! ✅\n"
     ]
    },
    {
     "name": "stderr",
     "output_type": "stream",
     "text": [
      "\n"
     ]
    }
   ],
   "source": [
    "from pair2rel import Pair2Rel\n",
    "from tqdm import tqdm\n",
    "model = Pair2Rel.from_pretrained(\"chapalavamshi022/pair2rel\")\n",
    "\n",
    "labels=['EFFECT','MECHANISM','ADVISE','INTERACTION']\n",
    "\n",
    "import torch\n",
    "\n",
    "# Force usage of GPU 1\n",
    "device = torch.device(\"cuda:5\" if torch.cuda.is_available() else \"cpu\")\n",
    "model = model.to(device)\n",
    "model.device = device \n",
    "relation_label_predicted_count={}\n",
    "for i in tqdm(range(len(new_data))):\n",
    "    if new_data[i]['ner'] and new_data[i]['relations']:\n",
    "        try:\n",
    "            if len(new_data[i]['tokens']) > 512:\n",
    "                new_data[i]['tokens'] = new_data[i]['tokens'][:512]\n",
    "            relations = model.predict_relations(new_data[i]['tokens'], labels, threshold=0.0, ner=new_data[i]['ner'], top_k=1)\n",
    "        # relations = model.predict_relations(new_data[i]['sentence'], labels, threshold=0.0, ner=new_data[i]['ner'], top_k=1)\n",
    "            sorted_data_desc = sorted(relations, key=lambda x: x['score'], reverse=True)\n",
    "            temp=[]\n",
    "            for item in sorted_data_desc:\n",
    "                head=' '.join(item['head_text'])\n",
    "                tail=' '.join(item['tail_text'])\n",
    "                if head!=tail:\n",
    "                    temp.append([head,tail,item['label']])\n",
    "                    if item['label'] not in relation_label_predicted_count:\n",
    "                        relation_label_predicted_count[item['label']]=0\n",
    "                    relation_label_predicted_count[item['label']]+=1\n",
    "                    \n",
    "            new_data[i]['preds']=temp\n",
    "        except:\n",
    "            new_data[i]['preds']=[]\n",
    "            pass\n",
    "    else:\n",
    "        new_data[i]['preds']=[]\n",
    "        \n",
    "print(\"Success! ✅\")"
   ]
  },
  {
   "cell_type": "code",
   "execution_count": 16,
   "id": "3e0f62c2",
   "metadata": {},
   "outputs": [
    {
     "data": {
      "text/plain": [
       "[]"
      ]
     },
     "execution_count": 16,
     "metadata": {},
     "output_type": "execute_result"
    }
   ],
   "source": [
    "new_data[0]['relations']"
   ]
  },
  {
   "cell_type": "code",
   "execution_count": 17,
   "id": "79dcb6c6",
   "metadata": {},
   "outputs": [
    {
     "data": {
      "text/plain": [
       "[]"
      ]
     },
     "execution_count": 17,
     "metadata": {},
     "output_type": "execute_result"
    }
   ],
   "source": [
    "new_data[0]['preds']"
   ]
  },
  {
   "cell_type": "code",
   "execution_count": 18,
   "id": "027aaa07",
   "metadata": {},
   "outputs": [
    {
     "data": {
      "text/plain": [
       "[[0, 0, 'Ticagrelor', 'DRUG'],\n",
       " [1, 1, 'Brilinta', 'BRAND'],\n",
       " [4, 4, 'clopidogrel', 'DRUG'],\n",
       " [5, 5, 'Plavix', 'BRAND'],\n",
       " [10, 10, 'ticagrelor', 'DRUG'],\n",
       " [1, 1, 'Brilinta', 'BRAND'],\n",
       " [15, 16, 'antiplatelet drug', 'GROUP'],\n",
       " [22, 22, 'aspirin', 'BRAND'],\n",
       " [4, 4, 'clopidogrel', 'DRUG'],\n",
       " [5, 5, 'Plavix', 'BRAND'],\n",
       " [45, 45, 'prasugrel', 'DRUG'],\n",
       " [46, 46, 'Effient', 'BRAND'],\n",
       " [50, 50, 'Clopidogrel', 'DRUG']]"
      ]
     },
     "execution_count": 18,
     "metadata": {},
     "output_type": "execute_result"
    }
   ],
   "source": [
    "new_data[7]['ner']"
   ]
  },
  {
   "cell_type": "code",
   "execution_count": 19,
   "id": "11c14292",
   "metadata": {},
   "outputs": [
    {
     "data": {
      "text/plain": [
       "[['ticagrelor', 'aspirin', 'EFFECT'], ['Brilinta', 'aspirin', 'EFFECT']]"
      ]
     },
     "execution_count": 19,
     "metadata": {},
     "output_type": "execute_result"
    }
   ],
   "source": [
    "new_data[7]['relations']"
   ]
  },
  {
   "cell_type": "code",
   "execution_count": 20,
   "id": "d957a12e",
   "metadata": {},
   "outputs": [
    {
     "data": {
      "text/plain": [
       "[['Ticagrelor', 'Clopidogrel', 'EFFECT'],\n",
       " ['Clopidogrel', 'Ticagrelor', 'MECHANISM'],\n",
       " ['ticagrelor', 'Clopidogrel', 'EFFECT'],\n",
       " ['Clopidogrel', 'aspirin', 'MECHANISM'],\n",
       " ['Clopidogrel', 'antiplatelet drug', 'MECHANISM'],\n",
       " ['Clopidogrel', 'Brilinta', 'MECHANISM'],\n",
       " ['Clopidogrel', 'ticagrelor', 'MECHANISM'],\n",
       " ['Ticagrelor', 'aspirin', 'MECHANISM'],\n",
       " ['Ticagrelor', 'clopidogrel', 'MECHANISM'],\n",
       " ['Clopidogrel', 'clopidogrel', 'MECHANISM'],\n",
       " ['Brilinta', 'Clopidogrel', 'MECHANISM'],\n",
       " ['ticagrelor', 'Ticagrelor', 'MECHANISM'],\n",
       " ['aspirin', 'Clopidogrel', 'EFFECT'],\n",
       " ['Ticagrelor', 'ticagrelor', 'MECHANISM'],\n",
       " ['Clopidogrel', 'prasugrel', 'INTERACTION'],\n",
       " ['Ticagrelor', 'antiplatelet drug', 'MECHANISM'],\n",
       " ['antiplatelet drug', 'Clopidogrel', 'MECHANISM'],\n",
       " ['clopidogrel', 'Ticagrelor', 'MECHANISM'],\n",
       " ['aspirin', 'Ticagrelor', 'MECHANISM'],\n",
       " ['Ticagrelor', 'Brilinta', 'MECHANISM'],\n",
       " ['ticagrelor', 'aspirin', 'MECHANISM'],\n",
       " ['clopidogrel', 'Clopidogrel', 'EFFECT'],\n",
       " ['Ticagrelor', 'prasugrel', 'INTERACTION'],\n",
       " ['Clopidogrel', 'Effient', 'INTERACTION'],\n",
       " ['ticagrelor', 'clopidogrel', 'MECHANISM'],\n",
       " ['Clopidogrel', 'Plavix', 'INTERACTION'],\n",
       " ['prasugrel', 'Clopidogrel', 'INTERACTION'],\n",
       " ['Plavix', 'Ticagrelor', 'EFFECT'],\n",
       " ['Ticagrelor', 'Plavix', 'MECHANISM'],\n",
       " ['Ticagrelor', 'Effient', 'INTERACTION'],\n",
       " ['prasugrel', 'Ticagrelor', 'INTERACTION'],\n",
       " ['ticagrelor', 'prasugrel', 'INTERACTION'],\n",
       " ['Plavix', 'Clopidogrel', 'INTERACTION'],\n",
       " ['Effient', 'Clopidogrel', 'INTERACTION'],\n",
       " ['Brilinta', 'Ticagrelor', 'MECHANISM'],\n",
       " ['clopidogrel', 'ticagrelor', 'MECHANISM'],\n",
       " ['ticagrelor', 'Plavix', 'MECHANISM'],\n",
       " ['ticagrelor', 'Effient', 'INTERACTION'],\n",
       " ['Plavix', 'ticagrelor', 'MECHANISM'],\n",
       " ['antiplatelet drug', 'Ticagrelor', 'MECHANISM'],\n",
       " ['Effient', 'Ticagrelor', 'INTERACTION'],\n",
       " ['aspirin', 'ticagrelor', 'MECHANISM'],\n",
       " ['prasugrel', 'ticagrelor', 'INTERACTION'],\n",
       " ['Effient', 'ticagrelor', 'INTERACTION'],\n",
       " ['ticagrelor', 'antiplatelet drug', 'MECHANISM'],\n",
       " ['ticagrelor', 'Brilinta', 'MECHANISM'],\n",
       " ['Brilinta', 'Effient', 'INTERACTION'],\n",
       " ['Brilinta', 'ticagrelor', 'MECHANISM'],\n",
       " ['Brilinta', 'prasugrel', 'INTERACTION'],\n",
       " ['antiplatelet drug', 'ticagrelor', 'MECHANISM'],\n",
       " ['antiplatelet drug', 'Effient', 'INTERACTION'],\n",
       " ['Plavix', 'Brilinta', 'MECHANISM'],\n",
       " ['Effient', 'Brilinta', 'INTERACTION'],\n",
       " ['prasugrel', 'Plavix', 'INTERACTION'],\n",
       " ['Plavix', 'Effient', 'INTERACTION'],\n",
       " ['clopidogrel', 'Effient', 'INTERACTION'],\n",
       " ['Effient', 'Plavix', 'INTERACTION'],\n",
       " ['prasugrel', 'Brilinta', 'INTERACTION'],\n",
       " ['Plavix', 'prasugrel', 'INTERACTION'],\n",
       " ['antiplatelet drug', 'prasugrel', 'INTERACTION'],\n",
       " ['aspirin', 'Effient', 'INTERACTION'],\n",
       " ['prasugrel', 'Effient', 'INTERACTION'],\n",
       " ['Effient', 'prasugrel', 'INTERACTION'],\n",
       " ['Effient', 'clopidogrel', 'INTERACTION'],\n",
       " ['Brilinta', 'Plavix', 'MECHANISM'],\n",
       " ['clopidogrel', 'prasugrel', 'INTERACTION'],\n",
       " ['Effient', 'antiplatelet drug', 'INTERACTION'],\n",
       " ['prasugrel', 'clopidogrel', 'INTERACTION'],\n",
       " ['Effient', 'aspirin', 'INTERACTION'],\n",
       " ['prasugrel', 'antiplatelet drug', 'INTERACTION'],\n",
       " ['aspirin', 'prasugrel', 'INTERACTION'],\n",
       " ['Brilinta', 'clopidogrel', 'MECHANISM'],\n",
       " ['clopidogrel', 'Brilinta', 'MECHANISM'],\n",
       " ['clopidogrel', 'Plavix', 'INTERACTION'],\n",
       " ['prasugrel', 'aspirin', 'INTERACTION'],\n",
       " ['Plavix', 'antiplatelet drug', 'MECHANISM'],\n",
       " ['Plavix', 'clopidogrel', 'INTERACTION'],\n",
       " ['antiplatelet drug', 'Plavix', 'INTERACTION'],\n",
       " ['aspirin', 'Plavix', 'INTERACTION'],\n",
       " ['Brilinta', 'aspirin', 'MECHANISM'],\n",
       " ['Plavix', 'aspirin', 'INTERACTION'],\n",
       " ['aspirin', 'Brilinta', 'MECHANISM'],\n",
       " ['Brilinta', 'antiplatelet drug', 'MECHANISM'],\n",
       " ['antiplatelet drug', 'clopidogrel', 'MECHANISM'],\n",
       " ['clopidogrel', 'antiplatelet drug', 'MECHANISM'],\n",
       " ['antiplatelet drug', 'Brilinta', 'MECHANISM'],\n",
       " ['aspirin', 'clopidogrel', 'INTERACTION'],\n",
       " ['clopidogrel', 'aspirin', 'MECHANISM'],\n",
       " ['antiplatelet drug', 'aspirin', 'MECHANISM'],\n",
       " ['aspirin', 'antiplatelet drug', 'MECHANISM']]"
      ]
     },
     "execution_count": 20,
     "metadata": {},
     "output_type": "execute_result"
    }
   ],
   "source": [
    "new_data[7]['preds']"
   ]
  },
  {
   "cell_type": "code",
   "execution_count": 21,
   "id": "d4ff336a",
   "metadata": {},
   "outputs": [
    {
     "data": {
      "text/plain": [
       "{'EFFECT': 2766, 'MECHANISM': 464, 'INTERACTION': 21969, 'ADVISE': 21}"
      ]
     },
     "execution_count": 21,
     "metadata": {},
     "output_type": "execute_result"
    }
   ],
   "source": [
    "relation_label_predicted_count"
   ]
  },
  {
   "cell_type": "code",
   "execution_count": 22,
   "id": "465dd5b4",
   "metadata": {},
   "outputs": [
    {
     "data": {
      "text/plain": [
       "{'INT': 96, 'EFFECT': 360, 'MECHANISM': 302, 'ADVISE': 221}"
      ]
     },
     "execution_count": 22,
     "metadata": {},
     "output_type": "execute_result"
    }
   ],
   "source": [
    "new_d"
   ]
  },
  {
   "cell_type": "code",
   "execution_count": 23,
   "id": "988edef0",
   "metadata": {},
   "outputs": [],
   "source": [
    "recall_avg=[]\n",
    "precision_avg=[]\n",
    "common=0\n",
    "ours=0\n",
    "\n",
    "for i in range(len(new_data)):\n",
    "    true_set=new_data[i]['relations']\n",
    "    pred_set=new_data[i]['preds']\n",
    "    d={}\n",
    "    for item in pred_set:\n",
    "        if (item[0],item[1]) not in d and (item[1],item[0]) not in d:\n",
    "            d[(item[0],item[1])]=item[2]\n",
    "    \n",
    "    ours+=len(d)\n",
    "    if len(true_set) == 0 and len(pred_set) == 0:\n",
    "        recall_avg.append(1.0)\n",
    "        precision_avg.append(1.0)\n",
    "    else:\n",
    "        count=0\n",
    "        for m in true_set:\n",
    "            for n in pred_set:\n",
    "                if (m[0] in n[0]) and (m[1] in n[1]) and (m[2]==n[2] or (m[2]=='INT' and n[2]=='INTERACTION')):\n",
    "                    count+= 1\n",
    "        recall = count/ len(true_set) if len(true_set) > 0 else 0\n",
    "        precision = count / len(d) if len(d) > 0 else 0\n",
    "        common += count\n",
    "        recall_avg.append(recall)\n",
    "        precision_avg.append(precision)"
   ]
  },
  {
   "cell_type": "code",
   "execution_count": 24,
   "id": "19a32a27",
   "metadata": {},
   "outputs": [
    {
     "data": {
      "text/plain": [
       "(0.4824456153031852, 0.41832432770981515)"
      ]
     },
     "execution_count": 24,
     "metadata": {},
     "output_type": "execute_result"
    }
   ],
   "source": [
    "sum(recall_avg)/len(recall_avg),sum(precision_avg)/len(precision_avg)"
   ]
  },
  {
   "cell_type": "code",
   "execution_count": 25,
   "id": "a50db6d1",
   "metadata": {},
   "outputs": [
    {
     "name": "stderr",
     "output_type": "stream",
     "text": [
      "100%|██████████| 303/303 [00:31<00:00,  9.58it/s]"
     ]
    },
    {
     "name": "stdout",
     "output_type": "stream",
     "text": [
      "Success! ✅\n"
     ]
    },
    {
     "name": "stderr",
     "output_type": "stream",
     "text": [
      "\n"
     ]
    }
   ],
   "source": [
    "from pair2rel import Pair2Rel\n",
    "from tqdm import tqdm\n",
    "model = Pair2Rel.from_pretrained(\"chapalavamshi022/pair2rel\")\n",
    "\n",
    "labels=['EFFECT','MECHANISM','ADVISE','INTERACTION']\n",
    "\n",
    "import torch\n",
    "\n",
    "# Force usage of GPU 1\n",
    "device = torch.device(\"cuda:5\" if torch.cuda.is_available() else \"cpu\")\n",
    "model = model.to(device)\n",
    "model.device = device \n",
    "relation_label_predicted_count={}\n",
    "for i in tqdm(range(len(new_data))):\n",
    "    if new_data[i]['ner'] and new_data[i]['relations']:\n",
    "        try:\n",
    "            if len(new_data[i]['tokens']) > 512:\n",
    "                new_data[i]['tokens'] = new_data[i]['tokens'][:512]\n",
    "            relations = model.predict_relations(new_data[i]['tokens'], labels, threshold=0.0, ner=new_data[i]['ner'], top_k=2)\n",
    "        # relations = model.predict_relations(new_data[i]['sentence'], labels, threshold=0.0, ner=new_data[i]['ner'], top_k=1)\n",
    "            sorted_data_desc = sorted(relations, key=lambda x: x['score'], reverse=True)\n",
    "            temp=[]\n",
    "            for item in sorted_data_desc:\n",
    "                head=' '.join(item['head_text'])\n",
    "                tail=' '.join(item['tail_text'])\n",
    "                if head!=tail:\n",
    "                    temp.append([head,tail,item['label']])\n",
    "                    if item['label'] not in relation_label_predicted_count:\n",
    "                        relation_label_predicted_count[item['label']]=0\n",
    "                    relation_label_predicted_count[item['label']]+=1\n",
    "                    \n",
    "            new_data[i]['preds']=temp\n",
    "        except:\n",
    "            new_data[i]['preds']=[]\n",
    "            pass\n",
    "    else:\n",
    "        new_data[i]['preds']=[]\n",
    "        \n",
    "print(\"Success! ✅\")"
   ]
  },
  {
   "cell_type": "code",
   "execution_count": 26,
   "id": "4d722319",
   "metadata": {},
   "outputs": [],
   "source": [
    "recall_avg=[]\n",
    "precision_avg=[]\n",
    "common=0\n",
    "ours=0\n",
    "\n",
    "for i in range(len(new_data)):\n",
    "    true_set=new_data[i]['relations']\n",
    "    pred_set=new_data[i]['preds']\n",
    "    d={}\n",
    "    for item in pred_set:\n",
    "        if (item[0],item[1]) not in d and (item[1],item[0]) not in d:\n",
    "            d[(item[0],item[1])]=item[2]\n",
    "    \n",
    "    ours+=len(d)\n",
    "    if len(true_set) == 0 and len(pred_set) == 0:\n",
    "        recall_avg.append(1.0)\n",
    "        precision_avg.append(1.0)\n",
    "    else:\n",
    "        count=0\n",
    "        for m in true_set:\n",
    "            for n in pred_set:\n",
    "                if (m[0]==n[0]) and (m[1]==n[1]) and (m[2]==n[2] or (m[2]=='INT' and n[2]=='INTERACTION')):\n",
    "                    count+= 1\n",
    "        recall = count/ len(true_set) if len(true_set) > 0 else 0\n",
    "        precision = count / len(d) if len(d) > 0 else 0\n",
    "        common += count\n",
    "        recall_avg.append(recall)\n",
    "        precision_avg.append(precision)"
   ]
  },
  {
   "cell_type": "code",
   "execution_count": 27,
   "id": "df07cea8",
   "metadata": {},
   "outputs": [
    {
     "data": {
      "text/plain": [
       "(0.5737120386899685, 0.45682144400673336)"
      ]
     },
     "execution_count": 27,
     "metadata": {},
     "output_type": "execute_result"
    }
   ],
   "source": [
    "sum(recall_avg)/len(recall_avg),sum(precision_avg)/len(precision_avg)"
   ]
  },
  {
   "cell_type": "code",
   "execution_count": 28,
   "id": "b1f338b0",
   "metadata": {},
   "outputs": [
    {
     "name": "stderr",
     "output_type": "stream",
     "text": [
      "100%|██████████| 303/303 [00:32<00:00,  9.41it/s]"
     ]
    },
    {
     "name": "stdout",
     "output_type": "stream",
     "text": [
      "Success! ✅\n"
     ]
    },
    {
     "name": "stderr",
     "output_type": "stream",
     "text": [
      "\n"
     ]
    }
   ],
   "source": [
    "from pair2rel import Pair2Rel\n",
    "from tqdm import tqdm\n",
    "model = Pair2Rel.from_pretrained(\"chapalavamshi022/pair2rel\")\n",
    "\n",
    "labels=['EEFECT','MECHANISM','ADVISE','INT']\n",
    "\n",
    "import torch\n",
    "\n",
    "# Force usage of GPU 1\n",
    "device = torch.device(\"cuda:5\" if torch.cuda.is_available() else \"cpu\")\n",
    "model = model.to(device)\n",
    "model.device = device \n",
    "relation_label_predicted_count={}\n",
    "for i in tqdm(range(len(new_data))):\n",
    "    if new_data[i]['ner'] and new_data[i]['relations']:\n",
    "        try:\n",
    "            if len(new_data[i]['tokens']) > 512:\n",
    "                new_data[i]['tokens'] = new_data[i]['tokens'][:512]\n",
    "            relations = model.predict_relations(new_data[i]['tokens'], labels, threshold=0.0, ner=new_data[i]['ner'], top_k=3)\n",
    "        # relations = model.predict_relations(new_data[i]['sentence'], labels, threshold=0.0, ner=new_data[i]['ner'], top_k=1)\n",
    "            sorted_data_desc = sorted(relations, key=lambda x: x['score'], reverse=True)\n",
    "            temp=[]\n",
    "            for item in sorted_data_desc:\n",
    "                head=' '.join(item['head_text'])\n",
    "                tail=' '.join(item['tail_text'])\n",
    "                if head!=tail:\n",
    "                    temp.append([head,tail,item['label']])\n",
    "                    if item['label'] not in relation_label_predicted_count:\n",
    "                        relation_label_predicted_count[item['label']]=0\n",
    "                    relation_label_predicted_count[item['label']]+=1\n",
    "                    \n",
    "            new_data[i]['preds']=temp\n",
    "        except:\n",
    "            new_data[i]['preds']=[]\n",
    "            pass\n",
    "    else:\n",
    "        new_data[i]['preds']=[]\n",
    "        \n",
    "print(\"Success! ✅\")"
   ]
  },
  {
   "cell_type": "code",
   "execution_count": 29,
   "id": "1245abf9",
   "metadata": {},
   "outputs": [
    {
     "data": {
      "text/plain": [
       "(0.5737120386899685, 0.45682144400673336)"
      ]
     },
     "execution_count": 29,
     "metadata": {},
     "output_type": "execute_result"
    }
   ],
   "source": [
    "sum(recall_avg)/len(recall_avg),sum(precision_avg)/len(precision_avg)"
   ]
  },
  {
   "cell_type": "code",
   "execution_count": null,
   "id": "43661685",
   "metadata": {},
   "outputs": [],
   "source": []
  }
 ],
 "metadata": {
  "kernelspec": {
   "display_name": "Python 3",
   "language": "python",
   "name": "python3"
  },
  "language_info": {
   "codemirror_mode": {
    "name": "ipython",
    "version": 3
   },
   "file_extension": ".py",
   "mimetype": "text/x-python",
   "name": "python",
   "nbconvert_exporter": "python",
   "pygments_lexer": "ipython3",
   "version": "3.10.16"
  }
 },
 "nbformat": 4,
 "nbformat_minor": 5
}
