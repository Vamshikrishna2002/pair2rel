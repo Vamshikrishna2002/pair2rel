{
 "cells": [
  {
   "cell_type": "code",
   "execution_count": 40,
   "id": "b96221d4",
   "metadata": {},
   "outputs": [],
   "source": [
    "from datasets import load_dataset"
   ]
  },
  {
   "cell_type": "code",
   "execution_count": 2,
   "id": "be4136a8",
   "metadata": {},
   "outputs": [],
   "source": [
    "dataset = load_dataset(\"ade-benchmark-corpus/ade_corpus_v2\",'Ade_corpus_v2_drug_ade_relation') \n"
   ]
  },
  {
   "cell_type": "code",
   "execution_count": 3,
   "id": "fd847c8c",
   "metadata": {},
   "outputs": [
    {
     "data": {
      "text/plain": [
       "DatasetDict({\n",
       "    train: Dataset({\n",
       "        features: ['text', 'drug', 'effect', 'indexes'],\n",
       "        num_rows: 6821\n",
       "    })\n",
       "})"
      ]
     },
     "execution_count": 3,
     "metadata": {},
     "output_type": "execute_result"
    }
   ],
   "source": [
    "dataset"
   ]
  },
  {
   "cell_type": "code",
   "execution_count": 4,
   "id": "0969bee1",
   "metadata": {},
   "outputs": [
    {
     "data": {
      "text/plain": [
       "{'text': 'Intravenous azithromycin-induced ototoxicity.',\n",
       " 'drug': 'azithromycin',\n",
       " 'effect': 'ototoxicity',\n",
       " 'indexes': {'drug': {'start_char': [12], 'end_char': [24]},\n",
       "  'effect': {'start_char': [33], 'end_char': [44]}}}"
      ]
     },
     "execution_count": 4,
     "metadata": {},
     "output_type": "execute_result"
    }
   ],
   "source": [
    "test = dataset[\"train\"]\n",
    "test[0]"
   ]
  },
  {
   "cell_type": "code",
   "execution_count": 6,
   "id": "850a0c72",
   "metadata": {},
   "outputs": [
    {
     "name": "stderr",
     "output_type": "stream",
     "text": [
      "Fetching 4 files: 100%|██████████| 4/4 [00:00<00:00, 40920.04it/s]\n",
      "/home/bt19d200/NER_Vamshi/NER_Model/.conda/lib/python3.10/site-packages/transformers/convert_slow_tokenizer.py:561: UserWarning: The sentencepiece tokenizer that you are converting to a fast tokenizer uses the byte fallback option which is not implemented in the fast tokenizers. In practice this means that the fast version of the tokenizer can produce unknown tokens whereas the sentencepiece version would have converted these unknown tokens into a sequence of byte tokens matching the original piece of text.\n",
      "  warnings.warn(\n",
      "  0%|          | 0/6821 [00:00<?, ?it/s]Asking to truncate to max_length but no maximum length is provided and the model has no predefined maximum length. Default to no truncation.\n",
      "100%|██████████| 6821/6821 [07:21<00:00, 15.45it/s]\n"
     ]
    }
   ],
   "source": [
    "from gliner import GLiNER\n",
    "\n",
    "import os\n",
    "import torch\n",
    "from tqdm import tqdm\n",
    "\n",
    "# text=\"The branding of the CSAT survey email has been made generic to ensure that end customers do not associate it with DevRev.\"\n",
    "model=GLiNER.from_pretrained(\"urchade/gliner_large-v2.1\")\n",
    "# Force usage of GPU 1\n",
    "device = torch.device(\"cuda:6\" if torch.cuda.is_available() else \"cpu\")\n",
    "model = model.to(device)\n",
    "\n",
    "predicted_ner=[]\n",
    "labels=['drug', 'effect','reaction','disease']\n",
    "# labels=all_entities\n",
    "results=[]\n",
    "for i in tqdm(range(len(test))):\n",
    "    text=test[i]['text']\n",
    "    entities=model.predict_entities(text,labels=labels,threshold=0.5,multi_label=True)\n",
    "    real=set()\n",
    "    import re\n",
    "    temp=[]\n",
    "    \n",
    "    # dtokens = re.split(r\"[ ,._:;\\[\\](){}\\/\\?\\r'\\*\\n|!-\\\"<>\\-#@=%&+]+\", text)\n",
    "\n",
    "    for entity in entities:\n",
    "        # ent_text=re.split(r\"[ ,._:;\\[\\](){}\\/\\?\\r'\\*\\n|!-\\\"<>\\-#@=%&+]+\", entity['text'])\n",
    "        if entity['text'] not in real:\n",
    "            temp.append([entity['start'], entity['end'], entity['text'], entity['label']])\n",
    "\n",
    "        real.add(entity['text'])\n",
    "\n",
    "    real=list(real)\n",
    "    predicted_ner.append(temp)\n",
    "    results.append(real)"
   ]
  },
  {
   "cell_type": "code",
   "execution_count": 7,
   "id": "0de64aa8",
   "metadata": {},
   "outputs": [
    {
     "data": {
      "text/plain": [
       "['rifampicin', \"Paget's bone disease\"]"
      ]
     },
     "execution_count": 7,
     "metadata": {},
     "output_type": "execute_result"
    }
   ],
   "source": [
    "results[1]"
   ]
  },
  {
   "cell_type": "code",
   "execution_count": 8,
   "id": "92f92603",
   "metadata": {},
   "outputs": [],
   "source": [
    "true=[]\n",
    "for i in range(len(test)):\n",
    "    temp=[test[i]['drug'],test[i]['effect']]\n",
    "    true.append(temp)"
   ]
  },
  {
   "cell_type": "code",
   "execution_count": 9,
   "id": "18377228",
   "metadata": {},
   "outputs": [
    {
     "data": {
      "text/plain": [
       "'RESULTS: A 44-year-old man taking naproxen for chronic low back pain and a 20-year-old woman on oxaprozin for rheumatoid arthritis presented with tense bullae and cutaneous fragility on the face and the back of the hands.'"
      ]
     },
     "execution_count": 9,
     "metadata": {},
     "output_type": "execute_result"
    }
   ],
   "source": [
    "test[6]['text']"
   ]
  },
  {
   "cell_type": "code",
   "execution_count": 10,
   "id": "c365ece2",
   "metadata": {},
   "outputs": [
    {
     "data": {
      "text/plain": [
       "['naproxen', 'cutaneous fragility']"
      ]
     },
     "execution_count": 10,
     "metadata": {},
     "output_type": "execute_result"
    }
   ],
   "source": [
    "true[6]"
   ]
  },
  {
   "cell_type": "code",
   "execution_count": 11,
   "id": "087a686b",
   "metadata": {},
   "outputs": [
    {
     "data": {
      "text/plain": [
       "['rheumatoid arthritis',\n",
       " 'presented with tense bullae and cutaneous fragility',\n",
       " 'naproxen',\n",
       " 'oxaprozin']"
      ]
     },
     "execution_count": 11,
     "metadata": {},
     "output_type": "execute_result"
    }
   ],
   "source": [
    "results[6]"
   ]
  },
  {
   "cell_type": "code",
   "execution_count": 12,
   "id": "22eee58b",
   "metadata": {},
   "outputs": [],
   "source": [
    "recall_avg=[]\n",
    "precision_avg=[]\n",
    "common2=0\n",
    "for i in range(len(results)):\n",
    "    true_set=set(true[i])\n",
    "    pred_set=set(results[i])\n",
    "    \n",
    "    if len(true_set) == 0 and len(pred_set) == 0:\n",
    "        recall_avg.append(1.0)\n",
    "        precision_avg.append(1.0)\n",
    "    else:\n",
    "        count=0\n",
    "        for m in true_set:\n",
    "            for n in pred_set:\n",
    "                if m in n or n in m:\n",
    "                    count+= 1\n",
    "        recall = count / len(true_set) if len(true_set) > 0 else 0\n",
    "        precision = count / len(pred_set) if len(pred_set) > 0 else 0\n",
    "        common2 += count\n",
    "        recall_avg.append(recall)\n",
    "        precision_avg.append(precision)"
   ]
  },
  {
   "cell_type": "code",
   "execution_count": 13,
   "id": "1ba93440",
   "metadata": {},
   "outputs": [
    {
     "data": {
      "text/plain": [
       "(0.8955431754874652, 0.6475514479656069)"
      ]
     },
     "execution_count": 13,
     "metadata": {},
     "output_type": "execute_result"
    }
   ],
   "source": [
    "sum(recall_avg) / len(recall_avg), sum(precision_avg) / len(precision_avg)"
   ]
  },
  {
   "cell_type": "code",
   "execution_count": 14,
   "id": "ef19505b",
   "metadata": {},
   "outputs": [
    {
     "data": {
      "text/plain": [
       "{'text': 'Intravenous azithromycin-induced ototoxicity.',\n",
       " 'drug': 'azithromycin',\n",
       " 'effect': 'ototoxicity',\n",
       " 'indexes': {'drug': {'start_char': [12], 'end_char': [24]},\n",
       "  'effect': {'start_char': [33], 'end_char': [44]}}}"
      ]
     },
     "execution_count": 14,
     "metadata": {},
     "output_type": "execute_result"
    }
   ],
   "source": [
    "import re\n",
    "ner=[]\n",
    "for i in range(len(test)):\n",
    "    temp=[]\n",
    "    tokens = re.split(r'[ -.,:;/?\\]\\[]+', test[i]['text'])\n",
    "    drug=re.split(r'[ -.,:;/?\\]\\[]+', test[i]['drug'])\n",
    "    start=tokens.index(drug[0])\n",
    "    end=tokens.index(drug[-1])\n",
    "    temp.append([start,end,'drug',test[i]['drug']])\n",
    "    effect=re.split(r'[ -.,:;/?\\[\\]]+', test[i]['effect'])\n",
    "    start=tokens.index(effect[0])\n",
    "    end=tokens.index(effect[-1])\n",
    "    temp.append([start,end,'effect',test[i]['effect']])\n",
    "    ner.append(temp)\n",
    "test[0]"
   ]
  },
  {
   "cell_type": "code",
   "execution_count": 15,
   "id": "a88faaae",
   "metadata": {},
   "outputs": [
    {
     "data": {
      "text/plain": [
       "[[12, 32, 'azithromycin-induced', 'drug'], [33, 44, 'ototoxicity', 'disease']]"
      ]
     },
     "execution_count": 15,
     "metadata": {},
     "output_type": "execute_result"
    }
   ],
   "source": [
    "predicted_ner[0]"
   ]
  },
  {
   "cell_type": "code",
   "execution_count": 16,
   "id": "7f17f4a5",
   "metadata": {},
   "outputs": [],
   "source": [
    "import re\n",
    "pred_ner=[]\n",
    "for i in range(len(test)):\n",
    "    temp=[]\n",
    "    for j in predicted_ner[i]:\n",
    "        tokens = re.split(r'[ -.,:;/?\\]\\[]+', test[i]['text'])\n",
    "        drug=re.split(r'[ -.,:;/?\\]\\[]+', j[2])\n",
    "        start=tokens.index(drug[0])\n",
    "        end=tokens.index(drug[-1])\n",
    "        temp.append([start,end,'drug',j[2]])\n",
    "    \n",
    "    pred_ner.append(temp)\n"
   ]
  },
  {
   "cell_type": "code",
   "execution_count": 17,
   "id": "6d6be358",
   "metadata": {},
   "outputs": [
    {
     "data": {
      "text/plain": [
       "[[1, 2, 'drug', 'azithromycin-induced'], [3, 3, 'drug', 'ototoxicity']]"
      ]
     },
     "execution_count": 17,
     "metadata": {},
     "output_type": "execute_result"
    }
   ],
   "source": [
    "pred_ner[0]"
   ]
  },
  {
   "cell_type": "code",
   "execution_count": 18,
   "id": "956feb60",
   "metadata": {},
   "outputs": [
    {
     "data": {
      "text/plain": [
       "[[1, 1, 'drug', 'azithromycin'], [3, 3, 'effect', 'ototoxicity']]"
      ]
     },
     "execution_count": 18,
     "metadata": {},
     "output_type": "execute_result"
    }
   ],
   "source": [
    "ner[0]"
   ]
  },
  {
   "cell_type": "code",
   "execution_count": 19,
   "id": "70457c30",
   "metadata": {},
   "outputs": [],
   "source": [
    "relations_true=[]\n",
    "for i in range(len(ner)):\n",
    "    temp=[]\n",
    "    temp.append([ner[i][0][3], ner[i][1][3], 'has'])\n",
    "    relations_true.append(temp)  "
   ]
  },
  {
   "cell_type": "code",
   "execution_count": 20,
   "id": "2295376f",
   "metadata": {},
   "outputs": [
    {
     "data": {
      "text/plain": [
       "[['naproxen', 'pseudoporphyria', 'has']]"
      ]
     },
     "execution_count": 20,
     "metadata": {},
     "output_type": "execute_result"
    }
   ],
   "source": [
    "relations_true[3]"
   ]
  },
  {
   "cell_type": "code",
   "execution_count": 48,
   "id": "59860130",
   "metadata": {},
   "outputs": [
    {
     "name": "stderr",
     "output_type": "stream",
     "text": [
      "100%|██████████| 6821/6821 [07:29<00:00, 15.18it/s]"
     ]
    },
    {
     "name": "stdout",
     "output_type": "stream",
     "text": [
      "Success! ✅\n"
     ]
    },
    {
     "name": "stderr",
     "output_type": "stream",
     "text": [
      "\n"
     ]
    }
   ],
   "source": [
    "from pair2rel import Pair2Rel\n",
    "\n",
    "from tqdm import tqdm\n",
    "model = Pair2Rel.from_pretrained(\"chapalavamshi022/pair2rel\")\n",
    "import torch\n",
    "import re\n",
    "# Force usage of GPU 1\n",
    "device = torch.device(\"cuda:3\" if torch.cuda.is_available() else \"cpu\")\n",
    "model = model.to(device)\n",
    "model.device = device \n",
    "relations_all=[]\n",
    "labels = ['has']\n",
    "for i in tqdm(range(len(test))):\n",
    "    # required_labels = []\n",
    "    # for token in processed_data[i]['tokens']:\n",
    "    #     if token in rel_set:\n",
    "    #         required_labels.append(token)\n",
    "    tokens = re.split(r'[ -.,:;/?\\]\\[]+', test[i]['text'])\n",
    "\n",
    "    relations = model.predict_relations(tokens, labels, threshold=0.0, ner=ner[i], top_k=1)\n",
    "\n",
    "    sorted_data_desc = sorted(relations, key=lambda x: x['score'], reverse=True)\n",
    "    temp=[]\n",
    "    for item in sorted_data_desc:\n",
    "        head=' '.join(item['head_text'])\n",
    "        tail=' '.join(item['tail_text'])\n",
    "        if head == tail:\n",
    "            continue\n",
    "        temp.append([head,tail,item['label']])\n",
    "\n",
    "    relations_all.append(temp)\n",
    "        \n",
    "print(\"Success! ✅\")"
   ]
  },
  {
   "cell_type": "code",
   "execution_count": 49,
   "id": "85beab94",
   "metadata": {},
   "outputs": [
    {
     "data": {
      "text/plain": [
       "[['dihydrotachysterol', 'increased calcium release', 'has']]"
      ]
     },
     "execution_count": 49,
     "metadata": {},
     "output_type": "execute_result"
    }
   ],
   "source": [
    "relations_true[1]"
   ]
  },
  {
   "cell_type": "code",
   "execution_count": 50,
   "id": "6247ec27",
   "metadata": {},
   "outputs": [
    {
     "name": "stdout",
     "output_type": "stream",
     "text": [
      "12\n",
      "72\n",
      "81\n",
      "100\n",
      "105\n",
      "107\n",
      "141\n",
      "147\n",
      "149\n",
      "166\n",
      "168\n",
      "216\n",
      "223\n",
      "224\n",
      "225\n",
      "232\n",
      "244\n",
      "324\n",
      "385\n",
      "420\n",
      "422\n",
      "425\n",
      "426\n",
      "431\n",
      "432\n",
      "445\n",
      "470\n",
      "472\n",
      "488\n",
      "523\n",
      "526\n",
      "537\n",
      "559\n",
      "562\n",
      "563\n",
      "564\n",
      "622\n",
      "623\n",
      "641\n",
      "642\n",
      "726\n",
      "832\n",
      "858\n",
      "907\n",
      "921\n",
      "922\n",
      "925\n",
      "926\n",
      "941\n",
      "994\n",
      "1002\n",
      "1004\n",
      "1060\n",
      "1064\n",
      "1078\n",
      "1152\n",
      "1160\n",
      "1174\n",
      "1218\n",
      "1223\n",
      "1242\n",
      "1244\n",
      "1246\n",
      "1248\n",
      "1283\n",
      "1366\n",
      "1367\n",
      "1368\n",
      "1444\n",
      "1479\n",
      "1480\n",
      "1508\n",
      "1518\n",
      "1519\n",
      "1521\n",
      "1532\n",
      "1597\n",
      "1600\n",
      "1624\n",
      "1657\n",
      "1658\n",
      "1665\n",
      "1685\n",
      "1692\n",
      "1694\n",
      "1695\n",
      "1732\n",
      "1733\n",
      "1736\n",
      "1747\n",
      "1765\n",
      "1766\n",
      "1786\n",
      "1802\n",
      "1828\n",
      "1855\n",
      "1866\n",
      "1867\n",
      "1868\n",
      "1947\n",
      "1948\n",
      "1953\n",
      "1980\n",
      "1981\n",
      "1993\n",
      "2041\n",
      "2042\n",
      "2043\n",
      "2118\n",
      "2119\n",
      "2132\n",
      "2157\n",
      "2199\n",
      "2200\n",
      "2211\n",
      "2221\n",
      "2231\n",
      "2238\n",
      "2274\n",
      "2317\n",
      "2329\n",
      "2383\n",
      "2436\n",
      "2445\n",
      "2447\n",
      "2459\n",
      "2460\n",
      "2487\n",
      "2490\n",
      "2498\n",
      "2522\n",
      "2523\n",
      "2588\n",
      "2592\n",
      "2660\n",
      "2683\n",
      "2711\n",
      "2745\n",
      "2748\n",
      "2749\n",
      "2774\n",
      "2868\n",
      "2869\n",
      "2870\n",
      "2926\n",
      "2982\n",
      "2984\n",
      "3017\n",
      "3018\n",
      "3039\n",
      "3077\n",
      "3103\n",
      "3123\n",
      "3148\n",
      "3198\n",
      "3201\n",
      "3247\n",
      "3257\n",
      "3317\n",
      "3318\n",
      "3319\n",
      "3322\n",
      "3386\n",
      "3447\n",
      "3458\n",
      "3503\n",
      "3504\n",
      "3506\n",
      "3523\n",
      "3524\n",
      "3525\n",
      "3554\n",
      "3558\n",
      "3561\n",
      "3607\n",
      "3754\n",
      "3776\n",
      "3815\n",
      "3866\n",
      "3868\n",
      "3874\n",
      "3876\n",
      "3889\n",
      "3973\n",
      "3990\n",
      "4009\n",
      "4010\n",
      "4012\n",
      "4020\n",
      "4055\n",
      "4056\n",
      "4067\n",
      "4068\n",
      "4071\n",
      "4074\n",
      "4099\n",
      "4186\n",
      "4190\n",
      "4263\n",
      "4275\n",
      "4414\n",
      "4429\n",
      "4430\n",
      "4431\n",
      "4465\n",
      "4506\n",
      "4509\n",
      "4525\n",
      "4526\n",
      "4528\n",
      "4560\n",
      "4595\n",
      "4621\n",
      "4635\n",
      "4670\n",
      "4671\n",
      "4679\n",
      "4685\n",
      "4702\n",
      "4703\n",
      "4732\n",
      "4752\n",
      "4753\n",
      "4787\n",
      "4790\n",
      "4859\n",
      "4860\n",
      "4861\n",
      "4862\n",
      "4926\n",
      "4996\n",
      "5009\n",
      "5033\n",
      "5066\n",
      "5104\n",
      "5143\n",
      "5144\n",
      "5145\n",
      "5193\n",
      "5202\n",
      "5219\n",
      "5220\n",
      "5239\n",
      "5249\n",
      "5250\n",
      "5298\n",
      "5308\n",
      "5366\n",
      "5367\n",
      "5378\n",
      "5383\n",
      "5391\n",
      "5421\n",
      "5423\n",
      "5424\n",
      "5425\n",
      "5441\n",
      "5448\n",
      "5449\n",
      "5476\n",
      "5542\n",
      "5555\n",
      "5592\n",
      "5664\n",
      "5743\n",
      "5745\n",
      "5747\n",
      "5749\n",
      "5757\n",
      "5765\n",
      "5820\n",
      "5868\n",
      "5869\n",
      "5892\n",
      "5895\n",
      "5899\n",
      "5913\n",
      "5919\n",
      "5934\n",
      "5935\n",
      "5937\n",
      "5938\n",
      "5965\n",
      "5966\n",
      "5985\n",
      "5988\n",
      "6005\n",
      "6010\n",
      "6055\n",
      "6058\n",
      "6080\n",
      "6081\n",
      "6082\n",
      "6094\n",
      "6119\n",
      "6190\n",
      "6258\n",
      "6298\n",
      "6299\n",
      "6344\n",
      "6345\n",
      "6399\n",
      "6400\n",
      "6401\n",
      "6499\n",
      "6503\n",
      "6504\n",
      "6505\n",
      "6512\n",
      "6520\n",
      "6521\n",
      "6524\n",
      "6562\n",
      "6591\n",
      "6601\n",
      "6602\n",
      "6615\n",
      "6653\n",
      "6663\n",
      "6722\n",
      "6784\n",
      "6785\n",
      "6791\n",
      "6811\n"
     ]
    }
   ],
   "source": [
    "for i in range(len(relations_all)):\n",
    "    if relations_true[i][0] not in relations_all[i]:\n",
    "        print(i)"
   ]
  },
  {
   "cell_type": "code",
   "execution_count": 51,
   "id": "1e040afd",
   "metadata": {},
   "outputs": [
    {
     "data": {
      "text/plain": [
       "\"Immobilization, while Paget's bone disease was present, and perhaps enhanced activation of dihydrotachysterol by rifampicin, could have led to increased calcium-release into the circulation.\""
      ]
     },
     "execution_count": 51,
     "metadata": {},
     "output_type": "execute_result"
    }
   ],
   "source": [
    "test[1]['text']"
   ]
  },
  {
   "cell_type": "code",
   "execution_count": 52,
   "id": "1ae88f25",
   "metadata": {},
   "outputs": [
    {
     "data": {
      "text/plain": [
       "[['increased calcium release', 'dihydrotachysterol', 'has'],\n",
       " ['dihydrotachysterol', 'increased calcium release', 'has']]"
      ]
     },
     "execution_count": 52,
     "metadata": {},
     "output_type": "execute_result"
    }
   ],
   "source": [
    "relations_all[1]"
   ]
  },
  {
   "cell_type": "code",
   "execution_count": 53,
   "id": "2f32c689",
   "metadata": {},
   "outputs": [],
   "source": [
    "recall_avg=[]\n",
    "precision_avg=[]\n",
    "common=0\n",
    "ours=0\n",
    "\n",
    "for i in range(len(relations_all)):\n",
    "    true_set=relations_true[i]\n",
    "    pred_set=relations_all[i]\n",
    "    d={}\n",
    "    for item in pred_set:\n",
    "        if (item[0],item[1]) not in d and (item[1],item[0]) not in d:\n",
    "            d[(item[0],item[1])]=item[2]\n",
    "    \n",
    "    ours+=len(d)\n",
    "    if len(true_set) == 0 and len(pred_set) == 0:\n",
    "        recall_avg.append(1.0)\n",
    "        precision_avg.append(1.0)\n",
    "    else:\n",
    "        count=0\n",
    "        for m in true_set:\n",
    "            for n in pred_set:\n",
    "                \n",
    "                if (m[0]==n[0]) and m[1]==n[1] and (m[2]==n[2]):\n",
    "                    count+= 1\n",
    "        recall = count/ len(true_set) if len(true_set) > 0 else 0\n",
    "        precision = count / len(d) if len(d) > 0 else 0\n",
    "        common += count\n",
    "        recall_avg.append(recall)\n",
    "        precision_avg.append(precision)"
   ]
  },
  {
   "cell_type": "code",
   "execution_count": 54,
   "id": "6aba707d",
   "metadata": {},
   "outputs": [
    {
     "data": {
      "text/plain": [
       "(0.9524996334848262, 0.9524996334848262)"
      ]
     },
     "execution_count": 54,
     "metadata": {},
     "output_type": "execute_result"
    }
   ],
   "source": [
    "sum(recall_avg) / len(recall_avg), sum(precision_avg) / len(precision_avg)"
   ]
  },
  {
   "cell_type": "code",
   "execution_count": 35,
   "id": "e4be9ae6",
   "metadata": {},
   "outputs": [
    {
     "name": "stderr",
     "output_type": "stream",
     "text": [
      "/home/bt19d200/NER_Vamshi/NER_Model/.conda/lib/python3.10/site-packages/transformers/convert_slow_tokenizer.py:561: UserWarning: The sentencepiece tokenizer that you are converting to a fast tokenizer uses the byte fallback option which is not implemented in the fast tokenizers. In practice this means that the fast version of the tokenizer can produce unknown tokens whereas the sentencepiece version would have converted these unknown tokens into a sequence of byte tokens matching the original piece of text.\n",
      "  warnings.warn(\n",
      "100%|██████████| 6821/6821 [24:31<00:00,  4.64it/s]"
     ]
    },
    {
     "name": "stdout",
     "output_type": "stream",
     "text": [
      "Success! ✅\n"
     ]
    },
    {
     "name": "stderr",
     "output_type": "stream",
     "text": [
      "\n"
     ]
    }
   ],
   "source": [
    "from pair2rel import Pair2Rel\n",
    "\n",
    "from tqdm import tqdm\n",
    "model = Pair2Rel.from_pretrained(\"chapalavamshi022/pair2rel\")\n",
    "import torch\n",
    "import re\n",
    "# Force usage of GPU 1\n",
    "device = torch.device(\"cuda:3\" if torch.cuda.is_available() else \"cpu\")\n",
    "model = model.to(device)\n",
    "model.device = device \n",
    "relations_all=[]\n",
    "labels = ['has']\n",
    "for i in tqdm(range(len(test))):\n",
    "    # required_labels = []\n",
    "    # for token in processed_data[i]['tokens']:\n",
    "    #     if token in rel_set:\n",
    "    #         required_labels.append(token)\n",
    "    tokens = re.split(r'[ -.,:;/?\\]\\[]+', test[i]['text'])\n",
    "    try:\n",
    "\n",
    "        relations = model.predict_relations(tokens, labels, threshold=0.0, ner=pred_ner[i], top_k=1)\n",
    "\n",
    "        sorted_data_desc = sorted(relations, key=lambda x: x['score'], reverse=True)\n",
    "        temp=[]\n",
    "        for item in sorted_data_desc:\n",
    "            head=' '.join(item['head_text'])\n",
    "            tail=' '.join(item['tail_text'])\n",
    "            if head == tail:\n",
    "                continue\n",
    "            temp.append([head,tail,item['label']])\n",
    "\n",
    "        relations_all.append(temp)\n",
    "    except:\n",
    "        relations_all.append([])\n",
    "        \n",
    "\n",
    "print(\"Success! ✅\")\n"
   ]
  },
  {
   "cell_type": "code",
   "execution_count": 38,
   "id": "60fc9ad3",
   "metadata": {},
   "outputs": [],
   "source": [
    "recall_avg=[]\n",
    "precision_avg=[]\n",
    "common=0\n",
    "ours=0\n",
    "\n",
    "for i in range(len(relations_all)):\n",
    "    true_set=relations_true[i]\n",
    "    pred_set=relations_all[i]\n",
    "    d={}\n",
    "    for item in pred_set:\n",
    "        if (item[0],item[1]) not in d and (item[1],item[0]) not in d:\n",
    "            d[(item[0],item[1])]=item[2]\n",
    "    \n",
    "    ours+=len(d)\n",
    "    if len(true_set) == 0 and len(pred_set) == 0:\n",
    "        recall_avg.append(1.0)\n",
    "        precision_avg.append(1.0)\n",
    "    else:\n",
    "        count=0\n",
    "        for m in true_set:\n",
    "            for n in pred_set:\n",
    "                if m[0] in n[0] and m[1] in n[1] and (m[2]==n[2]):\n",
    "                    count+= 1\n",
    "        recall = count/ len(true_set) if len(true_set) > 0 else 0\n",
    "        precision = count / len(d) if len(d) > 0 else 0\n",
    "        common += count\n",
    "        recall_avg.append(recall)\n",
    "        precision_avg.append(precision)"
   ]
  },
  {
   "cell_type": "code",
   "execution_count": 39,
   "id": "a8b08fef",
   "metadata": {},
   "outputs": [
    {
     "data": {
      "text/plain": [
       "(0.6116405219176074, 0.2600283059233326)"
      ]
     },
     "execution_count": 39,
     "metadata": {},
     "output_type": "execute_result"
    }
   ],
   "source": [
    "sum(recall_avg) / len(recall_avg), sum(precision_avg) / len(precision_avg)"
   ]
  },
  {
   "cell_type": "code",
   "execution_count": null,
   "id": "4895daff",
   "metadata": {},
   "outputs": [],
   "source": []
  }
 ],
 "metadata": {
  "kernelspec": {
   "display_name": "Python 3",
   "language": "python",
   "name": "python3"
  },
  "language_info": {
   "codemirror_mode": {
    "name": "ipython",
    "version": 3
   },
   "file_extension": ".py",
   "mimetype": "text/x-python",
   "name": "python",
   "nbconvert_exporter": "python",
   "pygments_lexer": "ipython3",
   "version": "3.10.16"
  }
 },
 "nbformat": 4,
 "nbformat_minor": 5
}
