{
 "cells": [
  {
   "cell_type": "code",
   "execution_count": 1,
   "id": "efe17c08",
   "metadata": {},
   "outputs": [],
   "source": [
    "import json"
   ]
  },
  {
   "cell_type": "code",
   "execution_count": 2,
   "id": "0712c95f",
   "metadata": {},
   "outputs": [],
   "source": [
    "data=[]\n",
    "with open('scierc_data.json', 'r') as file:\n",
    "    for lines in file:\n",
    "        # Process each line as needed\n",
    "        # For example, if each line is a JSON object, you can parse it\n",
    "        data.append(json.loads(lines))"
   ]
  },
  {
   "cell_type": "code",
   "execution_count": 3,
   "id": "394db6ce",
   "metadata": {},
   "outputs": [],
   "source": [
    "new_data = []\n",
    "for i in range(len(data)):\n",
    "    cnt=0\n",
    "    for j in range(len(data[i]['sentences'])):\n",
    "        ner=[]\n",
    "        for k in range(len(data[i]['ner'][j])):\n",
    "            if data[i]['ner'][j][k]:\n",
    "                \n",
    "                start = data[i]['ner'][j][k][0]-cnt\n",
    "                end= data[i]['ner'][j][k][1]-cnt\n",
    "                word=' '.join(data[i]['sentences'][j][start:end+1])\n",
    "                ner.append([start, end, word,data[i]['ner'][j][k][2]])\n",
    "        relations=[]\n",
    "        for k in range(len(data[i]['relations'][j])):\n",
    "            if data[i]['relations'][j][k]:\n",
    "                start = data[i]['relations'][j][k][0]-cnt\n",
    "                end= data[i]['relations'][j][k][1]-cnt\n",
    "                word1=' '.join(data[i]['sentences'][j][start:end+1])\n",
    "                start = data[i]['relations'][j][k][2]-cnt\n",
    "                end= data[i]['relations'][j][k][3]-cnt\n",
    "                word2=' '.join(data[i]['sentences'][j][start:end+1])\n",
    "                relations.append([word1, word2, data[i]['relations'][j][k][4]])\n",
    "        cnt+=len(data[i]['sentences'][j])\n",
    "            \n",
    "        new_data.append({\n",
    "            'sentence': data[i]['sentences'][j],\n",
    "            'ner': ner,\n",
    "            'relations': relations\n",
    "        })"
   ]
  },
  {
   "cell_type": "code",
   "execution_count": 4,
   "id": "971b5b84",
   "metadata": {},
   "outputs": [
    {
     "data": {
      "text/plain": [
       "['It',\n",
       " 'has',\n",
       " 'also',\n",
       " 'been',\n",
       " 'studied',\n",
       " 'in',\n",
       " 'the',\n",
       " 'framework',\n",
       " 'of',\n",
       " 'Japanese',\n",
       " 'information',\n",
       " 'extraction',\n",
       " '-LRB-',\n",
       " '-LSB-',\n",
       " '3',\n",
       " '-RSB-',\n",
       " '-RRB-',\n",
       " 'in',\n",
       " 'recent',\n",
       " 'years',\n",
       " '.']"
      ]
     },
     "execution_count": 4,
     "metadata": {},
     "output_type": "execute_result"
    }
   ],
   "source": [
    "new_data[1]['sentence']"
   ]
  },
  {
   "cell_type": "code",
   "execution_count": 5,
   "id": "718ed17b",
   "metadata": {},
   "outputs": [
    {
     "data": {
      "text/plain": [
       "[[0, 0, 'It', 'Generic'], [9, 11, 'Japanese information extraction', 'Task']]"
      ]
     },
     "execution_count": 5,
     "metadata": {},
     "output_type": "execute_result"
    }
   ],
   "source": [
    "new_data[1]['ner']"
   ]
  },
  {
   "cell_type": "code",
   "execution_count": 6,
   "id": "a4878038",
   "metadata": {},
   "outputs": [],
   "source": [
    "entity_labels=set()\n",
    "entity_labels_true_count={}\n",
    "other={}\n",
    "for i in range(len(new_data)):\n",
    "    for j in new_data[i]['ner']:\n",
    "        if j[3] not in entity_labels_true_count:\n",
    "            entity_labels_true_count[j[3]] = 0\n",
    "        if j[3]=='OtherScientificTerm':\n",
    "            if j[2] not in other:\n",
    "                other[j[2]]=0\n",
    "            other[j[2]]+=1\n",
    "        entity_labels_true_count[j[3]] += 1\n",
    "        entity_labels.add(j[3])"
   ]
  },
  {
   "cell_type": "code",
   "execution_count": 7,
   "id": "cbde7f39",
   "metadata": {},
   "outputs": [
    {
     "data": {
      "text/plain": [
       "{'proper nouns': 1,\n",
       " 'proper names , numerical and temporal expressions': 1,\n",
       " 'Named Entity -LRB- NE -RRB- items': 1,\n",
       " 'NE items': 2,\n",
       " 'dictionaries': 1,\n",
       " 'Japanese character strings': 1,\n",
       " 'rules': 4,\n",
       " 'NE item': 1,\n",
       " 'priori geometric constraints': 1,\n",
       " 'image information': 1,\n",
       " '3 -- D shape': 1,\n",
       " 'objective function': 1,\n",
       " 'regularization': 1,\n",
       " 'triangulations': 1,\n",
       " 'vertices': 1,\n",
       " 'Structural or numerical constraints': 1,\n",
       " 'priori knowledge': 1,\n",
       " 'object shape': 1,\n",
       " 'modeling properties': 1,\n",
       " 'differential features': 1,\n",
       " 'lack of structures': 1,\n",
       " 'speech syntax': 1,\n",
       " 'Labeled data': 1,\n",
       " 'hand-crafted rules': 1,\n",
       " 'syntactic knowledge': 1,\n",
       " 'complex tree structures': 1,\n",
       " \"discriminative model 's posterior\": 1,\n",
       " 'sparse se-lectional preferences': 1,\n",
       " 'nominal compounds': 1,\n",
       " 'productive rules of interpretation': 1,\n",
       " 'morpho-syntactic and semantic characteristics': 1,\n",
       " 'nominal constituents': 1,\n",
       " 'predicative information': 1,\n",
       " 'nominals': 1,\n",
       " 'generalizable semantic principles': 1,\n",
       " 'domain-specific semantic information': 1,\n",
       " 'semantic information': 1,\n",
       " 'histogram information': 1,\n",
       " 'large-scale structures': 1,\n",
       " 'distinctive textured patterns': 1,\n",
       " 'rotation': 1,\n",
       " 'illumination variation': 1,\n",
       " 'blur': 1,\n",
       " 'blur and illumination changes': 1,\n",
       " 'semantic caseframe instantiation': 1,\n",
       " 'grammatical input': 1,\n",
       " 'ungrammatical input': 1,\n",
       " 'passives': 2,\n",
       " 'relative clauses': 2,\n",
       " 'interrogatives': 2,\n",
       " 'patchy syntactic coverage': 1,\n",
       " 'relations between named entities': 1,\n",
       " 'lexical and syntactic features': 1,\n",
       " 'eigenvectors': 2,\n",
       " \"adjacency graph 's Laplacian\": 1,\n",
       " 'submanifold': 1,\n",
       " 'high dimensionality space': 1,\n",
       " 'strings': 1,\n",
       " 'trees': 1,\n",
       " 'dags': 1,\n",
       " 'graphs': 1,\n",
       " 'polarization': 1,\n",
       " 'elementary structures': 1,\n",
       " 'TAG': 1,\n",
       " 'HPSG': 1,\n",
       " 'LFG': 1,\n",
       " 'high-density , low-power analog array': 1,\n",
       " 'random statistics': 1,\n",
       " 'analog summation of binary products': 1,\n",
       " 'near-Bernoulli statistics': 1,\n",
       " 'CID/DRAM analog array prototype': 1,\n",
       " 'affine case': 1,\n",
       " 'registered tensors': 1,\n",
       " 'affine specialization': 1,\n",
       " 'geometric interpretation': 1,\n",
       " 'point correspondences': 1,\n",
       " 'line correspondences': 1,\n",
       " 'type of unit classifier': 1,\n",
       " 'concept hierarchy constraints': 1,\n",
       " 'frequency of occurrences': 1,\n",
       " 'transparent objects': 3,\n",
       " 'features': 9,\n",
       " 'transparent object': 1,\n",
       " 'shapes and the poses of transparent objects': 1,\n",
       " 'known motion': 1,\n",
       " 'multiple layers': 1,\n",
       " 'refractive indices': 1,\n",
       " 'shapes of the objects': 1,\n",
       " 'appearance information': 1,\n",
       " 'geometric constraints': 1,\n",
       " '3D viewpoint transformations': 1,\n",
       " 'salient image features': 1,\n",
       " 'discretized viewpoints': 1,\n",
       " 'viewpoints': 1,\n",
       " 'position': 1,\n",
       " 'viewpoint': 1,\n",
       " 'packed parse forests': 1,\n",
       " 'data matrix': 1,\n",
       " 'low rank part': 1,\n",
       " 'sparse residual': 1,\n",
       " 'low rank plus sparse structure': 1,\n",
       " 'side information': 4,\n",
       " 'prior structure': 1,\n",
       " 'features of entities': 1,\n",
       " 'low rank matrix': 1,\n",
       " 'low rank matrices': 1,\n",
       " 'demonstrative expressions': 1,\n",
       " 'demonstrative forms and functions': 1,\n",
       " 'anaphoric expressions': 1,\n",
       " 'expression and perception of emotion': 1,\n",
       " 'activation-valence space': 1,\n",
       " 'nonstationarity': 1,\n",
       " 'original signals': 1,\n",
       " 'Cramér-Rao lower bound -RRB-': 1,\n",
       " 'natural speech signals': 1,\n",
       " 'syntactic structure information': 1,\n",
       " 'syntactic structure features': 1,\n",
       " 'parse tree': 1,\n",
       " 'Combinatory Categorial Grammar -LRB- CCG -RRB- lexicon': 1,\n",
       " 'compact lexicon': 1,\n",
       " 'structure of email-threads': 1,\n",
       " 'lexical similarity': 1,\n",
       " 'discourse segments': 1,\n",
       " 'prior on the distribution of natural images': 1,\n",
       " 'overfitting': 1,\n",
       " 'prior on natural images': 1,\n",
       " 'hyperplane': 1,\n",
       " 'clustering function': 1,\n",
       " 'event map': 1,\n",
       " 'dense sub-pixel camera-projector correspondence': 1,\n",
       " 'photometric calibration': 1,\n",
       " 'relative geometry': 1,\n",
       " 'zero-crossings': 1,\n",
       " 'unstructured patterns': 1,\n",
       " 'gray-level band-pass white noise patterns': 1,\n",
       " 'indirect lighting': 1,\n",
       " 'scene discontinuities': 1,\n",
       " 'scene geometry': 1,\n",
       " 'subcategorization frames -LRB- scfs -RRB-': 1,\n",
       " 'grammatical relations -LRB- grs -RRB-': 1,\n",
       " 'pattern-matching language': 1,\n",
       " 'grs': 1,\n",
       " 'inheritance-based lexica': 1,\n",
       " 'scfs': 1,\n",
       " 'vertebrate retina': 1,\n",
       " 'complex programmable spatio-temporal dynamics': 1,\n",
       " 'prototype chip': 1,\n",
       " 'CMOS process': 1,\n",
       " 'ambiguity': 1,\n",
       " 'eye gaze': 1,\n",
       " 'head nods': 1,\n",
       " 'attentional focus': 1,\n",
       " 'nonverbal behaviors': 1,\n",
       " 'dialogue move': 1,\n",
       " 'negative feedback': 1,\n",
       " 'verbal and nonverbal grounding acts': 1,\n",
       " 'dialogue state': 1,\n",
       " 'speech recognition output': 2,\n",
       " 'human transcriptions': 1,\n",
       " 'PTZ cameras': 2,\n",
       " 'geometric , appearance , or correlation-based information': 1,\n",
       " 'static cameras': 1,\n",
       " 'wide-area settings': 1,\n",
       " 'slave camera': 1,\n",
       " 'model transfer': 1,\n",
       " 'logistic softmax function of covariance-based region features': 1,\n",
       " 'multiple PTZ camera sequences': 1,\n",
       " 'outdoor surveillance settings': 1,\n",
       " 'sampling probabilities': 1,\n",
       " 'aggregate queries': 1,\n",
       " 'loss': 2,\n",
       " 'regressed-to values': 1,\n",
       " 'hard budget constraints': 1,\n",
       " 'reg-ularization': 1,\n",
       " 'probabilistic finite automaton': 1,\n",
       " 'lighting': 1,\n",
       " 'pose': 3,\n",
       " 'user motion pattern': 1,\n",
       " 'extreme illumination changes': 1,\n",
       " 'smoothness': 1,\n",
       " 'geodesically local appearance manifold structure': 1,\n",
       " 'unseen head poses': 1,\n",
       " 'face motion patterns': 1,\n",
       " 'illumination': 2,\n",
       " 'head motion variation': 1,\n",
       " 'expected loss': 1,\n",
       " 'translation errors': 1,\n",
       " 'loss functions': 3,\n",
       " 'linguistic information': 2,\n",
       " 'word-to-word alignments': 1,\n",
       " 'syntactic structure': 1,\n",
       " 'parse-trees': 1,\n",
       " 'NL requirements': 1,\n",
       " 'contextual reference': 1,\n",
       " 'addressee of a dialogue act': 1,\n",
       " 'gaze': 1,\n",
       " 'utterance': 1,\n",
       " 'conversational context features': 1,\n",
       " 'meeting context': 2,\n",
       " 'conversational context': 1,\n",
       " 'utterance features': 1,\n",
       " \"speaker 's gaze information\": 1,\n",
       " 'machine translation output': 1,\n",
       " 'expert human translations': 1,\n",
       " 'machine translation outputs': 1,\n",
       " 'expert human translation': 1,\n",
       " 'machine translation': 1,\n",
       " 'probabilistic Horn clauses': 1,\n",
       " 'clauses': 1,\n",
       " 'domain independent features': 1,\n",
       " 'Horn clauses': 1,\n",
       " 'distributional word feature vectors': 1,\n",
       " 'feature vectors': 1,\n",
       " 'Reflections': 1,\n",
       " 'Reflections in image sequences': 1,\n",
       " 'motion trajectories': 1,\n",
       " 'feature points': 1,\n",
       " 'reflection': 1,\n",
       " 'priors': 1,\n",
       " 'sparse and dense detection maps': 1,\n",
       " 'pathological motion': 1,\n",
       " 'occlusion': 2,\n",
       " '2D point correspondences': 1,\n",
       " 'temporal prior': 1,\n",
       " 'smooth motion': 1,\n",
       " 'trajectory basis': 1,\n",
       " 'global optimality': 1,\n",
       " 'filter interactions': 1,\n",
       " 'textual credibility indicators': 1,\n",
       " 'credibility indicators': 1,\n",
       " 'probability distribution': 1,\n",
       " 'computer Go': 1,\n",
       " 'stand-alone Go player': 1,\n",
       " 'Go players': 1,\n",
       " 'local pattern context': 1,\n",
       " 'concept': 1,\n",
       " 'word sense': 1,\n",
       " 'topic signature': 1,\n",
       " 'Topic signatures': 1,\n",
       " 'word senses': 1,\n",
       " 'topic signatures': 1,\n",
       " 'joint eigenstructure': 1,\n",
       " 'first-order upper bound': 1,\n",
       " 'posteriori bound': 1,\n",
       " 'psycholinguistic literature': 1,\n",
       " 'syntactic priming': 1,\n",
       " 'priming': 2,\n",
       " 'coordinate structures': 1,\n",
       " 'parallel structures': 1,\n",
       " 'manual interaction': 1,\n",
       " 'active sensing devices': 1,\n",
       " 'synthetic scenes': 1,\n",
       " 'view points': 1,\n",
       " 'multiple depth maps': 1,\n",
       " 'domain expert': 1,\n",
       " 'shape information': 1,\n",
       " 'mixtures of feature distributions': 1,\n",
       " 'color': 1,\n",
       " 'texture': 1,\n",
       " 'probabilistic shape knowledge': 1,\n",
       " 'natural language environment': 1,\n",
       " 'reference failures': 1,\n",
       " \"speaker 's intention\": 1,\n",
       " 'predominant senses': 1,\n",
       " 'prior knowledge': 2,\n",
       " 'Prolog': 2,\n",
       " 'programming language': 1,\n",
       " 'logic': 1,\n",
       " 'Prolog subset of logic': 1,\n",
       " 'logical expression': 1,\n",
       " 'Prolog form': 1,\n",
       " 'action type': 2,\n",
       " 'action positions': 1,\n",
       " 'temporal localiza-tion information': 1,\n",
       " 'joint classification and regression optimization objective': 1,\n",
       " 'long-range temporal dynamics': 1,\n",
       " 'computational efficiency': 1,\n",
       " 'part of speech information': 1,\n",
       " 'local mode of the similarity measure': 1,\n",
       " 'parameter space of translation , rotation and scale': 1,\n",
       " 'parameter space': 1,\n",
       " 'sampled parameter space': 1,\n",
       " 'heavy occlusion': 1,\n",
       " 'camera motions': 1,\n",
       " 'utterances': 1,\n",
       " 'subjective human judgments': 1,\n",
       " 'cameras': 1,\n",
       " 'computer monitor': 1,\n",
       " 'virtual camera': 1,\n",
       " 'arbitrary position': 1,\n",
       " 'eye contact': 1,\n",
       " 'compact geometric derivation': 1,\n",
       " 'temporal artefacts -LRB- flicker -RRB-': 1,\n",
       " 'three-dimensional matching cost space': 1,\n",
       " 'spatial and temporal artefacts': 1,\n",
       " 'cyclopean views': 1,\n",
       " 'translating virtual camera': 1,\n",
       " 'cooccurrence patterns': 1,\n",
       " 'semantic constraints': 2,\n",
       " 'anaphora references': 1,\n",
       " 'syntactic ambiguities': 1,\n",
       " 'cooccurrence statistics': 1,\n",
       " 'word reordering': 1,\n",
       " 'parse forest': 1,\n",
       " 'recursive ascent parsers': 1,\n",
       " 'regular expressions': 1,\n",
       " 'discourse': 10,\n",
       " 'discourse structure': 1,\n",
       " 'linguistic structure': 2,\n",
       " 'intentional structure': 2,\n",
       " 'attentional state': 4,\n",
       " 'discourse-relevant purposes': 1,\n",
       " 'discourse phenomena': 1,\n",
       " 'cue phrases': 2,\n",
       " 'referring expressions': 2,\n",
       " 'interruptions': 2,\n",
       " 'discourses': 1,\n",
       " 'linguistic expressiveness': 1,\n",
       " 'sentence-level and text-level anaphora': 1,\n",
       " 'text-level anaphora': 1,\n",
       " 'text revision': 1,\n",
       " 'UNL graphs': 1,\n",
       " 'graph': 4,\n",
       " 'liaisons': 1,\n",
       " 'canonical graph2tree transformation': 1,\n",
       " 'UNL-tree + L0': 1,\n",
       " 'MS-L0 structure': 1,\n",
       " 'lattice': 1,\n",
       " 'crossing liaisons': 1,\n",
       " 'analogies': 1,\n",
       " 'analogy': 1,\n",
       " 'weighted sum': 1,\n",
       " 'ranks': 1,\n",
       " 'weighted rank loss': 1,\n",
       " 'Kernel space embedding': 1,\n",
       " 'training and prediction costs': 1,\n",
       " 'data dimension': 1,\n",
       " 'matrix rank degeneration': 1,\n",
       " 'non-isolated minima': 1,\n",
       " 'or-thonormality': 1,\n",
       " 'learned matrix': 1,\n",
       " 'word list': 2,\n",
       " 'nucleotide': 1,\n",
       " 'DNA strand': 1,\n",
       " 'preceding nucleotides': 1,\n",
       " 'latent variables': 1,\n",
       " 'jointly Gaussian likelihoods': 1,\n",
       " 'minimal overhead': 1,\n",
       " 'error bound': 1,\n",
       " 'dynamic range of the sensor': 1,\n",
       " 'complex range': 1,\n",
       " 'context-free phrase structure rules': 1,\n",
       " 'metarules -LRB- MPS grammars -RRB-': 1,\n",
       " 'syntax of natural languages': 1,\n",
       " 'syntax': 1,\n",
       " 'expressions of natural languages': 1,\n",
       " 'semantics': 1,\n",
       " 'logical form language': 1,\n",
       " 'natural language': 1,\n",
       " 'syntax proper': 1,\n",
       " 'constant linear drift': 1,\n",
       " 'pen trajectory': 1,\n",
       " 'writing intelligibility': 1,\n",
       " 'cycloidal motion parameters': 1,\n",
       " 'continuous pen motion': 1,\n",
       " 'pose information': 1,\n",
       " 'layers': 1,\n",
       " 'object pose information': 1,\n",
       " 'legal text hierarchy': 1,\n",
       " 'Light fields': 1,\n",
       " 'densely sampled rays': 1,\n",
       " 'scene description': 1,\n",
       " 'ray space': 2,\n",
       " 'continuous and non-overlapping simplices': 1,\n",
       " 'triangulation': 1,\n",
       " 'piecewise-linear interpolant': 1,\n",
       " 'light field space': 1,\n",
       " '3D line segments': 1,\n",
       " 'bilinear subspaces': 2,\n",
       " 'line constraints': 1,\n",
       " '3D line constraints': 1,\n",
       " 'Translations': 1,\n",
       " \"UNIX and Windows '95 platforms\": 1,\n",
       " 'user-study': 1,\n",
       " 'tag contexts': 1,\n",
       " 'lexical features': 1,\n",
       " 'multiple consecutive words': 1,\n",
       " 'priors in conditional loglinear models': 1,\n",
       " 'camera view': 1,\n",
       " 'feature space': 1,\n",
       " 'feature extraction': 1,\n",
       " 'geodesic distance': 2,\n",
       " 'Euclidean distance': 2,\n",
       " 'local range': 2,\n",
       " 'graphical relationship': 1,\n",
       " 'CNN embedding': 1,\n",
       " 'intra-class variations': 1,\n",
       " 'metric weight constraint': 1,\n",
       " 'learned metric': 1,\n",
       " 'generalization ability': 1,\n",
       " 'robust deep metrics': 1,\n",
       " 'spontaneous speech': 1,\n",
       " 'out-of-vocabulary -LRB- OOV -RRB- words': 1,\n",
       " 'acoustic noises': 1,\n",
       " 'decoded string hypotheses': 1,\n",
       " 'OOV words': 1,\n",
       " 'noises': 1,\n",
       " 'hierarchical structure': 1,\n",
       " 'analog pressure wave': 1,\n",
       " 'discrete nerve-action potentials': 1,\n",
       " 'inner hair cell synapse': 1,\n",
       " 'AN fibers -LRB- ANFs -RRB-': 1,\n",
       " 'onset neurons -LRB- ONs -RRB-': 1,\n",
       " 'auditory brainstem': 1,\n",
       " 'ANF-based and ON-based auditory features': 1,\n",
       " 'MSG -LRB- Modulation-filtered Spec-troGram -RRB- auditory features': 1,\n",
       " 'pixel-level labels': 1,\n",
       " 'pixel-accurate semantic label maps': 1,\n",
       " 'modern computer games': 1,\n",
       " 'soft , binary mattes': 1,\n",
       " 'hypothesized object boundary fragments': 1,\n",
       " 'delineation of scene objects': 1,\n",
       " 'different-quality references': 1,\n",
       " 'phonological and morphological rules': 1,\n",
       " 'word structures': 1,\n",
       " 'productive affixations of derivational and inflectional suffixes': 1,\n",
       " 'finite-state': 1,\n",
       " 'Morphemes': 1,\n",
       " 'verbal structure': 1,\n",
       " 'adverbial constructs': 1,\n",
       " 'phonetic rules': 1,\n",
       " 'vowel harmony': 1,\n",
       " 'fundamental frequency -LRB- F0 -RRB- contour of speech': 1,\n",
       " 'speech F0 contours': 1,\n",
       " 'remarkable feature': 1,\n",
       " 'Fujisaki-model parameters': 2,\n",
       " 'raw F0 contours': 1,\n",
       " 'classifier functions': 1,\n",
       " 'nonlinear quality functions': 1,\n",
       " 'static or quasi-static structures': 1,\n",
       " 'persistent dynamic behavior': 1,\n",
       " 'optical flow': 1,\n",
       " 'feature': 1,\n",
       " 'higher dimensional space': 1,\n",
       " 'ambiguities': 1,\n",
       " 'data-dependent bandwidth': 1,\n",
       " 'information extraction annotations': 1,\n",
       " 'distillation queries': 1,\n",
       " 'annotation elements': 1,\n",
       " 'ACE events': 1,\n",
       " 'three-dimensional objects': 1,\n",
       " 'affine-invariant image patches': 1,\n",
       " 'spatial relationships': 1,\n",
       " 'Multi-view constraints': 1,\n",
       " 'cluttered scenes': 1,\n",
       " 'distance': 1,\n",
       " '1 distance': 1,\n",
       " 'distance-preserving embedding': 1}"
      ]
     },
     "execution_count": 7,
     "metadata": {},
     "output_type": "execute_result"
    }
   ],
   "source": [
    "other"
   ]
  },
  {
   "cell_type": "code",
   "execution_count": 8,
   "id": "7c52808d",
   "metadata": {},
   "outputs": [
    {
     "data": {
      "text/plain": [
       "{'Task': 263,\n",
       " 'OtherScientificTerm': 522,\n",
       " 'Material': 158,\n",
       " 'Generic': 241,\n",
       " 'Method': 430,\n",
       " 'Metric': 71}"
      ]
     },
     "execution_count": 8,
     "metadata": {},
     "output_type": "execute_result"
    }
   ],
   "source": [
    "entity_labels_true_count"
   ]
  },
  {
   "cell_type": "code",
   "execution_count": 9,
   "id": "b17f7956",
   "metadata": {},
   "outputs": [
    {
     "data": {
      "text/plain": [
       "{'Generic', 'Material', 'Method', 'Metric', 'OtherScientificTerm', 'Task'}"
      ]
     },
     "execution_count": 9,
     "metadata": {},
     "output_type": "execute_result"
    }
   ],
   "source": [
    "entity_labels"
   ]
  },
  {
   "cell_type": "code",
   "execution_count": 11,
   "id": "76f99209",
   "metadata": {},
   "outputs": [
    {
     "name": "stderr",
     "output_type": "stream",
     "text": [
      "Fetching 4 files: 100%|██████████| 4/4 [00:00<00:00, 36314.32it/s]\n",
      "/home/bt19d200/NER_Vamshi/NER_Model/.conda/lib/python3.10/site-packages/transformers/convert_slow_tokenizer.py:561: UserWarning: The sentencepiece tokenizer that you are converting to a fast tokenizer uses the byte fallback option which is not implemented in the fast tokenizers. In practice this means that the fast version of the tokenizer can produce unknown tokens whereas the sentencepiece version would have converted these unknown tokens into a sequence of byte tokens matching the original piece of text.\n",
      "  warnings.warn(\n",
      "  0%|          | 0/551 [00:00<?, ?it/s]Asking to truncate to max_length but no maximum length is provided and the model has no predefined maximum length. Default to no truncation.\n",
      "100%|██████████| 551/551 [00:40<00:00, 13.68it/s]\n"
     ]
    }
   ],
   "source": [
    "from gliner import GLiNER\n",
    "\n",
    "import os\n",
    "import torch\n",
    "from tqdm import tqdm\n",
    "\n",
    "# text=\"The branding of the CSAT survey email has been made generic to ensure that end customers do not associate it with DevRev.\"\n",
    "model=GLiNER.from_pretrained(\"urchade/gliner_large-v2.1\")\n",
    "# Force usage of GPU 1\n",
    "device = torch.device(\"cuda:6\" if torch.cuda.is_available() else \"cpu\")\n",
    "model = model.to(device)\n",
    "predicted_ner=[]\n",
    "entity_labels_predicted_count={}\n",
    "labels=['Language','quantity','Method', 'Models', 'Tools','Task', 'Person', 'Organisation', 'Location', 'Generic', 'Datasets', 'Corpus', 'Material', 'Metric']\n",
    "# labels=all_entities\n",
    "results=[]\n",
    "for i in tqdm(range(len(new_data))):\n",
    "    text=new_data[i]['sentence']\n",
    "    text=' '.join(text)\n",
    "    entities=model.predict_entities(text,labels=labels,threshold=0.5,multi_label=True)\n",
    "    real=set()\n",
    "    import re\n",
    "    temp=[]\n",
    "    # dtokens = re.split(r\"[ ,._:;\\[\\](){}\\/\\?\\r'\\*\\n|!-\\\"<>\\-#@=%&+]+\", text)\n",
    "\n",
    "    for entity in entities:\n",
    "        # ent_text=re.split(r\"[ ,._:;\\[\\](){}\\/\\?\\r'\\*\\n|!-\\\"<>\\-#@=%&+]+\", entity['text'])\n",
    "        if entity['label'] not in entity_labels_predicted_count:\n",
    "            entity_labels_predicted_count[entity['label']]=0\n",
    "        entity_labels_predicted_count[entity['label']]+=1\n",
    "        if entity['text'] not in real:\n",
    "            temp.append([entity['start'], entity['end']-1, entity['label'], entity['text']])\n",
    "\n",
    "        real.add(entity['text'])\n",
    "    real=list(real)\n",
    "    results.append(real)\n",
    "    predicted_ner.append(temp)\n"
   ]
  },
  {
   "cell_type": "code",
   "execution_count": 12,
   "id": "28b25616",
   "metadata": {},
   "outputs": [],
   "source": [
    "pred_ner=[]\n",
    "for i in range(len(new_data)):\n",
    "    text=new_data[i]['sentence']\n",
    "    temp=[]\n",
    "    for j in predicted_ner[i]:\n",
    "        token=j[3].split(' ')\n",
    "        try:\n",
    "            start=text.index(token[0])\n",
    "            end=text.index(token[-1],start)\n",
    "            ent=' '.join(text[start:end+1])\n",
    "            temp.append([start, end, j[2], ent])\n",
    "        except:\n",
    "            pass\n",
    "    pred_ner.append(temp)"
   ]
  },
  {
   "cell_type": "code",
   "execution_count": 13,
   "id": "4c6483b3",
   "metadata": {},
   "outputs": [
    {
     "data": {
      "text/plain": [
       "{'Task': 263,\n",
       " 'OtherScientificTerm': 522,\n",
       " 'Material': 158,\n",
       " 'Generic': 241,\n",
       " 'Method': 430,\n",
       " 'Metric': 71}"
      ]
     },
     "execution_count": 13,
     "metadata": {},
     "output_type": "execute_result"
    }
   ],
   "source": [
    "entity_labels_true_count"
   ]
  },
  {
   "cell_type": "code",
   "execution_count": 14,
   "id": "ab6d7f2a",
   "metadata": {},
   "outputs": [
    {
     "data": {
      "text/plain": [
       "{'Task': 287,\n",
       " 'Language': 182,\n",
       " 'Organisation': 195,\n",
       " 'Datasets': 122,\n",
       " 'Corpus': 151,\n",
       " 'Method': 276,\n",
       " 'Generic': 86,\n",
       " 'Person': 80,\n",
       " 'quantity': 101,\n",
       " 'Tools': 40,\n",
       " 'Models': 201,\n",
       " 'Location': 58,\n",
       " 'Metric': 100,\n",
       " 'Material': 3}"
      ]
     },
     "execution_count": 14,
     "metadata": {},
     "output_type": "execute_result"
    }
   ],
   "source": [
    "entity_labels_predicted_count"
   ]
  },
  {
   "cell_type": "code",
   "execution_count": 15,
   "id": "a5d41dd2",
   "metadata": {},
   "outputs": [
    {
     "data": {
      "image/png": "[encoded data removed]",
      "text/plain": [
       "<Figure size 800x500 with 1 Axes>"
      ]
     },
     "metadata": {},
     "output_type": "display_data"
    }
   ],
   "source": [
    "import matplotlib.pyplot as plt\n",
    "\n",
    "# Merge and map predicted labels\n",
    "entity_labels_count_predicted_mapped = {\n",
    "    'Task': entity_labels_predicted_count.get('Task', 0),\n",
    "    'Material': entity_labels_predicted_count.get('Material', 0)+ entity_labels_predicted_count.get('Tools',0)+entity_labels_predicted_count.get('Datasets',0),\n",
    "    'Generic': entity_labels_predicted_count.get('Organisation', 0) + entity_labels_predicted_count.get('Person', 0)+entity_labels_predicted_count.get('Location',0),\n",
    "    'Method': entity_labels_predicted_count.get('Method', 0) + entity_labels_predicted_count.get('Models', 0),\n",
    "    'Metric': entity_labels_predicted_count.get('Metric',0),\n",
    "    'OtherScientificTerm': entity_labels_predicted_count.get('Corpus',0)+entity_labels_predicted_count.get('quantity',0)+entity_labels_predicted_count.get('Language',0)\n",
    "}\n",
    "\n",
    "# True labels are already in the correct format\n",
    "entity_labels_count_true_mapped = entity_labels_true_count\n",
    "\n",
    "labels = ['Task', 'Material', 'Generic', 'Method','Metric','OtherScientificTerm']\n",
    "counts_pred = [entity_labels_count_predicted_mapped.get(l, 0) for l in labels]\n",
    "counts_true = [entity_labels_count_true_mapped.get(l, 0) for l in labels]\n",
    "\n",
    "x = range(len(labels))\n",
    "plt.figure(figsize=(8, 5))\n",
    "plt.bar(x, counts_pred, width=0.4, label='Predicted', align='center')\n",
    "plt.bar([i + 0.4 for i in x], counts_true, width=0.4, label='True', align='center')\n",
    "plt.xticks([i + 0.2 for i in x], labels)\n",
    "plt.ylabel('Count')\n",
    "plt.title('Entity Label Counts')\n",
    "plt.legend()\n",
    "plt.show()"
   ]
  },
  {
   "cell_type": "code",
   "execution_count": 16,
   "id": "ba058817",
   "metadata": {},
   "outputs": [
    {
     "data": {
      "text/plain": [
       "['several kinds', 'dictionaries', 'segment and tag', 'Japanese']"
      ]
     },
     "execution_count": 16,
     "metadata": {},
     "output_type": "execute_result"
    }
   ],
   "source": [
    "results[6]"
   ]
  },
  {
   "cell_type": "code",
   "execution_count": 17,
   "id": "4d48e594",
   "metadata": {},
   "outputs": [],
   "source": [
    "true=[]\n",
    "for i in range(len(new_data)):\n",
    "    temp=[]\n",
    "    for j in new_data[i]['ner']:\n",
    "        temp.append(j[2])\n",
    "    true.append(temp)"
   ]
  },
  {
   "cell_type": "code",
   "execution_count": 18,
   "id": "243843fa",
   "metadata": {},
   "outputs": [
    {
     "data": {
      "text/plain": [
       "['LRB', 'Japanese', 'Multi-lingual Evaluation Task', 'RRB', 'Our approach']"
      ]
     },
     "execution_count": 18,
     "metadata": {},
     "output_type": "execute_result"
    }
   ],
   "source": [
    "results[2]"
   ]
  },
  {
   "cell_type": "code",
   "execution_count": 19,
   "id": "3b769b1e",
   "metadata": {},
   "outputs": [
    {
     "data": {
      "text/plain": [
       "[[0, 3, 'Recognition of proper nouns', 'Task'],\n",
       " [2, 3, 'proper nouns', 'OtherScientificTerm'],\n",
       " [5, 6, 'Japanese text', 'Material'],\n",
       " [19, 20, 'morphological analysis', 'Task'],\n",
       " [22, 24, 'Japanese text processing', 'Task']]"
      ]
     },
     "execution_count": 19,
     "metadata": {},
     "output_type": "execute_result"
    }
   ],
   "source": [
    "new_data[0]['ner']"
   ]
  },
  {
   "cell_type": "code",
   "execution_count": 20,
   "id": "bc9449b3",
   "metadata": {},
   "outputs": [
    {
     "data": {
      "text/plain": [
       "[[0, 0, 'Task', 'Recognition'],\n",
       " [5, 5, 'Language', 'Japanese'],\n",
       " [19, 20, 'Task', 'morphological analysis']]"
      ]
     },
     "execution_count": 20,
     "metadata": {},
     "output_type": "execute_result"
    }
   ],
   "source": [
    "pred_ner[0]"
   ]
  },
  {
   "cell_type": "code",
   "execution_count": 21,
   "id": "81774df9",
   "metadata": {},
   "outputs": [
    {
     "data": {
      "text/plain": [
       "['approach',\n",
       " 'Multi-lingual Evaluation Task -LRB- MET -RRB-',\n",
       " 'Japanese text',\n",
       " 'task',\n",
       " 'morphological analysis problem',\n",
       " 'Japanese']"
      ]
     },
     "execution_count": 21,
     "metadata": {},
     "output_type": "execute_result"
    }
   ],
   "source": [
    "true[2]"
   ]
  },
  {
   "cell_type": "code",
   "execution_count": 22,
   "id": "a544bb6c",
   "metadata": {},
   "outputs": [],
   "source": [
    "their=0\n",
    "ours=0\n",
    "common=0\n",
    "for i in range(len(results)):\n",
    "    their+=len(set(true[i]))\n",
    "    ours+=len(set(results[i]))\n",
    "    common+=len(set(true[i]).intersection(set(results[i])))"
   ]
  },
  {
   "cell_type": "code",
   "execution_count": 23,
   "id": "5bd725a4",
   "metadata": {},
   "outputs": [
    {
     "data": {
      "text/plain": [
       "(1673, 1685, 625)"
      ]
     },
     "execution_count": 23,
     "metadata": {},
     "output_type": "execute_result"
    }
   ],
   "source": [
    "their,ours,common"
   ]
  },
  {
   "cell_type": "code",
   "execution_count": 24,
   "id": "cb0e708d",
   "metadata": {},
   "outputs": [],
   "source": [
    "recall_avg=[]\n",
    "precision_avg=[]\n",
    "common2=0\n",
    "for i in range(len(results)):\n",
    "    true_set=set(true[i])\n",
    "    pred_set=set(results[i])\n",
    "    \n",
    "    if len(true_set) == 0 and len(pred_set) == 0:\n",
    "        recall_avg.append(1.0)\n",
    "        precision_avg.append(1.0)\n",
    "    else:\n",
    "        count=0\n",
    "        for m in true_set:\n",
    "            for n in pred_set:\n",
    "                if m in n or n in m:\n",
    "                    count+= 1\n",
    "        recall = count / len(true_set) if len(true_set) > 0 else 0\n",
    "        precision = count / len(pred_set) if len(pred_set) > 0 else 0\n",
    "        common2 += count\n",
    "        recall_avg.append(recall)\n",
    "        precision_avg.append(precision)"
   ]
  },
  {
   "cell_type": "code",
   "execution_count": 25,
   "id": "fd9f954c",
   "metadata": {},
   "outputs": [
    {
     "data": {
      "text/plain": [
       "1194"
      ]
     },
     "execution_count": 25,
     "metadata": {},
     "output_type": "execute_result"
    }
   ],
   "source": [
    "common2"
   ]
  },
  {
   "cell_type": "code",
   "execution_count": 26,
   "id": "213bb223",
   "metadata": {},
   "outputs": [
    {
     "data": {
      "text/plain": [
       "(0.7115198473637674, 0.6909615994008015)"
      ]
     },
     "execution_count": 26,
     "metadata": {},
     "output_type": "execute_result"
    }
   ],
   "source": [
    "sum(recall_avg) / len(recall_avg), sum(precision_avg) / len(precision_avg)"
   ]
  },
  {
   "cell_type": "code",
   "execution_count": 27,
   "id": "887fd711",
   "metadata": {},
   "outputs": [
    {
     "data": {
      "text/plain": [
       "['anisotropic meshing',\n",
       " 'non-quadratic approach',\n",
       " 'regularization',\n",
       " 'reconstruction',\n",
       " 'triangulations',\n",
       " 'vertices']"
      ]
     },
     "execution_count": 27,
     "metadata": {},
     "output_type": "execute_result"
    }
   ],
   "source": [
    "true[11]"
   ]
  },
  {
   "cell_type": "code",
   "execution_count": 28,
   "id": "e5768895",
   "metadata": {},
   "outputs": [
    {
     "data": {
      "text/plain": [
       "['triangulations',\n",
       " 'satisfactory reconstruction results',\n",
       " 'non-quadratic approach',\n",
       " 'anisotropic meshing',\n",
       " 'regularization',\n",
       " 'few vertices']"
      ]
     },
     "execution_count": 28,
     "metadata": {},
     "output_type": "execute_result"
    }
   ],
   "source": [
    "results[11]"
   ]
  },
  {
   "cell_type": "code",
   "execution_count": 29,
   "id": "6be4965c",
   "metadata": {},
   "outputs": [
    {
     "data": {
      "text/plain": [
       "[0.8,\n",
       " 1.0,\n",
       " 1.0,\n",
       " 1.0,\n",
       " 1.0,\n",
       " 1.0,\n",
       " 0.6666666666666666,\n",
       " 0.0,\n",
       " 0.0,\n",
       " 0.25,\n",
       " 0.6666666666666666,\n",
       " 1.0,\n",
       " 0.6666666666666666,\n",
       " 0.25,\n",
       " 0.5,\n",
       " 0.6666666666666666,\n",
       " 0.6666666666666666,\n",
       " 0.3333333333333333,\n",
       " 0.6666666666666666,\n",
       " 0.0,\n",
       " 1.6666666666666667,\n",
       " 2.0,\n",
       " 0.6666666666666666,\n",
       " 0.5,\n",
       " 1.0,\n",
       " 0.0,\n",
       " 1.0,\n",
       " 1.0,\n",
       " 1.25,\n",
       " 0.25,\n",
       " 0.6666666666666666,\n",
       " 0.5,\n",
       " 0.3333333333333333,\n",
       " 0.6666666666666666,\n",
       " 1.25,\n",
       " 0.16666666666666666,\n",
       " 1.0,\n",
       " 0.3333333333333333,\n",
       " 0.0,\n",
       " 1.0,\n",
       " 1.3333333333333333,\n",
       " 0.5714285714285714,\n",
       " 0.8,\n",
       " 0.8333333333333334,\n",
       " 0.8,\n",
       " 1.0,\n",
       " 0.16666666666666666,\n",
       " 1.0,\n",
       " 0.7142857142857143,\n",
       " 0.0,\n",
       " 0.14285714285714285,\n",
       " 1.0,\n",
       " 1.0,\n",
       " 1.0,\n",
       " 1.0,\n",
       " 0.6666666666666666,\n",
       " 0.75,\n",
       " 0.0,\n",
       " 0.3333333333333333,\n",
       " 0.8333333333333334,\n",
       " 0,\n",
       " 0.5,\n",
       " 1.0,\n",
       " 0.5,\n",
       " 1.0,\n",
       " 1.25,\n",
       " 0.6666666666666666,\n",
       " 0.0,\n",
       " 0.0,\n",
       " 1.0,\n",
       " 0.0,\n",
       " 0.3333333333333333,\n",
       " 0.5,\n",
       " 1.0,\n",
       " 0.4,\n",
       " 0.5,\n",
       " 0.0,\n",
       " 1.0,\n",
       " 1.0,\n",
       " 1.0,\n",
       " 0.8333333333333334,\n",
       " 0.6666666666666666,\n",
       " 1.0,\n",
       " 1.5,\n",
       " 2.0,\n",
       " 0.75,\n",
       " 1.0,\n",
       " 1.0,\n",
       " 0.5,\n",
       " 0.6,\n",
       " 0.4,\n",
       " 0.4,\n",
       " 0.4,\n",
       " 1.0,\n",
       " 0.5,\n",
       " 0.6666666666666666,\n",
       " 0.25,\n",
       " 0.0,\n",
       " 0.5,\n",
       " 1.0,\n",
       " 0,\n",
       " 0,\n",
       " 0,\n",
       " 1.5,\n",
       " 0.0,\n",
       " 0.5,\n",
       " 0.25,\n",
       " 1.0,\n",
       " 0.5,\n",
       " 1.5,\n",
       " 0.6666666666666666,\n",
       " 1.5,\n",
       " 1.0,\n",
       " 0.4,\n",
       " 0.6666666666666666,\n",
       " 0.5,\n",
       " 2.3333333333333335,\n",
       " 1.0,\n",
       " 0.75,\n",
       " 0.6666666666666666,\n",
       " 0.6666666666666666,\n",
       " 0.8,\n",
       " 1.0,\n",
       " 1.0,\n",
       " 0.5,\n",
       " 1.0,\n",
       " 0.0,\n",
       " 0.6666666666666666,\n",
       " 0.3333333333333333,\n",
       " 0.3333333333333333,\n",
       " 0.8,\n",
       " 1.0,\n",
       " 0,\n",
       " 1.0,\n",
       " 0.75,\n",
       " 1.0,\n",
       " 0.25,\n",
       " 0.3333333333333333,\n",
       " 0.25,\n",
       " 0.4,\n",
       " 1.0,\n",
       " 1.75,\n",
       " 1.25,\n",
       " 0.75,\n",
       " 1.0,\n",
       " 0.6,\n",
       " 1.0,\n",
       " 1.0,\n",
       " 1.0,\n",
       " 1.3333333333333333,\n",
       " 1.0,\n",
       " 0.4,\n",
       " 0.25,\n",
       " 0.5,\n",
       " 1.0,\n",
       " 0,\n",
       " 1.0,\n",
       " 0.5,\n",
       " 1.0,\n",
       " 0.5,\n",
       " 0.25,\n",
       " 0.3333333333333333,\n",
       " 0.6666666666666666,\n",
       " 0.75,\n",
       " 1.6666666666666667,\n",
       " 0.6666666666666666,\n",
       " 0.6,\n",
       " 1.0,\n",
       " 1.5,\n",
       " 1.3333333333333333,\n",
       " 0.2,\n",
       " 0.25,\n",
       " 1.3333333333333333,\n",
       " 1.0,\n",
       " 0.75,\n",
       " 1.0,\n",
       " 0.3333333333333333,\n",
       " 0.6666666666666666,\n",
       " 0.0,\n",
       " 0.0,\n",
       " 1.0,\n",
       " 1.0,\n",
       " 0.5,\n",
       " 0.6666666666666666,\n",
       " 0.6666666666666666,\n",
       " 0.3333333333333333,\n",
       " 0.16666666666666666,\n",
       " 0.23076923076923078,\n",
       " 0.3333333333333333,\n",
       " 0.5,\n",
       " 1.5,\n",
       " 0.6,\n",
       " 0.16666666666666666,\n",
       " 1.5,\n",
       " 0.6666666666666666,\n",
       " 1.3333333333333333,\n",
       " 0.75,\n",
       " 0.0,\n",
       " 0.6666666666666666,\n",
       " 1.0,\n",
       " 0.6666666666666666,\n",
       " 1.0,\n",
       " 1.3333333333333333,\n",
       " 0.5,\n",
       " 0.5,\n",
       " 1.0,\n",
       " 1.0,\n",
       " 0.6666666666666666,\n",
       " 1.0,\n",
       " 1.3333333333333333,\n",
       " 1.0,\n",
       " 1.0,\n",
       " 1.6666666666666667,\n",
       " 1.0,\n",
       " 1.0,\n",
       " 1.0,\n",
       " 0.5,\n",
       " 1.0,\n",
       " 0,\n",
       " 0,\n",
       " 1.0,\n",
       " 0.6666666666666666,\n",
       " 0.2857142857142857,\n",
       " 1.0,\n",
       " 0.5,\n",
       " 0.5,\n",
       " 0.25,\n",
       " 0.4,\n",
       " 0.6666666666666666,\n",
       " 0.0,\n",
       " 0.6666666666666666,\n",
       " 0.5,\n",
       " 1.0,\n",
       " 1.0,\n",
       " 0.6,\n",
       " 1.0,\n",
       " 0.5,\n",
       " 0.6666666666666666,\n",
       " 0.5,\n",
       " 0.6666666666666666,\n",
       " 1.0,\n",
       " 1.0,\n",
       " 0.6666666666666666,\n",
       " 0.0,\n",
       " 0.75,\n",
       " 0.6666666666666666,\n",
       " 1.0,\n",
       " 0.0,\n",
       " 1.0,\n",
       " 0.3333333333333333,\n",
       " 0.0,\n",
       " 1.0,\n",
       " 1.0,\n",
       " 0.6666666666666666,\n",
       " 1.5,\n",
       " 0.8571428571428571,\n",
       " 0.75,\n",
       " 0.75,\n",
       " 1.0,\n",
       " 0.6666666666666666,\n",
       " 1.0,\n",
       " 0.0,\n",
       " 1.0,\n",
       " 1.0,\n",
       " 1.0,\n",
       " 0.0,\n",
       " 0.6666666666666666,\n",
       " 0.6666666666666666,\n",
       " 0.75,\n",
       " 0.75,\n",
       " 0.5,\n",
       " 0.0,\n",
       " 0,\n",
       " 0.3333333333333333,\n",
       " 1.0,\n",
       " 1.0,\n",
       " 0.75,\n",
       " 1.0,\n",
       " 0.6666666666666666,\n",
       " 1.0,\n",
       " 0.75,\n",
       " 1.0,\n",
       " 0.3333333333333333,\n",
       " 1.0,\n",
       " 0.0,\n",
       " 0.5,\n",
       " 0.6666666666666666,\n",
       " 1.0,\n",
       " 1.0,\n",
       " 0.5,\n",
       " 0,\n",
       " 0.5,\n",
       " 1.0,\n",
       " 0,\n",
       " 0.5,\n",
       " 0.25,\n",
       " 0,\n",
       " 0.0,\n",
       " 1.0,\n",
       " 0.5,\n",
       " 1.5,\n",
       " 0.6666666666666666,\n",
       " 1.0,\n",
       " 1.0,\n",
       " 0.75,\n",
       " 1.5,\n",
       " 0.0,\n",
       " 1.5714285714285714,\n",
       " 0.5,\n",
       " 1.0,\n",
       " 0.5,\n",
       " 0.5,\n",
       " 0.8,\n",
       " 2.0,\n",
       " 1.0,\n",
       " 0.5,\n",
       " 1.0,\n",
       " 0.6666666666666666,\n",
       " 1.0,\n",
       " 0.4,\n",
       " 1.0,\n",
       " 0.5,\n",
       " 1.5,\n",
       " 2.0,\n",
       " 0.5,\n",
       " 0.75,\n",
       " 0.75,\n",
       " 1.0,\n",
       " 1.0,\n",
       " 1.0,\n",
       " 1.0,\n",
       " 0.6666666666666666,\n",
       " 0.75,\n",
       " 0.6666666666666666,\n",
       " 0.25,\n",
       " 1.0,\n",
       " 0.42857142857142855,\n",
       " 0.6666666666666666,\n",
       " 0.6666666666666666,\n",
       " 0.5,\n",
       " 1.0,\n",
       " 0.125,\n",
       " 1.3333333333333333,\n",
       " 0.8333333333333334,\n",
       " 1.3333333333333333,\n",
       " 0.0,\n",
       " 1.0,\n",
       " 0.5,\n",
       " 1.0,\n",
       " 0.0,\n",
       " 1.0,\n",
       " 1.0,\n",
       " 0,\n",
       " 0.0,\n",
       " 0.6666666666666666,\n",
       " 1.0,\n",
       " 2.0,\n",
       " 0.5,\n",
       " 0.0,\n",
       " 0.5,\n",
       " 1.6666666666666667,\n",
       " 0.2,\n",
       " 0,\n",
       " 0.6666666666666666,\n",
       " 0.5,\n",
       " 0.0,\n",
       " 0.5,\n",
       " 1.0,\n",
       " 0.0,\n",
       " 0.2,\n",
       " 1.0,\n",
       " 0.0,\n",
       " 0.5,\n",
       " 1.0,\n",
       " 1.0,\n",
       " 0.5,\n",
       " 1.0,\n",
       " 1.0,\n",
       " 0.75,\n",
       " 0.5,\n",
       " 1.0,\n",
       " 0.6666666666666666,\n",
       " 0.3333333333333333,\n",
       " 0.0,\n",
       " 0.0,\n",
       " 1.0,\n",
       " 0.8333333333333334,\n",
       " 1.0,\n",
       " 1.0,\n",
       " 0.0,\n",
       " 0.5,\n",
       " 1.0,\n",
       " 0,\n",
       " 0.0,\n",
       " 0.6,\n",
       " 0.4,\n",
       " 1.0,\n",
       " 0.0,\n",
       " 1.0,\n",
       " 1.0,\n",
       " 0,\n",
       " 0.0,\n",
       " 0.6,\n",
       " 0.3333333333333333,\n",
       " 2.0,\n",
       " 1.0,\n",
       " 1.0,\n",
       " 0.8,\n",
       " 0.3333333333333333,\n",
       " 1.0,\n",
       " 1.0,\n",
       " 0.4,\n",
       " 1.0,\n",
       " 0,\n",
       " 1.0,\n",
       " 1.0,\n",
       " 1.0,\n",
       " 1.0,\n",
       " 1.0,\n",
       " 0.0,\n",
       " 0.0,\n",
       " 0.5,\n",
       " 0.0,\n",
       " 0.25,\n",
       " 0.5,\n",
       " 1.0,\n",
       " 0.0,\n",
       " 1.0,\n",
       " 0.6666666666666666,\n",
       " 1.0,\n",
       " 1.0,\n",
       " 2.0,\n",
       " 1.0,\n",
       " 0.0,\n",
       " 1.6,\n",
       " 1.0,\n",
       " 0.5,\n",
       " 0.0,\n",
       " 0.5,\n",
       " 0.5,\n",
       " 1.0,\n",
       " 0.0,\n",
       " 1.0,\n",
       " 0.0,\n",
       " 1.0,\n",
       " 0.5,\n",
       " 0.375,\n",
       " 0.5,\n",
       " 1.0,\n",
       " 0.5,\n",
       " 2.0,\n",
       " 0.25,\n",
       " 1.0,\n",
       " 0.75,\n",
       " 0,\n",
       " 1.0,\n",
       " 0.0,\n",
       " 2.0,\n",
       " 0.25,\n",
       " 0.75,\n",
       " 0.3333333333333333,\n",
       " 0.6666666666666666,\n",
       " 0.0,\n",
       " 1.3333333333333333,\n",
       " 0.6666666666666666,\n",
       " 1.2,\n",
       " 1.0,\n",
       " 0.6666666666666666,\n",
       " 0.8,\n",
       " 1.0,\n",
       " 1.0,\n",
       " 1.0,\n",
       " 0.8333333333333334,\n",
       " 0.6666666666666666,\n",
       " 1.3333333333333333,\n",
       " 0.2857142857142857,\n",
       " 0.4,\n",
       " 0.4,\n",
       " 0.8,\n",
       " 1.0,\n",
       " 1.0,\n",
       " 0.8,\n",
       " 0.75,\n",
       " 0.6666666666666666,\n",
       " 0.75,\n",
       " 1.0,\n",
       " 0.5,\n",
       " 1.0,\n",
       " 0.6,\n",
       " 1.0,\n",
       " 0.7142857142857143,\n",
       " 0.6,\n",
       " 0.0,\n",
       " 1.0,\n",
       " 2.0,\n",
       " 1.25,\n",
       " 2.3333333333333335,\n",
       " 3.0,\n",
       " 1.0,\n",
       " 0.6666666666666666,\n",
       " 0.5,\n",
       " 0.25,\n",
       " 1.3333333333333333,\n",
       " 0.5,\n",
       " 0,\n",
       " 0.6666666666666666,\n",
       " 0.75,\n",
       " 0.6666666666666666,\n",
       " 0.0,\n",
       " 0.6666666666666666,\n",
       " 0.5,\n",
       " 1.0,\n",
       " 0.5,\n",
       " 0,\n",
       " 0.5,\n",
       " 0.5,\n",
       " 0.3333333333333333,\n",
       " 1.0,\n",
       " 0.5,\n",
       " 0.5,\n",
       " 0.3333333333333333,\n",
       " 1.0,\n",
       " 2.3333333333333335,\n",
       " 1.0,\n",
       " 0.42857142857142855,\n",
       " 0.25,\n",
       " 1.0,\n",
       " 0.75,\n",
       " 1.0,\n",
       " 1.0,\n",
       " 0.6,\n",
       " 0.6666666666666666,\n",
       " 1.0,\n",
       " 1.0,\n",
       " 0.3333333333333333,\n",
       " 0.6666666666666666,\n",
       " 0.75,\n",
       " 0.8,\n",
       " 0.0,\n",
       " 2.0,\n",
       " 1.0,\n",
       " 0.6666666666666666,\n",
       " 1.0,\n",
       " 0.5,\n",
       " 0.8333333333333334,\n",
       " 0.6666666666666666,\n",
       " 0.0,\n",
       " 1.3333333333333333,\n",
       " 1.0,\n",
       " 1.0,\n",
       " 0.3333333333333333]"
      ]
     },
     "execution_count": 29,
     "metadata": {},
     "output_type": "execute_result"
    }
   ],
   "source": [
    "recall_avg"
   ]
  },
  {
   "cell_type": "code",
   "execution_count": 30,
   "id": "80c4c08d",
   "metadata": {},
   "outputs": [],
   "source": [
    "\n",
    "for i in range(len(new_data)):\n",
    "    for j in range(len(new_data[i]['ner'])):\n",
    "        new_data[i]['ner'][j][2],new_data[i]['ner'][j][3] = new_data[i]['ner'][j][3], new_data[i]['ner'][j][2]"
   ]
  },
  {
   "cell_type": "code",
   "execution_count": 31,
   "id": "c4a47307",
   "metadata": {},
   "outputs": [
    {
     "data": {
      "text/plain": [
       "[[0, 3, 'Task', 'Recognition of proper nouns'],\n",
       " [2, 3, 'OtherScientificTerm', 'proper nouns'],\n",
       " [5, 6, 'Material', 'Japanese text'],\n",
       " [19, 20, 'Task', 'morphological analysis'],\n",
       " [22, 24, 'Task', 'Japanese text processing']]"
      ]
     },
     "execution_count": 31,
     "metadata": {},
     "output_type": "execute_result"
    }
   ],
   "source": [
    "new_data[0]['ner']"
   ]
  },
  {
   "cell_type": "code",
   "execution_count": 32,
   "id": "e72d1987",
   "metadata": {},
   "outputs": [
    {
     "data": {
      "text/plain": [
       "['Recognition',\n",
       " 'of',\n",
       " 'proper',\n",
       " 'nouns',\n",
       " 'in',\n",
       " 'Japanese',\n",
       " 'text',\n",
       " 'has',\n",
       " 'been',\n",
       " 'studied',\n",
       " 'as',\n",
       " 'a',\n",
       " 'part',\n",
       " 'of',\n",
       " 'the',\n",
       " 'more',\n",
       " 'general',\n",
       " 'problem',\n",
       " 'of',\n",
       " 'morphological',\n",
       " 'analysis',\n",
       " 'in',\n",
       " 'Japanese',\n",
       " 'text',\n",
       " 'processing',\n",
       " '-LRB-',\n",
       " '-LSB-',\n",
       " '1',\n",
       " '-RSB-',\n",
       " '-LSB-',\n",
       " '2',\n",
       " '-RSB-',\n",
       " '-RRB-',\n",
       " '.']"
      ]
     },
     "execution_count": 32,
     "metadata": {},
     "output_type": "execute_result"
    }
   ],
   "source": [
    "new_data[0]['sentence']"
   ]
  },
  {
   "cell_type": "code",
   "execution_count": 33,
   "id": "fae55d61",
   "metadata": {},
   "outputs": [
    {
     "data": {
      "text/plain": [
       "[['point correspondences', 'estimation of the tensors', 'USED-FOR'],\n",
       " ['factorization', 'tensors', 'USED-FOR'],\n",
       " ['line correspondences', 'estimation', 'USED-FOR']]"
      ]
     },
     "execution_count": 33,
     "metadata": {},
     "output_type": "execute_result"
    }
   ],
   "source": [
    "new_data[59]['relations']"
   ]
  },
  {
   "cell_type": "code",
   "execution_count": 34,
   "id": "8293d971",
   "metadata": {},
   "outputs": [
    {
     "data": {
      "text/plain": [
       "[[6, 9, 'Task', 'estimation of the tensors'],\n",
       " [9, 9, 'Generic', 'tensors'],\n",
       " [11, 12, 'OtherScientificTerm', 'point correspondences'],\n",
       " [16, 16, 'Method', 'factorization'],\n",
       " [21, 21, 'Generic', 'estimation'],\n",
       " [23, 24, 'OtherScientificTerm', 'line correspondences']]"
      ]
     },
     "execution_count": 34,
     "metadata": {},
     "output_type": "execute_result"
    }
   ],
   "source": [
    "new_data[59]['ner']"
   ]
  },
  {
   "cell_type": "code",
   "execution_count": 35,
   "id": "a8e50cd0",
   "metadata": {},
   "outputs": [],
   "source": [
    "final={}\n",
    "rel_count={}\n",
    "for i in range(len(new_data)):\n",
    "    mapp={}\n",
    "    for j in new_data[i]['ner']:\n",
    "        mapp[j[3]]=j[2]\n",
    "    for j in new_data[i]['relations']:\n",
    "        if j[2] not in rel_count:\n",
    "            rel_count[j[2]] = 0\n",
    "        rel_count[j[2]] += 1\n",
    "        if j[2] not in final:\n",
    "            final[j[2]] = set()\n",
    "        final[j[2]].add((mapp[j[0]], mapp[j[1]]))"
   ]
  },
  {
   "cell_type": "code",
   "execution_count": 36,
   "id": "da440dd0",
   "metadata": {},
   "outputs": [
    {
     "data": {
      "text/plain": [
       "{'PART-OF': {('Generic', 'Method'),\n",
       "  ('Generic', 'OtherScientificTerm'),\n",
       "  ('Material', 'Generic'),\n",
       "  ('Material', 'Material'),\n",
       "  ('Material', 'OtherScientificTerm'),\n",
       "  ('Method', 'Generic'),\n",
       "  ('Method', 'Method'),\n",
       "  ('OtherScientificTerm', 'Generic'),\n",
       "  ('OtherScientificTerm', 'Material'),\n",
       "  ('OtherScientificTerm', 'Method'),\n",
       "  ('OtherScientificTerm', 'OtherScientificTerm'),\n",
       "  ('OtherScientificTerm', 'Task'),\n",
       "  ('Task', 'Generic'),\n",
       "  ('Task', 'Task')},\n",
       " 'USED-FOR': {('Generic', 'Generic'),\n",
       "  ('Generic', 'Material'),\n",
       "  ('Generic', 'Method'),\n",
       "  ('Generic', 'Metric'),\n",
       "  ('Generic', 'OtherScientificTerm'),\n",
       "  ('Generic', 'Task'),\n",
       "  ('Material', 'Generic'),\n",
       "  ('Material', 'Method'),\n",
       "  ('Material', 'OtherScientificTerm'),\n",
       "  ('Material', 'Task'),\n",
       "  ('Method', 'Generic'),\n",
       "  ('Method', 'Material'),\n",
       "  ('Method', 'Method'),\n",
       "  ('Method', 'Metric'),\n",
       "  ('Method', 'OtherScientificTerm'),\n",
       "  ('Method', 'Task'),\n",
       "  ('Metric', 'Generic'),\n",
       "  ('Metric', 'Method'),\n",
       "  ('Metric', 'Metric'),\n",
       "  ('Metric', 'OtherScientificTerm'),\n",
       "  ('Metric', 'Task'),\n",
       "  ('OtherScientificTerm', 'Generic'),\n",
       "  ('OtherScientificTerm', 'Material'),\n",
       "  ('OtherScientificTerm', 'Method'),\n",
       "  ('OtherScientificTerm', 'Metric'),\n",
       "  ('OtherScientificTerm', 'OtherScientificTerm'),\n",
       "  ('OtherScientificTerm', 'Task'),\n",
       "  ('Task', 'Generic'),\n",
       "  ('Task', 'Material'),\n",
       "  ('Task', 'Method'),\n",
       "  ('Task', 'OtherScientificTerm'),\n",
       "  ('Task', 'Task')},\n",
       " 'HYPONYM-OF': {('Generic', 'Method'),\n",
       "  ('Material', 'Generic'),\n",
       "  ('Material', 'Material'),\n",
       "  ('Material', 'Task'),\n",
       "  ('Method', 'Generic'),\n",
       "  ('Method', 'Method'),\n",
       "  ('Method', 'OtherScientificTerm'),\n",
       "  ('Metric', 'Metric'),\n",
       "  ('OtherScientificTerm', 'Generic'),\n",
       "  ('OtherScientificTerm', 'Method'),\n",
       "  ('OtherScientificTerm', 'OtherScientificTerm'),\n",
       "  ('Task', 'Task')},\n",
       " 'CONJUNCTION': {('Generic', 'Material'),\n",
       "  ('Generic', 'Method'),\n",
       "  ('Generic', 'OtherScientificTerm'),\n",
       "  ('Material', 'Material'),\n",
       "  ('Material', 'Method'),\n",
       "  ('Method', 'Generic'),\n",
       "  ('Method', 'Method'),\n",
       "  ('Method', 'OtherScientificTerm'),\n",
       "  ('Metric', 'Metric'),\n",
       "  ('OtherScientificTerm', 'Material'),\n",
       "  ('OtherScientificTerm', 'Method'),\n",
       "  ('OtherScientificTerm', 'OtherScientificTerm'),\n",
       "  ('OtherScientificTerm', 'Task'),\n",
       "  ('Task', 'Task')},\n",
       " 'FEATURE-OF': {('Material', 'Material'),\n",
       "  ('Material', 'OtherScientificTerm'),\n",
       "  ('Method', 'Method'),\n",
       "  ('Metric', 'Material'),\n",
       "  ('Metric', 'OtherScientificTerm'),\n",
       "  ('Metric', 'Task'),\n",
       "  ('OtherScientificTerm', 'Generic'),\n",
       "  ('OtherScientificTerm', 'Material'),\n",
       "  ('OtherScientificTerm', 'Method'),\n",
       "  ('OtherScientificTerm', 'Metric'),\n",
       "  ('OtherScientificTerm', 'OtherScientificTerm'),\n",
       "  ('OtherScientificTerm', 'Task'),\n",
       "  ('Task', 'Method'),\n",
       "  ('Task', 'Task')},\n",
       " 'EVALUATE-FOR': {('Generic', 'Generic'),\n",
       "  ('Generic', 'Metric'),\n",
       "  ('Generic', 'OtherScientificTerm'),\n",
       "  ('Generic', 'Task'),\n",
       "  ('Material', 'Generic'),\n",
       "  ('Material', 'Method'),\n",
       "  ('Material', 'OtherScientificTerm'),\n",
       "  ('Material', 'Task'),\n",
       "  ('Method', 'Metric'),\n",
       "  ('Metric', 'Generic'),\n",
       "  ('Metric', 'Method'),\n",
       "  ('Metric', 'Metric'),\n",
       "  ('Metric', 'OtherScientificTerm'),\n",
       "  ('Metric', 'Task'),\n",
       "  ('OtherScientificTerm', 'Material'),\n",
       "  ('OtherScientificTerm', 'Method'),\n",
       "  ('OtherScientificTerm', 'Task'),\n",
       "  ('Task', 'Generic'),\n",
       "  ('Task', 'Method'),\n",
       "  ('Task', 'OtherScientificTerm')},\n",
       " 'COMPARE': {('Generic', 'Generic'),\n",
       "  ('Generic', 'Material'),\n",
       "  ('Generic', 'Method'),\n",
       "  ('Generic', 'OtherScientificTerm'),\n",
       "  ('Material', 'Material'),\n",
       "  ('Method', 'Generic'),\n",
       "  ('Method', 'Method'),\n",
       "  ('Method', 'OtherScientificTerm'),\n",
       "  ('OtherScientificTerm', 'OtherScientificTerm')}}"
      ]
     },
     "execution_count": 36,
     "metadata": {},
     "output_type": "execute_result"
    }
   ],
   "source": [
    "final"
   ]
  },
  {
   "cell_type": "code",
   "execution_count": 37,
   "id": "745cce78",
   "metadata": {},
   "outputs": [
    {
     "data": {
      "text/plain": [
       "{'PART-OF': 63,\n",
       " 'USED-FOR': 533,\n",
       " 'HYPONYM-OF': 67,\n",
       " 'CONJUNCTION': 123,\n",
       " 'FEATURE-OF': 59,\n",
       " 'EVALUATE-FOR': 91,\n",
       " 'COMPARE': 38}"
      ]
     },
     "execution_count": 37,
     "metadata": {},
     "output_type": "execute_result"
    }
   ],
   "source": [
    "rel_count"
   ]
  },
  {
   "cell_type": "code",
   "execution_count": 38,
   "id": "5d7ebec6",
   "metadata": {},
   "outputs": [
    {
     "name": "stderr",
     "output_type": "stream",
     "text": [
      "/home/bt19d200/NER_Vamshi/NER_Model/.conda/lib/python3.10/site-packages/transformers/convert_slow_tokenizer.py:561: UserWarning: The sentencepiece tokenizer that you are converting to a fast tokenizer uses the byte fallback option which is not implemented in the fast tokenizers. In practice this means that the fast version of the tokenizer can produce unknown tokens whereas the sentencepiece version would have converted these unknown tokens into a sequence of byte tokens matching the original piece of text.\n",
      "  warnings.warn(\n",
      "100%|██████████| 551/551 [00:52<00:00, 10.44it/s]"
     ]
    },
    {
     "name": "stdout",
     "output_type": "stream",
     "text": [
      "Success! ✅\n"
     ]
    },
    {
     "name": "stderr",
     "output_type": "stream",
     "text": [
      "\n"
     ]
    }
   ],
   "source": [
    "from pair2rel import Pair2Rel\n",
    "\n",
    "rel_model = Pair2Rel.from_pretrained(\"chapalavamshi022/pair2rel\")\n",
    "\n",
    "rel_model = rel_model.to(device)\n",
    "\n",
    "labels=['USED-FOR','AND', 'EVALUATE-FOR', 'FEATURE-OF', 'PART-OF','COMPARE']\n",
    "\n",
    "relations_all=[]\n",
    "# head_asset={'Peop':'Org','Peop':'Loc','Org':'Loc','Loc':'Loc','Peop':'Peop'}\n",
    "for i in tqdm(range(len(new_data))):\n",
    "    if new_data[i]['ner'] == []:\n",
    "        relations_all.append([])\n",
    "        continue\n",
    "\n",
    "    relations = rel_model.predict_relations(new_data[i]['sentence'], labels, threshold=0.0, ner=new_data[i]['ner'], top_k=1)\n",
    "    mapp={}\n",
    "    order={}\n",
    "    for j in new_data[i]['ner']:\n",
    "        mapp[j[3]]=j[2]\n",
    "        order[j[3]]=j[0]\n",
    "\n",
    "    sorted_data_desc = sorted(relations, key=lambda x: x['score'], reverse=True)\n",
    "    temp=[]\n",
    "    for item in sorted_data_desc:\n",
    "        head=' '.join(item['head_text'])\n",
    "        tail=' '.join(item['tail_text'])\n",
    "        if head in mapp and tail in mapp and head!=tail:\n",
    "            temp.append([head,tail,item['label']])\n",
    "    relations_all.append(temp)\n",
    "        \n",
    "print(\"Success! ✅\")"
   ]
  },
  {
   "cell_type": "code",
   "execution_count": 39,
   "id": "160c87f7",
   "metadata": {},
   "outputs": [
    {
     "data": {
      "text/plain": [
       "[[0, 3, 'Task', 'Recognition of proper nouns'],\n",
       " [2, 3, 'OtherScientificTerm', 'proper nouns'],\n",
       " [5, 6, 'Material', 'Japanese text'],\n",
       " [19, 20, 'Task', 'morphological analysis'],\n",
       " [22, 24, 'Task', 'Japanese text processing']]"
      ]
     },
     "execution_count": 39,
     "metadata": {},
     "output_type": "execute_result"
    }
   ],
   "source": [
    "new_data[0]['ner']"
   ]
  },
  {
   "cell_type": "code",
   "execution_count": 40,
   "id": "70d16b61",
   "metadata": {},
   "outputs": [
    {
     "data": {
      "text/plain": [
       "[['Recognition of proper nouns', 'morphological analysis', 'PART-OF'],\n",
       " ['proper nouns', 'Japanese text', 'PART-OF'],\n",
       " ['morphological analysis', 'Japanese text processing', 'USED-FOR']]"
      ]
     },
     "execution_count": 40,
     "metadata": {},
     "output_type": "execute_result"
    }
   ],
   "source": [
    "new_data[0]['relations']"
   ]
  },
  {
   "cell_type": "code",
   "execution_count": 41,
   "id": "8e3f503a",
   "metadata": {},
   "outputs": [],
   "source": [
    "relations_true=[]\n",
    "for i in range(len(new_data)):\n",
    "    \n",
    "    relations_true.append(new_data[i]['relations'])"
   ]
  },
  {
   "cell_type": "code",
   "execution_count": 42,
   "id": "8adf4b44",
   "metadata": {},
   "outputs": [
    {
     "data": {
      "text/plain": [
       "'Recognition of proper nouns in Japanese text has been studied as a part of the more general problem of morphological analysis in Japanese text processing -LRB- -LSB- 1 -RSB- -LSB- 2 -RSB- -RRB- .'"
      ]
     },
     "execution_count": 42,
     "metadata": {},
     "output_type": "execute_result"
    }
   ],
   "source": [
    "' '.join(new_data[0]['sentence'])"
   ]
  },
  {
   "cell_type": "code",
   "execution_count": 43,
   "id": "28844e07",
   "metadata": {},
   "outputs": [
    {
     "data": {
      "text/plain": [
       "[['approach', 'Multi-lingual Evaluation Task -LRB- MET -RRB-', 'USED-FOR'],\n",
       " ['Multi-lingual Evaluation Task -LRB- MET -RRB-',\n",
       "  'Japanese text',\n",
       "  'USED-FOR'],\n",
       " ['morphological analysis problem', 'task', 'USED-FOR'],\n",
       " ['Japanese', 'morphological analysis problem', 'USED-FOR']]"
      ]
     },
     "execution_count": 43,
     "metadata": {},
     "output_type": "execute_result"
    }
   ],
   "source": [
    "relations_true[2]"
   ]
  },
  {
   "cell_type": "code",
   "execution_count": 45,
   "id": "ebe5395c",
   "metadata": {},
   "outputs": [],
   "source": [
    "recall_avg=[]\n",
    "precision_avg=[]\n",
    "common=0\n",
    "ours=0\n",
    "relations_all_filtered=[]\n",
    "\n",
    "for i in range(len(relations_all)):\n",
    "    true_set=relations_true[i]\n",
    "    pred_set=relations_all[i]\n",
    "    d={}\n",
    "    temp=[]\n",
    "    for item in pred_set:\n",
    "        if (item[0],item[1]) not in d and (item[1],item[0]) not in d:\n",
    "            d[(item[0],item[1])]=item[2]\n",
    "            temp.append([item[0],item[1],item[2]])\n",
    "    relations_all_filtered.append(temp)\n",
    "    \n",
    "    ours+=len(d)\n",
    "    if len(true_set) == 0 and len(pred_set) == 0:\n",
    "        recall_avg.append(1.0)\n",
    "        precision_avg.append(1.0)\n",
    "    else:\n",
    "        count=0\n",
    "        for m in true_set:\n",
    "            for n in pred_set:\n",
    "                if m[0]==n[0] and m[1]==n[1] and (m[2]==n[2] or (m[2]=='CONJUNCTION' and n[2]=='AND')):\n",
    "                    count+= 1\n",
    "        recall = count/ len(true_set) if len(true_set) > 0 else 0\n",
    "        precision = count / len(d) if len(d) > 0 else 0\n",
    "        common += count\n",
    "        recall_avg.append(recall)\n",
    "        precision_avg.append(precision)"
   ]
  },
  {
   "cell_type": "code",
   "execution_count": 46,
   "id": "9df44f3b",
   "metadata": {},
   "outputs": [
    {
     "data": {
      "text/plain": [
       "(0.5034851365613614, 0.37222532458467134)"
      ]
     },
     "execution_count": 46,
     "metadata": {},
     "output_type": "execute_result"
    }
   ],
   "source": [
    "sum(recall_avg) / len(recall_avg), sum(precision_avg) / len(precision_avg)"
   ]
  },
  {
   "cell_type": "code",
   "execution_count": 47,
   "id": "477f851d",
   "metadata": {},
   "outputs": [],
   "source": [
    "relations_labels_predicted_count={}\n",
    "relations_labels_true_count={}\n",
    "for i in range(len(relations_all)):\n",
    "    for j in relations_all_filtered[i]:\n",
    "        \n",
    "        if j[2] not in relations_labels_predicted_count:\n",
    "            if j[2]=='AND' and 'CONJUNCTION' not in relations_labels_predicted_count:\n",
    "                relations_labels_predicted_count['CONJUNCTION']=0\n",
    "            elif j[2]!='AND':\n",
    "                relations_labels_predicted_count[j[2]]=0\n",
    "        if j[2]=='AND':\n",
    "            relations_labels_predicted_count['CONJUNCTION']+=1\n",
    "        else:\n",
    "            relations_labels_predicted_count[j[2]]+=1\n",
    "        \n",
    "    for j in relations_true[i]:\n",
    "        if j[2] not in relations_labels_true_count:\n",
    "            relations_labels_true_count[j[2]]=0\n",
    "        relations_labels_true_count[j[2]]+=1\n",
    "        "
   ]
  },
  {
   "cell_type": "code",
   "execution_count": 48,
   "id": "3264c0e1",
   "metadata": {},
   "outputs": [
    {
     "data": {
      "text/plain": [
       "{'PART-OF': 223,\n",
       " 'USED-FOR': 1128,\n",
       " 'EVALUATE-FOR': 39,\n",
       " 'FEATURE-OF': 765,\n",
       " 'COMPARE': 214,\n",
       " 'CONJUNCTION': 116}"
      ]
     },
     "execution_count": 48,
     "metadata": {},
     "output_type": "execute_result"
    }
   ],
   "source": [
    "relations_labels_predicted_count"
   ]
  },
  {
   "cell_type": "code",
   "execution_count": 49,
   "id": "eb3f338d",
   "metadata": {},
   "outputs": [
    {
     "data": {
      "text/plain": [
       "{'PART-OF': 63,\n",
       " 'USED-FOR': 533,\n",
       " 'HYPONYM-OF': 67,\n",
       " 'CONJUNCTION': 123,\n",
       " 'FEATURE-OF': 59,\n",
       " 'EVALUATE-FOR': 91,\n",
       " 'COMPARE': 38}"
      ]
     },
     "execution_count": 49,
     "metadata": {},
     "output_type": "execute_result"
    }
   ],
   "source": [
    "relations_labels_true_count"
   ]
  },
  {
   "cell_type": "code",
   "execution_count": 50,
   "id": "ccf382a2",
   "metadata": {},
   "outputs": [
    {
     "data": {
      "text/plain": [
       "'They improve the reconstruction results and enforce their consistency with a priori knowledge about object shape .'"
      ]
     },
     "execution_count": 50,
     "metadata": {},
     "output_type": "execute_result"
    }
   ],
   "source": [
    "' '.join(new_data[13]['sentence'])"
   ]
  },
  {
   "cell_type": "code",
   "execution_count": 51,
   "id": "657f01a0",
   "metadata": {},
   "outputs": [
    {
     "data": {
      "text/plain": [
       "[['They', 'reconstruction', 'USED-FOR'],\n",
       " ['reconstruction', 'They', 'USED-FOR'],\n",
       " ['object shape', 'They', 'USED-FOR'],\n",
       " ['They', 'object shape', 'USED-FOR'],\n",
       " ['priori knowledge', 'They', 'USED-FOR'],\n",
       " ['They', 'priori knowledge', 'USED-FOR'],\n",
       " ['object shape', 'reconstruction', 'USED-FOR'],\n",
       " ['reconstruction', 'object shape', 'USED-FOR'],\n",
       " ['priori knowledge', 'reconstruction', 'USED-FOR'],\n",
       " ['reconstruction', 'priori knowledge', 'USED-FOR'],\n",
       " ['priori knowledge', 'object shape', 'USED-FOR'],\n",
       " ['object shape', 'priori knowledge', 'USED-FOR']]"
      ]
     },
     "execution_count": 51,
     "metadata": {},
     "output_type": "execute_result"
    }
   ],
   "source": [
    "relations_all[13]"
   ]
  },
  {
   "cell_type": "code",
   "execution_count": 52,
   "id": "97c0ac30",
   "metadata": {},
   "outputs": [
    {
     "data": {
      "text/plain": [
       "[['They', 'reconstruction', 'USED-FOR'],\n",
       " ['object shape', 'priori knowledge', 'FEATURE-OF']]"
      ]
     },
     "execution_count": 52,
     "metadata": {},
     "output_type": "execute_result"
    }
   ],
   "source": [
    "relations_true[13]"
   ]
  },
  {
   "cell_type": "code",
   "execution_count": 53,
   "id": "e5692112",
   "metadata": {},
   "outputs": [
    {
     "data": {
      "image/png": "[encoded data removed]",
      "text/plain": [
       "<Figure size 800x500 with 1 Axes>"
      ]
     },
     "metadata": {},
     "output_type": "display_data"
    }
   ],
   "source": [
    "import matplotlib.pyplot as plt\n",
    "\n",
    "labels = ['PART-OF', 'USED-FOR', 'EVALUATE-FOR', 'FEATURE-OF', 'CONJUNCTION', 'COMPARE']\n",
    "counts_pred = [relations_labels_predicted_count.get(l, 0) for l in labels]\n",
    "counts_true = [relations_labels_true_count.get(l, 0) for l in labels]\n",
    "\n",
    "x = range(len(labels))\n",
    "plt.figure(figsize=(8, 5))\n",
    "plt.bar(x, counts_pred, width=0.4, label='Predicted', align='center')\n",
    "plt.bar([i + 0.4 for i in x], counts_true, width=0.4, label='True', align='center')\n",
    "plt.xticks([i + 0.2 for i in x], labels)\n",
    "plt.ylabel('Count')\n",
    "plt.title('Relation Label Counts')\n",
    "plt.legend()\n",
    "plt.show()"
   ]
  },
  {
   "cell_type": "code",
   "execution_count": 54,
   "id": "189e1caa",
   "metadata": {},
   "outputs": [],
   "source": [
    "their=0\n",
    "for i in range(len(relations_all)):\n",
    "    their+=len(relations_true[i])\n",
    "    "
   ]
  },
  {
   "cell_type": "code",
   "execution_count": 55,
   "id": "29c39271",
   "metadata": {},
   "outputs": [
    {
     "data": {
      "text/plain": [
       "(974, 2485, 384)"
      ]
     },
     "execution_count": 55,
     "metadata": {},
     "output_type": "execute_result"
    }
   ],
   "source": [
    "their,ours,common"
   ]
  },
  {
   "cell_type": "code",
   "execution_count": 57,
   "id": "9fe283ab",
   "metadata": {},
   "outputs": [
    {
     "name": "stderr",
     "output_type": "stream",
     "text": [
      "/home/bt19d200/NER_Vamshi/NER_Model/.conda/lib/python3.10/site-packages/transformers/convert_slow_tokenizer.py:561: UserWarning: The sentencepiece tokenizer that you are converting to a fast tokenizer uses the byte fallback option which is not implemented in the fast tokenizers. In practice this means that the fast version of the tokenizer can produce unknown tokens whereas the sentencepiece version would have converted these unknown tokens into a sequence of byte tokens matching the original piece of text.\n",
      "  warnings.warn(\n",
      "100%|██████████| 551/551 [00:46<00:00, 11.89it/s]"
     ]
    },
    {
     "name": "stdout",
     "output_type": "stream",
     "text": [
      "Success! ✅\n"
     ]
    },
    {
     "name": "stderr",
     "output_type": "stream",
     "text": [
      "\n"
     ]
    }
   ],
   "source": [
    "from pair2rel import Pair2Rel\n",
    "\n",
    "rel_model = Pair2Rel.from_pretrained(\"chapalavamshi022/pair2rel\")\n",
    "\n",
    "rel_model = rel_model.to(device)\n",
    "\n",
    "labels=['USED-FOR','AND', 'EVALUATE-FOR', 'FEATURE-OF', 'PART-OF','COMPARE']\n",
    "\n",
    "relations_all=[]\n",
    "# head_asset={'Peop':'Org','Peop':'Loc','Org':'Loc','Loc':'Loc','Peop':'Peop'}\n",
    "for i in tqdm(range(len(new_data))):\n",
    "    if new_data[i]['ner'] == []:\n",
    "        relations_all.append([])\n",
    "        continue\n",
    "    try:\n",
    "        relations = rel_model.predict_relations(new_data[i]['sentence'], labels, threshold=0.0, ner=pred_ner[i], top_k=1)\n",
    "        mapp={}\n",
    "        order={}\n",
    "        for j in new_data[i]['ner']:\n",
    "            mapp[j[3]]=j[2]\n",
    "            order[j[3]]=j[0]\n",
    "\n",
    "        sorted_data_desc = sorted(relations, key=lambda x: x['score'], reverse=True)\n",
    "        temp=[]\n",
    "        for item in sorted_data_desc:\n",
    "            head=' '.join(item['head_text'])\n",
    "            tail=' '.join(item['tail_text'])\n",
    "            if head in mapp and tail in mapp and head!=tail:\n",
    "                temp.append([head,tail,item['label']])\n",
    "        relations_all.append(temp)\n",
    "    except:\n",
    "        relations_all.append([])\n",
    "        \n",
    "print(\"Success! ✅\")"
   ]
  },
  {
   "cell_type": "code",
   "execution_count": 60,
   "id": "e379a155",
   "metadata": {},
   "outputs": [],
   "source": [
    "recall_avg=[]\n",
    "precision_avg=[]\n",
    "common=0\n",
    "ours=0\n",
    "relations_all_filtered=[]\n",
    "\n",
    "for i in range(len(relations_all)):\n",
    "    true_set=relations_true[i]\n",
    "    pred_set=relations_all[i]\n",
    "    d={}\n",
    "    temp=[]\n",
    "    for item in pred_set:\n",
    "        if (item[0],item[1]) not in d and (item[1],item[0]) not in d:\n",
    "            d[(item[0],item[1])]=item[2]\n",
    "            temp.append([item[0],item[1],item[2]])\n",
    "    relations_all_filtered.append(temp)\n",
    "    \n",
    "    ours+=len(d)\n",
    "    if len(true_set) == 0 and len(pred_set) == 0:\n",
    "        recall_avg.append(1.0)\n",
    "        precision_avg.append(1.0)\n",
    "    else:\n",
    "        count=0\n",
    "        for m in true_set:\n",
    "            for n in pred_set:\n",
    "                if (m[0] in n[0] or n[0] in m[0]) and (m[1] in n[1] or n[1] in m[1]) and (m[2]==n[2] or (m[2]=='CONJUNCTION' and n[2]=='AND')):\n",
    "                    count+= 1\n",
    "        recall = count/ len(true_set) if len(true_set) > 0 else 0\n",
    "        precision = count / len(d) if len(d) > 0 else 0\n",
    "        common += count\n",
    "        recall_avg.append(recall)\n",
    "        precision_avg.append(precision)"
   ]
  },
  {
   "cell_type": "code",
   "execution_count": 61,
   "id": "2dffac52",
   "metadata": {},
   "outputs": [
    {
     "data": {
      "text/plain": [
       "(0.3167494886641893, 0.3320024198427103)"
      ]
     },
     "execution_count": 61,
     "metadata": {},
     "output_type": "execute_result"
    }
   ],
   "source": [
    "sum(recall_avg) / len(recall_avg), sum(precision_avg) / len(precision_avg)"
   ]
  },
  {
   "cell_type": "code",
   "execution_count": null,
   "id": "bec36701",
   "metadata": {},
   "outputs": [],
   "source": []
  }
 ],
 "metadata": {
  "kernelspec": {
   "display_name": "Python 3",
   "language": "python",
   "name": "python3"
  },
  "language_info": {
   "codemirror_mode": {
    "name": "ipython",
    "version": 3
   },
   "file_extension": ".py",
   "mimetype": "text/x-python",
   "name": "python",
   "nbconvert_exporter": "python",
   "pygments_lexer": "ipython3",
   "version": "3.10.16"
  }
 },
 "nbformat": 4,
 "nbformat_minor": 5
}
