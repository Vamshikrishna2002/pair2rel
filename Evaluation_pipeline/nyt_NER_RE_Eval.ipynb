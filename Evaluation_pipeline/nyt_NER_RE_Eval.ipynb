{
 "cells": [
  {
   "cell_type": "code",
   "execution_count": 1,
   "id": "b96221d4",
   "metadata": {},
   "outputs": [
    {
     "name": "stderr",
     "output_type": "stream",
     "text": [
      "/home/bt19d200/NER_Vamshi/NER_Model/.conda/lib/python3.10/site-packages/tqdm/auto.py:21: TqdmWarning: IProgress not found. Please update jupyter and ipywidgets. See https://ipywidgets.readthedocs.io/en/stable/user_install.html\n",
      "  from .autonotebook import tqdm as notebook_tqdm\n"
     ]
    }
   ],
   "source": [
    "from datasets import load_dataset"
   ]
  },
  {
   "cell_type": "code",
   "execution_count": 2,
   "id": "0969bee1",
   "metadata": {},
   "outputs": [],
   "source": [
    "dataset = load_dataset(\"DFKI-SLT/nyt-multi\") \n",
    "train = dataset[\"train\"]\n",
    "test = dataset[\"test\"]\n",
    "rel_set=set()\n",
    "for i in range(len(test)):\n",
    "    s=test[i]['relations'][0]['type']\n",
    "    result = s.split('/')[3]  # Index 3 gives you the part after the second slash\n",
    "    rel_set.add(result)"
   ]
  },
  {
   "cell_type": "code",
   "execution_count": 3,
   "id": "10165176",
   "metadata": {},
   "outputs": [
    {
     "data": {
      "text/plain": [
       "{'administrative_divisions',\n",
       " 'advisors',\n",
       " 'capital',\n",
       " 'children',\n",
       " 'company',\n",
       " 'contains',\n",
       " 'country',\n",
       " 'founders',\n",
       " 'location',\n",
       " 'major_shareholder_of',\n",
       " 'major_shareholders',\n",
       " 'nationality',\n",
       " 'neighborhood_of',\n",
       " 'people',\n",
       " 'place_founded',\n",
       " 'place_lived',\n",
       " 'place_of_birth',\n",
       " 'place_of_death',\n",
       " 'religion',\n",
       " 'teams'}"
      ]
     },
     "execution_count": 3,
     "metadata": {},
     "output_type": "execute_result"
    }
   ],
   "source": [
    "rel_set"
   ]
  },
  {
   "cell_type": "code",
   "execution_count": 4,
   "id": "5a7ec530",
   "metadata": {},
   "outputs": [
    {
     "data": {
      "text/plain": [
       "dict_keys(['tokens', 'spo_list', 'pos_tags', 'relations'])"
      ]
     },
     "execution_count": 4,
     "metadata": {},
     "output_type": "execute_result"
    }
   ],
   "source": [
    "test[0].keys()  # Display the keys of the first test example"
   ]
  },
  {
   "cell_type": "code",
   "execution_count": 5,
   "id": "de6e1fd0",
   "metadata": {},
   "outputs": [
    {
     "data": {
      "text/plain": [
       "[['Iowa', '/location/location/contains', 'Des Moines']]"
      ]
     },
     "execution_count": 5,
     "metadata": {},
     "output_type": "execute_result"
    }
   ],
   "source": [
    "test[2]['spo_list']"
   ]
  },
  {
   "cell_type": "code",
   "execution_count": 6,
   "id": "7440dfd5",
   "metadata": {},
   "outputs": [
    {
     "data": {
      "text/plain": [
       "[{'h': {'text': 'Bobby Fischer', 'start': 14, 'end': 16, 'type': 'PERSON'},\n",
       "  't': {'text': 'Iceland', 'start': 35, 'end': 36, 'type': 'LOCATION'},\n",
       "  'type': '/people/person/nationality'},\n",
       " {'h': {'text': 'Iceland', 'start': 35, 'end': 36, 'type': 'LOCATION'},\n",
       "  't': {'text': 'Reykjavik', 'start': 33, 'end': 34, 'type': 'LOCATION'},\n",
       "  'type': '/location/country/capital'},\n",
       " {'h': {'text': 'Iceland', 'start': 35, 'end': 36, 'type': 'LOCATION'},\n",
       "  't': {'text': 'Reykjavik', 'start': 33, 'end': 34, 'type': 'LOCATION'},\n",
       "  'type': '/location/location/contains'},\n",
       " {'h': {'text': 'Bobby Fischer', 'start': 14, 'end': 16, 'type': 'PERSON'},\n",
       "  't': {'text': 'Reykjavik', 'start': 33, 'end': 34, 'type': 'LOCATION'},\n",
       "  'type': '/people/deceased_person/place_of_death'}]"
      ]
     },
     "execution_count": 6,
     "metadata": {},
     "output_type": "execute_result"
    }
   ],
   "source": [
    "test[0]['relations']"
   ]
  },
  {
   "cell_type": "code",
   "execution_count": 7,
   "id": "f0bc7c7a",
   "metadata": {},
   "outputs": [
    {
     "data": {
      "text/plain": [
       "['', 'people', 'person', 'nationality']"
      ]
     },
     "execution_count": 7,
     "metadata": {},
     "output_type": "execute_result"
    }
   ],
   "source": [
    "s=test[0]['spo_list'][0][1]\n",
    "s.split('/')"
   ]
  },
  {
   "cell_type": "code",
   "execution_count": 8,
   "id": "9649bf6d",
   "metadata": {},
   "outputs": [],
   "source": [
    "ent_labels=set()\n",
    "true=[]\n",
    "entity_labels_true_count={}\n",
    "for i in range(len(test)):\n",
    "    temp=[]\n",
    "    for j in test[i]['spo_list']:\n",
    "        s=j[1].split('/')\n",
    "        if s[1] not in entity_labels_true_count:\n",
    "            entity_labels_true_count[s[1]]=0\n",
    "        if s[2] not in entity_labels_true_count:\n",
    "            entity_labels_true_count[s[2]]=0\n",
    "        entity_labels_true_count[s[1]]+=1\n",
    "        entity_labels_true_count[s[2]]+=1\n",
    "        ent_labels.add(s[1])\n",
    "        ent_labels.add(s[2]) \n",
    "        temp.append(j[0])\n",
    "        temp.append(j[2])\n",
    "    true.append(temp) \n",
    "        "
   ]
  },
  {
   "cell_type": "code",
   "execution_count": 9,
   "id": "3664688e",
   "metadata": {},
   "outputs": [
    {
     "data": {
      "text/plain": [
       "{'people': 1657,\n",
       " 'person': 1955,\n",
       " 'location': 10380,\n",
       " 'country': 1288,\n",
       " 'deceased_person': 136,\n",
       " 'administrative_division': 580,\n",
       " 'business': 604,\n",
       " 'neighborhood': 394,\n",
       " 'company': 135,\n",
       " 'sports': 34,\n",
       " 'sports_team_location': 17,\n",
       " 'sports_team': 17,\n",
       " 'company_shareholder': 33,\n",
       " 'ethnicity': 2}"
      ]
     },
     "execution_count": 9,
     "metadata": {},
     "output_type": "execute_result"
    }
   ],
   "source": [
    "entity_labels_true_count"
   ]
  },
  {
   "cell_type": "code",
   "execution_count": 10,
   "id": "eff4486f",
   "metadata": {},
   "outputs": [
    {
     "data": {
      "text/plain": [
       "['religion',\n",
       " 'nationality',\n",
       " 'place_of_birth',\n",
       " 'major_shareholders',\n",
       " 'company',\n",
       " 'place_founded',\n",
       " 'administrative_divisions',\n",
       " 'people',\n",
       " 'place_of_death',\n",
       " 'location',\n",
       " 'contains',\n",
       " 'country',\n",
       " 'founders',\n",
       " 'major_shareholder_of',\n",
       " 'place_lived',\n",
       " 'capital',\n",
       " 'neighborhood_of',\n",
       " 'teams',\n",
       " 'children',\n",
       " 'advisors']"
      ]
     },
     "execution_count": 10,
     "metadata": {},
     "output_type": "execute_result"
    }
   ],
   "source": [
    "rel_set=list(rel_set)\n",
    "rel_set"
   ]
  },
  {
   "cell_type": "code",
   "execution_count": 13,
   "id": "850a0c72",
   "metadata": {},
   "outputs": [
    {
     "name": "stderr",
     "output_type": "stream",
     "text": [
      "Fetching 4 files: 100%|██████████| 4/4 [00:00<00:00, 42690.12it/s]\n",
      "/home/bt19d200/NER_Vamshi/NER_Model/.conda/lib/python3.10/site-packages/transformers/convert_slow_tokenizer.py:561: UserWarning: The sentencepiece tokenizer that you are converting to a fast tokenizer uses the byte fallback option which is not implemented in the fast tokenizers. In practice this means that the fast version of the tokenizer can produce unknown tokens whereas the sentencepiece version would have converted these unknown tokens into a sequence of byte tokens matching the original piece of text.\n",
      "  warnings.warn(\n",
      "  0%|          | 0/5000 [00:00<?, ?it/s]Asking to truncate to max_length but no maximum length is provided and the model has no predefined maximum length. Default to no truncation.\n",
      "100%|██████████| 5000/5000 [05:06<00:00, 16.32it/s]\n"
     ]
    }
   ],
   "source": [
    "from gliner import GLiNER\n",
    "\n",
    "import os\n",
    "import torch\n",
    "from tqdm import tqdm\n",
    "\n",
    "# text=\"The branding of the CSAT survey email has been made generic to ensure that end customers do not associate it with DevRev.\"\n",
    "model=GLiNER.from_pretrained(\"urchade/gliner_large-v2.1\")\n",
    "# Force usage of GPU 1\n",
    "device = torch.device(\"cuda:7\" if torch.cuda.is_available() else \"cpu\")\n",
    "model = model.to(device)\n",
    "\n",
    "\n",
    "labels=['company', 'country', 'location', 'neighborhood', 'people', 'person', 'sports']\n",
    "# labels=all_entities\n",
    "results=[]\n",
    "predicted_ner=[]\n",
    "entity_labels_predicted_count={}\n",
    "for i in tqdm(range(len(test))):\n",
    "    text=test[i]['tokens']\n",
    "    text=' '.join(text)\n",
    "    entities=model.predict_entities(text,labels=labels,threshold=0.5,multi_label=True)\n",
    "    real=set()\n",
    "    import re\n",
    "    temp=[]\n",
    "    # dtokens = re.split(r\"[ ,._:;\\[\\](){}\\/\\?\\r'\\*\\n|!-\\\"<>\\-#@=%&+]+\", text)\n",
    "\n",
    "    for entity in entities:\n",
    "        # ent_text=re.split(r\"[ ,._:;\\[\\](){}\\/\\?\\r'\\*\\n|!-\\\"<>\\-#@=%&+]+\", entity['text'])\n",
    "        if entity['label'] not in entity_labels_predicted_count:\n",
    "            entity_labels_predicted_count[entity['label']]=0\n",
    "        entity_labels_predicted_count[entity['label']]+=1\n",
    "        if entity['text'] not in real:\n",
    "            temp.append([entity['start'], entity['end'],entity['label'], entity['text']])\n",
    "        real.add(entity['text'])\n",
    "    predicted_ner.append(temp)\n",
    "    real=list(real)\n",
    "    results.append(real)"
   ]
  },
  {
   "cell_type": "code",
   "execution_count": 14,
   "id": "774388f8",
   "metadata": {},
   "outputs": [],
   "source": [
    "pred_ner=[]\n",
    "for i in range(len(test)):\n",
    "    text=test[i]['tokens']\n",
    "    temp=[]\n",
    "    for j in predicted_ner[i]:\n",
    "        token=j[3].split(' ')\n",
    "        try:\n",
    "            start=text.index(token[0])\n",
    "            end=text.index(token[-1],start)\n",
    "            ent=' '.join(text[start:end+1])\n",
    "            temp.append([start, end, j[2], ent])\n",
    "        except:\n",
    "            pass\n",
    "    pred_ner.append(temp)"
   ]
  },
  {
   "cell_type": "code",
   "execution_count": 15,
   "id": "662c6742",
   "metadata": {},
   "outputs": [
    {
     "data": {
      "text/plain": [
       "{'person': 5980,\n",
       " 'location': 7892,\n",
       " 'country': 3135,\n",
       " 'sports': 311,\n",
       " 'neighborhood': 646,\n",
       " 'company': 938,\n",
       " 'people': 1021}"
      ]
     },
     "execution_count": 15,
     "metadata": {},
     "output_type": "execute_result"
    }
   ],
   "source": [
    "entity_labels_predicted_count"
   ]
  },
  {
   "cell_type": "code",
   "execution_count": 16,
   "id": "e3e1c3f7",
   "metadata": {},
   "outputs": [
    {
     "data": {
      "text/plain": [
       "{'people': 1657,\n",
       " 'person': 1955,\n",
       " 'location': 10380,\n",
       " 'country': 1288,\n",
       " 'deceased_person': 136,\n",
       " 'administrative_division': 580,\n",
       " 'business': 604,\n",
       " 'neighborhood': 394,\n",
       " 'company': 135,\n",
       " 'sports': 34,\n",
       " 'sports_team_location': 17,\n",
       " 'sports_team': 17,\n",
       " 'company_shareholder': 33,\n",
       " 'ethnicity': 2}"
      ]
     },
     "execution_count": 16,
     "metadata": {},
     "output_type": "execute_result"
    }
   ],
   "source": [
    "entity_labels_true_count"
   ]
  },
  {
   "cell_type": "code",
   "execution_count": 17,
   "id": "bc84730c",
   "metadata": {},
   "outputs": [
    {
     "data": {
      "image/png": "[encoded data removed]",
      "text/plain": [
       "<Figure size 800x500 with 1 Axes>"
      ]
     },
     "metadata": {},
     "output_type": "display_data"
    }
   ],
   "source": [
    "import matplotlib.pyplot as plt\n",
    "\n",
    "# Merge and map predicted labels\n",
    "entity_labels_count_predicted_mapped = {\n",
    "    'person': entity_labels_predicted_count.get('person', 0)+entity_labels_predicted_count.get('people', 0),\n",
    "    'location': entity_labels_predicted_count.get('location', 0)+ entity_labels_predicted_count.get('country',0),\n",
    "    'organisation': entity_labels_predicted_count.get('sports', 0) + entity_labels_predicted_count.get('neighborhood', 0)+entity_labels_predicted_count.get('company',0),\n",
    "    }\n",
    "\n",
    "# True labels are already in the correct format\n",
    "entity_labels_count_true_mapped = {\n",
    "    'person': entity_labels_true_count.get('person', 0)+entity_labels_true_count.get('people', 0)+entity_labels_true_count.get('country', 0)+entity_labels_true_count.get('deceased_person', 0),\n",
    "    'location': entity_labels_true_count.get('location', 0),\n",
    "    'organisation': entity_labels_true_count.get('business', 0)+entity_labels_true_count.get('administrative_divison', 0)+entity_labels_true_count.get('sports', 0) + entity_labels_true_count.get('neighborhood', 0)+entity_labels_true_count.get('company',0),\n",
    "    }\n",
    "\n",
    "\n",
    "labels = ['person','location','organisation']\n",
    "counts_pred = [entity_labels_count_predicted_mapped.get(l, 0) for l in labels]\n",
    "counts_true = [entity_labels_count_true_mapped.get(l, 0) for l in labels]\n",
    "\n",
    "x = range(len(labels))\n",
    "plt.figure(figsize=(8, 5))\n",
    "plt.bar(x, counts_pred, width=0.4, label='Predicted', align='center')\n",
    "plt.bar([i + 0.4 for i in x], counts_true, width=0.4, label='True', align='center')\n",
    "plt.xticks([i + 0.2 for i in x], labels)\n",
    "plt.ylabel('Count')\n",
    "plt.title('Entity Label Counts')\n",
    "plt.legend()\n",
    "plt.show()"
   ]
  },
  {
   "cell_type": "code",
   "execution_count": 18,
   "id": "a83b822b",
   "metadata": {},
   "outputs": [
    {
     "data": {
      "text/plain": [
       "'The final deal was brokered through the major assistance of Annette L. Nazareth , an S.E.C. commissioner who once led its market regulation office , and Frank G. Zarb , the former chairman of NASD and a major presence on Wall Street and in Washington for much of his career .'"
      ]
     },
     "execution_count": 18,
     "metadata": {},
     "output_type": "execute_result"
    }
   ],
   "source": [
    "' '.join(test[7]['tokens'])"
   ]
  },
  {
   "cell_type": "code",
   "execution_count": 19,
   "id": "cec06779",
   "metadata": {},
   "outputs": [
    {
     "data": {
      "text/plain": [
       "['Frank G. Zarb', 'Washington', 'Wall Street', 'Annette L. Nazareth']"
      ]
     },
     "execution_count": 19,
     "metadata": {},
     "output_type": "execute_result"
    }
   ],
   "source": [
    "results[7]"
   ]
  },
  {
   "cell_type": "code",
   "execution_count": 20,
   "id": "c365ece2",
   "metadata": {},
   "outputs": [
    {
     "data": {
      "text/plain": [
       "['Frank G. Zarb', 'NASD']"
      ]
     },
     "execution_count": 20,
     "metadata": {},
     "output_type": "execute_result"
    }
   ],
   "source": [
    "true[7]"
   ]
  },
  {
   "cell_type": "code",
   "execution_count": 21,
   "id": "22eee58b",
   "metadata": {},
   "outputs": [],
   "source": [
    "recall_avg=[]\n",
    "precision_avg=[]\n",
    "common2=0\n",
    "for i in range(len(results)):\n",
    "    true_set=set(true[i])\n",
    "    pred_set=set(results[i])\n",
    "    \n",
    "    if len(true_set) == 0 and len(pred_set) == 0:\n",
    "        recall_avg.append(1.0)\n",
    "        precision_avg.append(1.0)\n",
    "    else:\n",
    "        count=0\n",
    "        for m in true_set:\n",
    "            for n in pred_set:\n",
    "                if m in n or n==m:\n",
    "                    count+= 1\n",
    "        recall = count / len(true_set) if len(true_set) > 0 else 0\n",
    "        precision = count / len(pred_set) if len(pred_set) > 0 else 0\n",
    "        common2 += count\n",
    "        recall_avg.append(recall)\n",
    "        precision_avg.append(precision)"
   ]
  },
  {
   "cell_type": "code",
   "execution_count": 22,
   "id": "1ba93440",
   "metadata": {},
   "outputs": [
    {
     "data": {
      "text/plain": [
       "(0.9377926190476182, 0.6058585743668083)"
      ]
     },
     "execution_count": 22,
     "metadata": {},
     "output_type": "execute_result"
    }
   ],
   "source": [
    "sum(recall_avg) / len(recall_avg), sum(precision_avg) / len(precision_avg)"
   ]
  },
  {
   "cell_type": "code",
   "execution_count": 23,
   "id": "b8219b43",
   "metadata": {},
   "outputs": [],
   "source": [
    "def process(example):\n",
    "    ner=[]\n",
    "    for ent in example['relations']:\n",
    "        head=ent['h']\n",
    "        tail=ent['t']    \n",
    "        text=head['text']\n",
    "        start=head['start']\n",
    "        end=head['end']\n",
    "        ent_type=head['type']\n",
    "        ner.append([start, end-1, ent_type, text])\n",
    "        text=tail['text']\n",
    "        start=tail['start']\n",
    "        end=tail['end']\n",
    "        ent_type=tail['type']\n",
    "        ner.append([start, end-1, ent_type, text])\n",
    "\n",
    "    example['ner'] = ner  # Add ner to the original example\n",
    "    return example\n",
    "processed_data = [process(example) for example in test]"
   ]
  },
  {
   "cell_type": "code",
   "execution_count": 24,
   "id": "7a1498fb",
   "metadata": {},
   "outputs": [
    {
     "data": {
      "text/plain": [
       "[{'h': {'text': 'Bobby Fischer', 'start': 14, 'end': 16, 'type': 'PERSON'},\n",
       "  't': {'text': 'Iceland', 'start': 35, 'end': 36, 'type': 'LOCATION'},\n",
       "  'type': '/people/person/nationality'},\n",
       " {'h': {'text': 'Iceland', 'start': 35, 'end': 36, 'type': 'LOCATION'},\n",
       "  't': {'text': 'Reykjavik', 'start': 33, 'end': 34, 'type': 'LOCATION'},\n",
       "  'type': '/location/country/capital'},\n",
       " {'h': {'text': 'Iceland', 'start': 35, 'end': 36, 'type': 'LOCATION'},\n",
       "  't': {'text': 'Reykjavik', 'start': 33, 'end': 34, 'type': 'LOCATION'},\n",
       "  'type': '/location/location/contains'},\n",
       " {'h': {'text': 'Bobby Fischer', 'start': 14, 'end': 16, 'type': 'PERSON'},\n",
       "  't': {'text': 'Reykjavik', 'start': 33, 'end': 34, 'type': 'LOCATION'},\n",
       "  'type': '/people/deceased_person/place_of_death'}]"
      ]
     },
     "execution_count": 24,
     "metadata": {},
     "output_type": "execute_result"
    }
   ],
   "source": [
    "processed_data[0]['relations']"
   ]
  },
  {
   "cell_type": "code",
   "execution_count": 25,
   "id": "70457c30",
   "metadata": {},
   "outputs": [],
   "source": [
    "relations_true=[]\n",
    "relation_labels_true_count={}\n",
    "for i in range(len(processed_data)):\n",
    "    temp=[]\n",
    "    for j in processed_data[i]['relations']:\n",
    "        s=j['type']\n",
    "        rel_type = s.split('/')[3]\n",
    "        temp.append([j['h']['text'], j['t']['text'], rel_type])\n",
    "        if rel_type not in relation_labels_true_count:\n",
    "            relation_labels_true_count[rel_type]=0\n",
    "        relation_labels_true_count[rel_type]+=1\n",
    "    relations_true.append(temp)  "
   ]
  },
  {
   "cell_type": "code",
   "execution_count": 26,
   "id": "f67ac656",
   "metadata": {},
   "outputs": [
    {
     "data": {
      "text/plain": [
       "{'nationality': 589,\n",
       " 'capital': 708,\n",
       " 'contains': 4059,\n",
       " 'place_of_death': 136,\n",
       " 'children': 42,\n",
       " 'place_of_birth': 270,\n",
       " 'place_lived': 612,\n",
       " 'administrative_divisions': 580,\n",
       " 'country': 580,\n",
       " 'company': 436,\n",
       " 'neighborhood_of': 394,\n",
       " 'place_founded': 36,\n",
       " 'founders': 63,\n",
       " 'teams': 17,\n",
       " 'location': 17,\n",
       " 'major_shareholder_of': 33,\n",
       " 'major_shareholders': 33,\n",
       " 'people': 1,\n",
       " 'ethnicity': 1,\n",
       " 'advisors': 3,\n",
       " 'religion': 5,\n",
       " 'geographic_distribution': 1}"
      ]
     },
     "execution_count": 26,
     "metadata": {},
     "output_type": "execute_result"
    }
   ],
   "source": [
    "relation_labels_true_count"
   ]
  },
  {
   "cell_type": "code",
   "execution_count": 27,
   "id": "2295376f",
   "metadata": {},
   "outputs": [
    {
     "data": {
      "text/plain": [
       "[['Bobby Fischer', 'Iceland', 'nationality'],\n",
       " ['Iceland', 'Reykjavik', 'capital'],\n",
       " ['Iceland', 'Reykjavik', 'contains'],\n",
       " ['Bobby Fischer', 'Reykjavik', 'place_of_death']]"
      ]
     },
     "execution_count": 27,
     "metadata": {},
     "output_type": "execute_result"
    }
   ],
   "source": [
    "relations_true[0]"
   ]
  },
  {
   "cell_type": "code",
   "execution_count": 28,
   "id": "59860130",
   "metadata": {},
   "outputs": [
    {
     "name": "stderr",
     "output_type": "stream",
     "text": [
      "/home/bt19d200/NER_Vamshi/NER_Model/.conda/lib/python3.10/site-packages/transformers/convert_slow_tokenizer.py:561: UserWarning: The sentencepiece tokenizer that you are converting to a fast tokenizer uses the byte fallback option which is not implemented in the fast tokenizers. In practice this means that the fast version of the tokenizer can produce unknown tokens whereas the sentencepiece version would have converted these unknown tokens into a sequence of byte tokens matching the original piece of text.\n",
      "  warnings.warn(\n",
      "100%|██████████| 5000/5000 [07:34<00:00, 10.99it/s]"
     ]
    },
    {
     "name": "stdout",
     "output_type": "stream",
     "text": [
      "Success! ✅\n"
     ]
    },
    {
     "name": "stderr",
     "output_type": "stream",
     "text": [
      "\n"
     ]
    }
   ],
   "source": [
    "from pair2rel import Pair2Rel\n",
    "\n",
    "from tqdm import tqdm\n",
    "model = Pair2Rel.from_pretrained(\"chapalavamshi022/pair2rel\")\n",
    "import torch\n",
    "\n",
    "# Force usage of GPU 1\n",
    "device = torch.device(\"cuda:7\" if torch.cuda.is_available() else \"cpu\")\n",
    "model = model.to(device)\n",
    "model.device = device \n",
    "relations_all=[]\n",
    "labels = ['contains','includes','place_lived','nationality','company','capital','neighborhood_of','place_of_birth','country',\n",
    "            'place_of_death','place_founded']\n",
    "relation_labels_predicted_count={}\n",
    "for i in tqdm(range(len(processed_data))):\n",
    "    # required_labels = []\n",
    "    # for token in processed_data[i]['tokens']:\n",
    "    #     if token in rel_set:\n",
    "    #         required_labels.append(token)\n",
    "    \n",
    "    relations = model.predict_relations(processed_data[i]['tokens'], labels, threshold=0.0, ner=processed_data[i]['ner'], top_k=1)\n",
    "\n",
    "    sorted_data_desc = sorted(relations, key=lambda x: x['score'], reverse=True)\n",
    "    temp=[]\n",
    "    for item in sorted_data_desc:\n",
    "        head=' '.join(item['head_text'])\n",
    "        tail=' '.join(item['tail_text'])\n",
    "        if head == tail:\n",
    "            continue\n",
    "        if item['label'] not in relation_labels_predicted_count:\n",
    "            relation_labels_predicted_count[item['label']]=0\n",
    "        relation_labels_predicted_count[item['label']]+=1\n",
    "        temp.append([head,tail,item['label']])\n",
    "\n",
    "    relations_all.append(temp)\n",
    "        \n",
    "\n",
    "print(\"Success! ✅\")\n"
   ]
  },
  {
   "cell_type": "code",
   "execution_count": 36,
   "id": "ad6a5232",
   "metadata": {},
   "outputs": [
    {
     "data": {
      "text/plain": [
       "{'country': 2441,\n",
       " 'capital': 1663,\n",
       " 'place_of_birth': 1448,\n",
       " 'nationality': 2752,\n",
       " 'neighborhood_of': 1236,\n",
       " 'contains': 2016,\n",
       " 'place_lived': 407,\n",
       " 'place_of_death': 506,\n",
       " 'includes': 1046,\n",
       " 'company': 517,\n",
       " 'place_founded': 56}"
      ]
     },
     "execution_count": 36,
     "metadata": {},
     "output_type": "execute_result"
    }
   ],
   "source": [
    "relation_labels_predicted_count"
   ]
  },
  {
   "cell_type": "code",
   "execution_count": 37,
   "id": "6c8c11fa",
   "metadata": {},
   "outputs": [
    {
     "data": {
      "text/plain": [
       "{'nationality': 589,\n",
       " 'capital': 708,\n",
       " 'contains': 4059,\n",
       " 'place_of_death': 136,\n",
       " 'children': 42,\n",
       " 'place_of_birth': 270,\n",
       " 'place_lived': 612,\n",
       " 'administrative_divisions': 580,\n",
       " 'country': 580,\n",
       " 'company': 436,\n",
       " 'neighborhood_of': 394,\n",
       " 'place_founded': 36,\n",
       " 'founders': 63,\n",
       " 'teams': 17,\n",
       " 'location': 17,\n",
       " 'major_shareholder_of': 33,\n",
       " 'major_shareholders': 33,\n",
       " 'people': 1,\n",
       " 'ethnicity': 1,\n",
       " 'advisors': 3,\n",
       " 'religion': 5,\n",
       " 'geographic_distribution': 1}"
      ]
     },
     "execution_count": 37,
     "metadata": {},
     "output_type": "execute_result"
    }
   ],
   "source": [
    "relation_labels_true_count"
   ]
  },
  {
   "cell_type": "code",
   "execution_count": 38,
   "id": "ac46334d",
   "metadata": {},
   "outputs": [
    {
     "data": {
      "text/plain": [
       "\"This summer , the United States Embassy in Beirut , Lebanon , once again made its presence felt on the cultural scene by sponsoring a photo exhibition , an experimental jazz performance , a classical music concert and a visit from the Whiffenpoofs , Yale University 's a cappella singers .\""
      ]
     },
     "execution_count": 38,
     "metadata": {},
     "output_type": "execute_result"
    }
   ],
   "source": [
    "' '.join(processed_data[10]['tokens'])"
   ]
  },
  {
   "cell_type": "code",
   "execution_count": 39,
   "id": "85beab94",
   "metadata": {},
   "outputs": [
    {
     "data": {
      "text/plain": [
       "[['Lebanon', 'Beirut', 'contains'], ['Lebanon', 'Beirut', 'capital']]"
      ]
     },
     "execution_count": 39,
     "metadata": {},
     "output_type": "execute_result"
    }
   ],
   "source": [
    "relations_true[10]"
   ]
  },
  {
   "cell_type": "code",
   "execution_count": 40,
   "id": "1ae88f25",
   "metadata": {},
   "outputs": [
    {
     "data": {
      "text/plain": [
       "[['Beirut', 'Lebanon', 'capital'], ['Lebanon', 'Beirut', 'capital']]"
      ]
     },
     "execution_count": 40,
     "metadata": {},
     "output_type": "execute_result"
    }
   ],
   "source": [
    "relations_all[10]"
   ]
  },
  {
   "cell_type": "code",
   "execution_count": 41,
   "id": "2f32c689",
   "metadata": {},
   "outputs": [],
   "source": [
    "recall_avg=[]\n",
    "precision_avg=[]\n",
    "common=0\n",
    "ours=0\n",
    "\n",
    "for i in range(len(relations_all)):\n",
    "    true_set=relations_true[i]\n",
    "    pred_set=relations_all[i]\n",
    "    d={}\n",
    "    for item in pred_set:\n",
    "        if (item[0],item[1]) not in d and (item[1],item[0]) not in d:\n",
    "            d[(item[0],item[1])]=item[2]\n",
    "    \n",
    "    ours+=len(d)\n",
    "    if len(true_set) == 0 and len(pred_set) == 0:\n",
    "        recall_avg.append(1.0)\n",
    "        precision_avg.append(1.0)\n",
    "    else:\n",
    "        count=0\n",
    "        for m in true_set:\n",
    "            for n in pred_set:\n",
    "                if m[0]==n[0] and m[1]==n[1] and (m[2]==n[2] or (m[2]=='administrative_divisions' and n[2]=='country') or (m[2]=='contains' and n[2]=='includes') or (m[2]=='country' and n[2]=='capital')):\n",
    "                    count+= 1\n",
    "        recall = count/ len(true_set) if len(true_set) > 0 else 0\n",
    "        precision = count / len(pred_set) if len(d) > 0 else 0\n",
    "        common += count\n",
    "        recall_avg.append(recall)\n",
    "        precision_avg.append(precision)"
   ]
  },
  {
   "cell_type": "code",
   "execution_count": 42,
   "id": "6aba707d",
   "metadata": {},
   "outputs": [
    {
     "data": {
      "text/plain": [
       "(0.3588137518037519, 0.2696111111111112)"
      ]
     },
     "execution_count": 42,
     "metadata": {},
     "output_type": "execute_result"
    }
   ],
   "source": [
    "sum(recall_avg) / len(recall_avg), sum(precision_avg) / len(precision_avg)"
   ]
  },
  {
   "cell_type": "markdown",
   "id": "1a6913a3",
   "metadata": {},
   "source": [
    "65.43"
   ]
  },
  {
   "cell_type": "code",
   "execution_count": 44,
   "id": "e4aeb14e",
   "metadata": {},
   "outputs": [
    {
     "name": "stderr",
     "output_type": "stream",
     "text": [
      "/home/bt19d200/NER_Vamshi/NER_Model/.conda/lib/python3.10/site-packages/transformers/convert_slow_tokenizer.py:561: UserWarning: The sentencepiece tokenizer that you are converting to a fast tokenizer uses the byte fallback option which is not implemented in the fast tokenizers. In practice this means that the fast version of the tokenizer can produce unknown tokens whereas the sentencepiece version would have converted these unknown tokens into a sequence of byte tokens matching the original piece of text.\n",
      "  warnings.warn(\n",
      "100%|██████████| 5000/5000 [07:04<00:00, 11.77it/s]"
     ]
    },
    {
     "name": "stdout",
     "output_type": "stream",
     "text": [
      "Success! ✅\n"
     ]
    },
    {
     "name": "stderr",
     "output_type": "stream",
     "text": [
      "\n"
     ]
    }
   ],
   "source": [
    "from pair2rel import Pair2Rel\n",
    "\n",
    "from tqdm import tqdm\n",
    "model = Pair2Rel.from_pretrained(\"chapalavamshi022/pair2rel\")\n",
    "import torch\n",
    "\n",
    "# Force usage of GPU 1\n",
    "device = torch.device(\"cuda:7\" if torch.cuda.is_available() else \"cpu\")\n",
    "model = model.to(device)\n",
    "model.device = device \n",
    "relations_all=[]\n",
    "labels = ['contains','includes','place_lived','nationality','company','capital','neighborhood_of','place_of_birth','country',\n",
    "            'place_of_death','place_founded']\n",
    "relation_labels_predicted_count={}\n",
    "for i in tqdm(range(len(processed_data))):\n",
    "    # required_labels = []\n",
    "    # for token in processed_data[i]['tokens']:\n",
    "    #     if token in rel_set:\n",
    "    #         required_labels.append(token)\n",
    "    try:\n",
    "    \n",
    "        relations = model.predict_relations(processed_data[i]['tokens'], labels, threshold=0.0, ner=pred_ner[i], top_k=1)\n",
    "\n",
    "        sorted_data_desc = sorted(relations, key=lambda x: x['score'], reverse=True)\n",
    "        temp=[]\n",
    "        for item in sorted_data_desc:\n",
    "            head=' '.join(item['head_text'])\n",
    "            tail=' '.join(item['tail_text'])\n",
    "            if head == tail:\n",
    "                continue\n",
    "            if item['label'] not in relation_labels_predicted_count:\n",
    "                relation_labels_predicted_count[item['label']]=0\n",
    "            relation_labels_predicted_count[item['label']]+=1\n",
    "            temp.append([head,tail,item['label']])\n",
    "\n",
    "        relations_all.append(temp)\n",
    "    except:\n",
    "        relations_all.append([])\n",
    "\n",
    "print(\"Success! ✅\")\n"
   ]
  },
  {
   "cell_type": "code",
   "execution_count": 52,
   "id": "62e6ea44",
   "metadata": {},
   "outputs": [],
   "source": [
    "recall_avg=[]\n",
    "precision_avg=[]\n",
    "common=0\n",
    "ours=0\n",
    "\n",
    "for i in range(len(relations_all)):\n",
    "    true_set=relations_true[i]\n",
    "    pred_set=relations_all[i]\n",
    "    d={}\n",
    "    for item in pred_set:\n",
    "        if (item[0],item[1]) not in d and (item[1],item[0]) not in d:\n",
    "            d[(item[0],item[1])]=item[2]\n",
    "    \n",
    "    ours+=len(d)\n",
    "    if len(true_set) == 0 and len(pred_set) == 0:\n",
    "        recall_avg.append(1.0)\n",
    "        precision_avg.append(1.0)\n",
    "    else:\n",
    "        count=0\n",
    "        for m in true_set:\n",
    "            for n in pred_set:\n",
    "                if (m[0] in n[0] or n[0] in m[0]) and (m[1] in n[1] or n[1] in m[1]) and (m[2]==n[2] or (m[2]=='administrative_divisions' and n[2]=='country') or (m[2]=='contains' and n[2]=='includes') or (m[2]=='country' and n[2]=='capital')):\n",
    "                    count+= 1\n",
    "        recall = count/ len(true_set) if len(true_set) > 0 else 0\n",
    "        precision = count / len(d) if len(d) > 0 else 0\n",
    "        common += count\n",
    "        recall_avg.append(recall)\n",
    "        precision_avg.append(precision)"
   ]
  },
  {
   "cell_type": "code",
   "execution_count": 53,
   "id": "79a2ee4e",
   "metadata": {},
   "outputs": [
    {
     "data": {
      "text/plain": [
       "(0.3301430772005775, 0.19016944166944294)"
      ]
     },
     "execution_count": 53,
     "metadata": {},
     "output_type": "execute_result"
    }
   ],
   "source": [
    "sum(recall_avg) / len(recall_avg), sum(precision_avg) / len(precision_avg)"
   ]
  },
  {
   "cell_type": "code",
   "execution_count": null,
   "id": "a16f5e86",
   "metadata": {},
   "outputs": [
    {
     "name": "stderr",
     "output_type": "stream",
     "text": [
      "/home/bt19d200/NER_Vamshi/NER_Model/.conda/lib/python3.10/site-packages/transformers/convert_slow_tokenizer.py:561: UserWarning: The sentencepiece tokenizer that you are converting to a fast tokenizer uses the byte fallback option which is not implemented in the fast tokenizers. In practice this means that the fast version of the tokenizer can produce unknown tokens whereas the sentencepiece version would have converted these unknown tokens into a sequence of byte tokens matching the original piece of text.\n",
      "  warnings.warn(\n",
      "100%|██████████| 5000/5000 [05:23<00:00, 15.46it/s]"
     ]
    },
    {
     "name": "stdout",
     "output_type": "stream",
     "text": [
      "Success! ✅\n"
     ]
    },
    {
     "name": "stderr",
     "output_type": "stream",
     "text": [
      "\n"
     ]
    }
   ],
   "source": [
    "from pair2rel import Pair2Rel\n",
    "\n",
    "from tqdm import tqdm\n",
    "model = Pair2Rel.from_pretrained(\"chapalavamshi022/pair2rel\")\n",
    "import torch\n",
    "\n",
    "# Force usage of GPU 1\n",
    "device = torch.device(\"cuda:7\" if torch.cuda.is_available() else \"cpu\")\n",
    "model = model.to(device)\n",
    "model.device = device \n",
    "relations_all=[]\n",
    "labels = ['contains','includes','place_lived','nationality','company','capital','neighborhood_of','place_of_birth','country',\n",
    "            'place_of_death','place_founded']\n",
    "relation_labels_predicted_count={}\n",
    "for i in tqdm(range(len(processed_data))):\n",
    "    # required_labels = []\n",
    "    # for token in processed_data[i]['tokens']:\n",
    "    #     if token in rel_set:\n",
    "    #         required_labels.append(token)\n",
    "    \n",
    "    relations = model.predict_relations(processed_data[i]['tokens'], labels, threshold=0.0, ner=processed_data[i]['ner'], top_k=2)\n",
    "\n",
    "    sorted_data_desc = sorted(relations, key=lambda x: x['score'], reverse=True)\n",
    "    temp=[]\n",
    "    for item in sorted_data_desc:\n",
    "        head=' '.join(item['head_text'])\n",
    "        tail=' '.join(item['tail_text'])\n",
    "        if head == tail:\n",
    "            continue\n",
    "        if item['label'] not in relation_labels_predicted_count:\n",
    "            relation_labels_predicted_count[item['label']]=0\n",
    "        relation_labels_predicted_count[item['label']]+=1\n",
    "        temp.append([head,tail,item['label']])\n",
    "\n",
    "    relations_all.append(temp)\n",
    "        \n",
    "print(\"Success! ✅\")\n"
   ]
  },
  {
   "cell_type": "code",
   "execution_count": 54,
   "id": "5c67172e",
   "metadata": {},
   "outputs": [],
   "source": [
    "recall_avg=[]\n",
    "precision_avg=[]\n",
    "common=0\n",
    "ours=0\n",
    "\n",
    "for i in range(len(relations_all)):\n",
    "    true_set=relations_true[i]\n",
    "    pred_set=relations_all[i]\n",
    "    d={}\n",
    "    for item in pred_set:\n",
    "        if (item[0],item[1]) not in d and (item[1],item[0]) not in d:\n",
    "            d[(item[0],item[1])]=item[2]\n",
    "    \n",
    "    ours+=len(d)\n",
    "    if len(true_set) == 0 and len(pred_set) == 0:\n",
    "        recall_avg.append(1.0)\n",
    "        precision_avg.append(1.0)\n",
    "    else:\n",
    "        count=0\n",
    "        for m in true_set:\n",
    "            for n in pred_set:\n",
    "                if m[0]==n[0] and m[1]==n[1] and (m[2]==n[2] or (m[2]=='administrative_divisions' and n[2]=='country') or (m[2]=='contains' and n[2]=='includes') or (m[2]=='country' and n[2]=='capital')):\n",
    "                    count+= 1\n",
    "        recall = count/ len(true_set) if len(true_set) > 0 else 0\n",
    "        precision = count / len(pred_set) if len(d) > 0 else 0\n",
    "        common += count\n",
    "        recall_avg.append(recall)\n",
    "        precision_avg.append(precision)"
   ]
  },
  {
   "cell_type": "code",
   "execution_count": 68,
   "id": "c9dbf6d5",
   "metadata": {},
   "outputs": [
    {
     "data": {
      "text/plain": [
       "(0.6480175036075041, 0.2525411111111112)"
      ]
     },
     "execution_count": 68,
     "metadata": {},
     "output_type": "execute_result"
    }
   ],
   "source": [
    "sum(recall_avg) / len(recall_avg), sum(precision_avg) / len(precision_avg)"
   ]
  },
  {
   "cell_type": "code",
   "execution_count": 69,
   "id": "bf48ad38",
   "metadata": {},
   "outputs": [
    {
     "name": "stderr",
     "output_type": "stream",
     "text": [
      "/home/bt19d200/NER_Vamshi/NER_Model/.conda/lib/python3.10/site-packages/transformers/convert_slow_tokenizer.py:561: UserWarning: The sentencepiece tokenizer that you are converting to a fast tokenizer uses the byte fallback option which is not implemented in the fast tokenizers. In practice this means that the fast version of the tokenizer can produce unknown tokens whereas the sentencepiece version would have converted these unknown tokens into a sequence of byte tokens matching the original piece of text.\n",
      "  warnings.warn(\n",
      "100%|██████████| 5000/5000 [05:14<00:00, 15.92it/s]"
     ]
    },
    {
     "name": "stdout",
     "output_type": "stream",
     "text": [
      "Success! ✅\n"
     ]
    },
    {
     "name": "stderr",
     "output_type": "stream",
     "text": [
      "\n"
     ]
    }
   ],
   "source": [
    "from pair2rel import Pair2Rel\n",
    "\n",
    "from tqdm import tqdm\n",
    "model = Pair2Rel.from_pretrained(\"chapalavamshi022/pair2rel\")\n",
    "import torch\n",
    "\n",
    "# Force usage of GPU 1\n",
    "device = torch.device(\"cuda:7\" if torch.cuda.is_available() else \"cpu\")\n",
    "model = model.to(device)\n",
    "model.device = device \n",
    "relations_all=[]\n",
    "labels = ['contains','includes','place_lived','nationality','company','capital','neighborhood_of','place_of_birth','country',\n",
    "            'place_of_death','place_founded']\n",
    "relation_labels_predicted_count={}\n",
    "for i in tqdm(range(len(processed_data))):\n",
    "    # required_labels = []\n",
    "    # for token in processed_data[i]['tokens']:\n",
    "    #     if token in rel_set:\n",
    "    #         required_labels.append(token)\n",
    "    \n",
    "    relations = model.predict_relations(processed_data[i]['tokens'], labels, threshold=0.0, ner=processed_data[i]['ner'], top_k=3)\n",
    "\n",
    "    sorted_data_desc = sorted(relations, key=lambda x: x['score'], reverse=True)\n",
    "    temp=[]\n",
    "    for item in sorted_data_desc:\n",
    "        head=' '.join(item['head_text'])\n",
    "        tail=' '.join(item['tail_text'])\n",
    "        if head == tail:\n",
    "            continue\n",
    "        if item['label'] not in relation_labels_predicted_count:\n",
    "            relation_labels_predicted_count[item['label']]=0\n",
    "        relation_labels_predicted_count[item['label']]+=1\n",
    "        temp.append([head,tail,item['label']])\n",
    "\n",
    "    relations_all.append(temp)\n",
    "        \n",
    "\n",
    "print(\"Success! ✅\")\n"
   ]
  },
  {
   "cell_type": "code",
   "execution_count": 70,
   "id": "95c16757",
   "metadata": {},
   "outputs": [],
   "source": [
    "recall_avg=[]\n",
    "precision_avg=[]\n",
    "common=0\n",
    "ours=0\n",
    "\n",
    "for i in range(len(relations_all)):\n",
    "    true_set=relations_true[i]\n",
    "    pred_set=relations_all[i]\n",
    "    d={}\n",
    "    for item in pred_set:\n",
    "        if (item[0],item[1]) not in d and (item[1],item[0]) not in d:\n",
    "            d[(item[0],item[1])]=item[2]\n",
    "    \n",
    "    ours+=len(d)\n",
    "    if len(true_set) == 0 and len(pred_set) == 0:\n",
    "        recall_avg.append(1.0)\n",
    "        precision_avg.append(1.0)\n",
    "    else:\n",
    "        count=0\n",
    "        for m in true_set:\n",
    "            for n in pred_set:\n",
    "                if m[0]==n[0] and m[1]==n[1] and (m[2]==n[2] or (m[2]=='administrative_divisions' and n[2]=='country') or (m[2]=='contains' and n[2]=='includes') or (m[2]=='country' and n[2]=='capital')):\n",
    "                    count+= 1\n",
    "        recall = count/ len(true_set) if len(true_set) > 0 else 0\n",
    "        precision = count / len(pred_set) if len(d) > 0 else 0\n",
    "        common += count\n",
    "        recall_avg.append(recall)\n",
    "        precision_avg.append(precision)"
   ]
  },
  {
   "cell_type": "code",
   "execution_count": 71,
   "id": "510dc260",
   "metadata": {},
   "outputs": [
    {
     "data": {
      "text/plain": [
       "(0.8932503030303031, 0.23985740740740738)"
      ]
     },
     "execution_count": 71,
     "metadata": {},
     "output_type": "execute_result"
    }
   ],
   "source": [
    "sum(recall_avg) / len(recall_avg), sum(precision_avg) / len(precision_avg)"
   ]
  },
  {
   "cell_type": "code",
   "execution_count": null,
   "id": "10855a20",
   "metadata": {},
   "outputs": [],
   "source": []
  }
 ],
 "metadata": {
  "kernelspec": {
   "display_name": "Python 3",
   "language": "python",
   "name": "python3"
  },
  "language_info": {
   "codemirror_mode": {
    "name": "ipython",
    "version": 3
   },
   "file_extension": ".py",
   "mimetype": "text/x-python",
   "name": "python",
   "nbconvert_exporter": "python",
   "pygments_lexer": "ipython3",
   "version": "3.10.16"
  }
 },
 "nbformat": 4,
 "nbformat_minor": 5
}
