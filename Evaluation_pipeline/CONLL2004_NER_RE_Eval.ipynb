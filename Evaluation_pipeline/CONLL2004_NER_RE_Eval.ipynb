{
 "cells": [
  {
   "cell_type": "code",
   "execution_count": 1,
   "id": "efe17c08",
   "metadata": {},
   "outputs": [
    {
     "name": "stderr",
     "output_type": "stream",
     "text": [
      "/home/bt19d200/NER_Vamshi/NER_Model/.conda/lib/python3.10/site-packages/tqdm/auto.py:21: TqdmWarning: IProgress not found. Please update jupyter and ipywidgets. See https://ipywidgets.readthedocs.io/en/stable/user_install.html\n",
      "  from .autonotebook import tqdm as notebook_tqdm\n"
     ]
    }
   ],
   "source": [
    "from datasets import load_dataset"
   ]
  },
  {
   "cell_type": "code",
   "execution_count": 2,
   "id": "0712c95f",
   "metadata": {},
   "outputs": [],
   "source": [
    "dataset=load_dataset(\"DFKI-SLT/conll04\")"
   ]
  },
  {
   "cell_type": "code",
   "execution_count": 3,
   "id": "a4878038",
   "metadata": {},
   "outputs": [],
   "source": [
    "entity_labels=set()\n",
    "for i in range(len(dataset['test'])):\n",
    "    for j in dataset['test'][i]['entities']:\n",
    "        entity_labels.add(j['type'])"
   ]
  },
  {
   "cell_type": "code",
   "execution_count": 4,
   "id": "b17f7956",
   "metadata": {},
   "outputs": [
    {
     "data": {
      "text/plain": [
       "{'Loc', 'Org', 'Other', 'Peop'}"
      ]
     },
     "execution_count": 4,
     "metadata": {},
     "output_type": "execute_result"
    }
   ],
   "source": [
    "entity_labels"
   ]
  },
  {
   "cell_type": "code",
   "execution_count": 5,
   "id": "d925bf99",
   "metadata": {},
   "outputs": [],
   "source": [
    "test=dataset['test']"
   ]
  },
  {
   "cell_type": "code",
   "execution_count": 6,
   "id": "c298e862",
   "metadata": {},
   "outputs": [
    {
     "data": {
      "text/plain": [
       "[{'end': 7, 'start': 5, 'type': 'Org'},\n",
       " {'end': 9, 'start': 8, 'type': 'Other'},\n",
       " {'end': 11, 'start': 10, 'type': 'Loc'},\n",
       " {'end': 18, 'start': 17, 'type': 'Other'}]"
      ]
     },
     "execution_count": 6,
     "metadata": {},
     "output_type": "execute_result"
    }
   ],
   "source": [
    "test[0]['entities']"
   ]
  },
  {
   "cell_type": "code",
   "execution_count": 7,
   "id": "2c1d549d",
   "metadata": {},
   "outputs": [],
   "source": [
    "entity_labels_count_true={}\n",
    "for i in range(len(dataset['test'])):\n",
    "    for j in dataset['test'][i]['entities']:\n",
    "        if j['type'] not in entity_labels_count_true:\n",
    "            entity_labels_count_true[j['type']]=0\n",
    "        entity_labels_count_true[j['type']]+=1"
   ]
  },
  {
   "cell_type": "code",
   "execution_count": 8,
   "id": "3456b9fa",
   "metadata": {},
   "outputs": [],
   "source": [
    "ner=[]\n",
    "for i in range(len(test)):\n",
    "    temp=[]\n",
    "    for j in test[i]['entities']:\n",
    "        text=' '.join(test[i]['tokens'][j['start']:j['end']])\n",
    "        temp.append([j['start'], j['end']-1,j['type'],text])\n",
    "    ner.append(temp)"
   ]
  },
  {
   "cell_type": "code",
   "execution_count": 9,
   "id": "17c55068",
   "metadata": {},
   "outputs": [],
   "source": [
    "entity_other={}\n",
    "for i in range(len(ner)):\n",
    "    for j in ner[i]:\n",
    "        if j[2]=='Other':\n",
    "            if j[3] not in entity_other:\n",
    "                entity_other[j[3]]=0\n",
    "            entity_other[j[3]]+=1\n",
    "        "
   ]
  },
  {
   "cell_type": "code",
   "execution_count": 10,
   "id": "a4f27bce",
   "metadata": {},
   "outputs": [
    {
     "data": {
      "text/plain": [
       "{'Arab': 1,\n",
       " 'Palestinians': 1,\n",
       " 'American': 2,\n",
       " 'Dec. 13 ,': 1,\n",
       " 'Dec. 16 ,': 1,\n",
       " '1973': 1,\n",
       " '1974': 1,\n",
       " 'Watergate': 2,\n",
       " 'Cuban missile crisis': 1,\n",
       " 'Armenian': 1,\n",
       " 'British': 1,\n",
       " '100 million years': 1,\n",
       " '69 mph': 1,\n",
       " '57 mph': 1,\n",
       " '2 a.m.': 1,\n",
       " '9 degrees': 1,\n",
       " '85 degrees': 1,\n",
       " 'Jan. 3': 1,\n",
       " '$3.2 billion': 1,\n",
       " '$3.6 billion': 1,\n",
       " '$1 , 600 ,': 1,\n",
       " 'April 4 , 1968': 1,\n",
       " '2 million': 1,\n",
       " '8 million': 1,\n",
       " '1980': 1,\n",
       " 'Poles': 1,\n",
       " '14 , 800 feet': 1,\n",
       " '$5 million': 1,\n",
       " '1985': 1,\n",
       " 'Mexican': 1,\n",
       " '50 mph': 1,\n",
       " '10 percent': 2,\n",
       " '$60.6 million': 1,\n",
       " '3 p.m.': 1,\n",
       " 'July 31 , 1989': 1,\n",
       " '1942.': 1,\n",
       " '1942': 1,\n",
       " '15 miles': 1,\n",
       " '6 million acres': 1,\n",
       " '1988': 1,\n",
       " '15 percent': 1,\n",
       " '$100 million': 1,\n",
       " '2 a.m. EDT': 1,\n",
       " '3 a.m. EDT': 1,\n",
       " '60 , 000 acres': 1,\n",
       " '40 million': 1,\n",
       " 'March 16 , 1985.': 1,\n",
       " '2 p.m. EDT': 1,\n",
       " '7 -': 1,\n",
       " '84 percent': 1,\n",
       " '11 , 700 acres': 1,\n",
       " '28 percent': 1,\n",
       " 'March 1994': 1,\n",
       " '1924 GMT': 1,\n",
       " '21 Mar 94': 1,\n",
       " '100 kilometres': 1,\n",
       " '6 Feb 94': 1,\n",
       " '1646 GMT': 1,\n",
       " '15 Feb 94': 2,\n",
       " '2200 GMT': 1,\n",
       " '3 Feb 94': 1,\n",
       " '0900 GMT': 1,\n",
       " '1540 GMT': 1,\n",
       " '9 Feb 94': 1,\n",
       " '15 Oct 93': 1,\n",
       " '15 December': 1,\n",
       " '11 Nov 93': 1,\n",
       " '26 Dec': 1,\n",
       " '25 December': 1,\n",
       " '125 km': 1,\n",
       " 'Iodine- 131': 1,\n",
       " '19 Mar 94': 1,\n",
       " '5 Apr 94': 1,\n",
       " '23 Jun': 1,\n",
       " '37 percent': 1,\n",
       " '1200 GMT': 1,\n",
       " '28 May 94': 1,\n",
       " '23 Jun 94': 1,\n",
       " 'May 9': 1,\n",
       " '12.14AM': 1,\n",
       " '( 9 May': 1,\n",
       " '0945 GMT': 1,\n",
       " '26 May 94': 1,\n",
       " 'May 11': 1,\n",
       " 'Slovak': 1,\n",
       " '18 May': 1,\n",
       " 'May 20': 1,\n",
       " 'Russians': 1,\n",
       " '1750 GMT': 1,\n",
       " '23 May 94': 1,\n",
       " '23 5 1994': 1,\n",
       " 'Kurds': 1,\n",
       " '20 Apr 94': 1,\n",
       " 'Nov.': 5,\n",
       " 'Dallas County Administration Building': 2,\n",
       " 'Highlight': 1,\n",
       " 'June': 1,\n",
       " 'Fort Lee': 1,\n",
       " 'Wednesday': 1,\n",
       " 'Monday': 1,\n",
       " 'Tuesday': 3,\n",
       " 'November': 1,\n",
       " 'April': 3,\n",
       " 'Sic Semper Tyranus': 1,\n",
       " 'Tyrants': 1,\n",
       " 'Dec.': 1,\n",
       " 'Middle': 1,\n",
       " 'Colt Cobra': 1,\n",
       " 'Sunday': 2,\n",
       " 'National Industrial Recovery Act': 1,\n",
       " 'Universal Declaration': 1,\n",
       " 'Human Rights': 1,\n",
       " 'Friday': 1,\n",
       " 'Jan.': 1,\n",
       " 'Photo': 1,\n",
       " 'COLOR': 1,\n",
       " 'Oct.': 2,\n",
       " 'Thursday': 1}"
      ]
     },
     "execution_count": 10,
     "metadata": {},
     "output_type": "execute_result"
    }
   ],
   "source": [
    "entity_other"
   ]
  },
  {
   "cell_type": "code",
   "execution_count": 11,
   "id": "57196aca",
   "metadata": {},
   "outputs": [
    {
     "data": {
      "text/plain": [
       "{'Org': 198, 'Other': 133, 'Loc': 427, 'Peop': 321}"
      ]
     },
     "execution_count": 11,
     "metadata": {},
     "output_type": "execute_result"
    }
   ],
   "source": [
    "entity_labels_count_true"
   ]
  },
  {
   "cell_type": "code",
   "execution_count": 15,
   "id": "76f99209",
   "metadata": {},
   "outputs": [
    {
     "name": "stderr",
     "output_type": "stream",
     "text": [
      "Fetching 4 files: 100%|██████████| 4/4 [00:00<00:00, 45221.61it/s]\n",
      "/home/bt19d200/NER_Vamshi/NER_Model/.conda/lib/python3.10/site-packages/transformers/convert_slow_tokenizer.py:561: UserWarning: The sentencepiece tokenizer that you are converting to a fast tokenizer uses the byte fallback option which is not implemented in the fast tokenizers. In practice this means that the fast version of the tokenizer can produce unknown tokens whereas the sentencepiece version would have converted these unknown tokens into a sequence of byte tokens matching the original piece of text.\n",
      "  warnings.warn(\n",
      "  0%|          | 0/288 [00:00<?, ?it/s]Asking to truncate to max_length but no maximum length is provided and the model has no predefined maximum length. Default to no truncation.\n",
      "100%|██████████| 288/288 [00:19<00:00, 14.65it/s]\n"
     ]
    }
   ],
   "source": [
    "from gliner import GLiNER\n",
    "\n",
    "import os\n",
    "import torch\n",
    "from tqdm import tqdm\n",
    "\n",
    "# text=\"The branding of the CSAT survey email has been made generic to ensure that end customers do not associate it with DevRev.\"\n",
    "model=GLiNER.from_pretrained(\"urchade/gliner_large-v2.1\")\n",
    "# Force usage of GPU 1\n",
    "device = torch.device(\"cuda:4\" if torch.cuda.is_available() else \"cpu\")\n",
    "model = model.to(device)\n",
    "\n",
    "predicted_ner=[]\n",
    "\n",
    "labels=['Location', 'Organisation', 'People', 'Date', 'Person', 'Other']\n",
    "# labels=all_entities\n",
    "results=[]\n",
    "entity_labels_count_predicted={}\n",
    "for i in tqdm(range(len(test))):\n",
    "    text=test[i]['tokens']\n",
    "    text=' '.join(text)\n",
    "    entities=model.predict_entities(text,labels=labels,threshold=0.5,multi_label=True)\n",
    "    real=set()\n",
    "    import re\n",
    "    temp=[]\n",
    "    # dtokens = re.split(r\"[ ,._:;\\[\\](){}\\/\\?\\r'\\*\\n|!-\\\"<>\\-#@=%&+]+\", text)\n",
    "\n",
    "    for entity in entities:\n",
    "        # ent_text=re.split(r\"[ ,._:;\\[\\](){}\\/\\?\\r'\\*\\n|!-\\\"<>\\-#@=%&+]+\", entity['text'])\n",
    "        if entity['label'] not in entity_labels_count_predicted:\n",
    "            entity_labels_count_predicted[entity['label']]=0\n",
    "        entity_labels_count_predicted[entity['label']]+=1\n",
    "        if entity['text'] not in real:\n",
    "            temp.append([entity['start'], entity['end']-1, entity['label'], entity['text']])\n",
    "\n",
    "        real.add(entity['text'])\n",
    "    predicted_ner.append(temp)\n",
    "    real=list(real)\n",
    "    results.append(real)\n",
    "    "
   ]
  },
  {
   "cell_type": "code",
   "execution_count": 80,
   "id": "c5ae0a5a",
   "metadata": {},
   "outputs": [],
   "source": [
    "pred_ner=[]\n",
    "for i in range(len(test)):\n",
    "    text=test[i]['tokens']\n",
    "    temp=[]\n",
    "    for j in predicted_ner[i]:\n",
    "        token=j[3].split(' ')\n",
    "        try:\n",
    "            start=text.index(token[0])\n",
    "            end=text.index(token[-1],start)\n",
    "            ent=' '.join(text[start:end+1])\n",
    "            temp.append([start, end, j[2], ent])\n",
    "        except:\n",
    "            pass\n",
    "    pred_ner.append(temp)"
   ]
  },
  {
   "cell_type": "code",
   "execution_count": 81,
   "id": "4318a5c4",
   "metadata": {},
   "outputs": [
    {
     "data": {
      "text/plain": [
       "[[22, 37, 'Organisation', 'Hakawati Theatre'],\n",
       " [42, 60, 'Location', 'Arab east Jerusalem'],\n",
       " [91, 102, 'People', 'Palestinians']]"
      ]
     },
     "execution_count": 81,
     "metadata": {},
     "output_type": "execute_result"
    }
   ],
   "source": [
    "predicted_ner[0]"
   ]
  },
  {
   "cell_type": "code",
   "execution_count": 82,
   "id": "ec0c0fd4",
   "metadata": {},
   "outputs": [
    {
     "data": {
      "text/plain": [
       "[[5, 6, 'Organisation', 'Hakawati Theatre'],\n",
       " [8, 10, 'Location', 'Arab east Jerusalem'],\n",
       " [17, 17, 'People', 'Palestinians']]"
      ]
     },
     "execution_count": 82,
     "metadata": {},
     "output_type": "execute_result"
    }
   ],
   "source": [
    "pred_ner[0]"
   ]
  },
  {
   "cell_type": "code",
   "execution_count": 83,
   "id": "fc8347d4",
   "metadata": {},
   "outputs": [
    {
     "data": {
      "text/plain": [
       "[[5, 6, 'Org', 'Hakawati Theatre'],\n",
       " [8, 8, 'Other', 'Arab'],\n",
       " [10, 10, 'Loc', 'Jerusalem'],\n",
       " [17, 17, 'Other', 'Palestinians']]"
      ]
     },
     "execution_count": 83,
     "metadata": {},
     "output_type": "execute_result"
    }
   ],
   "source": [
    "ner[0]"
   ]
  },
  {
   "cell_type": "code",
   "execution_count": 84,
   "id": "2c83e35b",
   "metadata": {},
   "outputs": [
    {
     "data": {
      "text/plain": [
       "{'Organisation': 268,\n",
       " 'Location': 402,\n",
       " 'People': 44,\n",
       " 'Person': 318,\n",
       " 'Date': 125,\n",
       " 'Other': 12}"
      ]
     },
     "execution_count": 84,
     "metadata": {},
     "output_type": "execute_result"
    }
   ],
   "source": [
    "entity_labels_count_predicted"
   ]
  },
  {
   "cell_type": "code",
   "execution_count": 85,
   "id": "95299471",
   "metadata": {},
   "outputs": [
    {
     "data": {
      "text/plain": [
       "{'Org': 198, 'Other': 133, 'Loc': 427, 'Peop': 321}"
      ]
     },
     "execution_count": 85,
     "metadata": {},
     "output_type": "execute_result"
    }
   ],
   "source": [
    "entity_labels_count_true"
   ]
  },
  {
   "cell_type": "code",
   "execution_count": 86,
   "id": "7195fb9e",
   "metadata": {},
   "outputs": [
    {
     "data": {
      "image/png": "[encoded data removed]",
      "text/plain": [
       "<Figure size 800x500 with 1 Axes>"
      ]
     },
     "metadata": {},
     "output_type": "display_data"
    }
   ],
   "source": [
    "import matplotlib.pyplot as plt\n",
    "\n",
    "# Merge and map predicted labels\n",
    "entity_labels_count_predicted_mapped = {\n",
    "    'Org': entity_labels_count_predicted.get('Organisation', 0),\n",
    "    'Loc': entity_labels_count_predicted.get('Location', 0),\n",
    "    'Peop': entity_labels_count_predicted.get('People', 0) + entity_labels_count_predicted.get('Person', 0),\n",
    "    'Other': entity_labels_count_predicted.get('Other', 0) + entity_labels_count_predicted.get('Date', 0)\n",
    "}\n",
    "\n",
    "# True labels are already in the correct format\n",
    "entity_labels_count_true_mapped = entity_labels_count_true\n",
    "\n",
    "labels = ['Org', 'Loc', 'Peop', 'Other']\n",
    "counts_pred = [entity_labels_count_predicted_mapped.get(l, 0) for l in labels]\n",
    "counts_true = [entity_labels_count_true_mapped.get(l, 0) for l in labels]\n",
    "\n",
    "x = range(len(labels))\n",
    "plt.figure(figsize=(8, 5))\n",
    "plt.bar(x, counts_pred, width=0.4, label='Predicted', align='center')\n",
    "plt.bar([i + 0.4 for i in x], counts_true, width=0.4, label='True', align='center')\n",
    "plt.xticks([i + 0.2 for i in x], labels)\n",
    "plt.ylabel('Count')\n",
    "plt.title('Entity Label Counts')\n",
    "plt.legend()\n",
    "plt.show()"
   ]
  },
  {
   "cell_type": "code",
   "execution_count": 87,
   "id": "ba058817",
   "metadata": {},
   "outputs": [
    {
     "data": {
      "text/plain": [
       "['Soviet ships', 'Nikita Khrushchev', 'President Kennedy']"
      ]
     },
     "execution_count": 87,
     "metadata": {},
     "output_type": "execute_result"
    }
   ],
   "source": [
    "results[6]"
   ]
  },
  {
   "cell_type": "code",
   "execution_count": 88,
   "id": "4d48e594",
   "metadata": {},
   "outputs": [],
   "source": [
    "true=[]\n",
    "for i in range(len(test)):\n",
    "    temp=[]\n",
    "    for j in test[i]['entities']:\n",
    "        text=' '.join(test[i]['tokens'][j['start']:j['end']])\n",
    "        temp.append(text)\n",
    "    true.append(temp)"
   ]
  },
  {
   "cell_type": "code",
   "execution_count": 89,
   "id": "243843fa",
   "metadata": {},
   "outputs": [
    {
     "data": {
      "text/plain": [
       "['U.S.', 'Bush administration', 'President Nixon']"
      ]
     },
     "execution_count": 89,
     "metadata": {},
     "output_type": "execute_result"
    }
   ],
   "source": [
    "results[34]"
   ]
  },
  {
   "cell_type": "code",
   "execution_count": 90,
   "id": "81774df9",
   "metadata": {},
   "outputs": [
    {
     "data": {
      "text/plain": [
       "['Watergate', 'U.S.', 'Bush']"
      ]
     },
     "execution_count": 90,
     "metadata": {},
     "output_type": "execute_result"
    }
   ],
   "source": [
    "true[34]"
   ]
  },
  {
   "cell_type": "code",
   "execution_count": 91,
   "id": "a544bb6c",
   "metadata": {},
   "outputs": [],
   "source": [
    "their=0\n",
    "ours=0\n",
    "common=0\n",
    "for i in range(len(results)):\n",
    "    their+=len(set(true[i]))\n",
    "    ours+=len(set(results[i]))\n",
    "    common+=len(set(true[i]).intersection(set(results[i])))"
   ]
  },
  {
   "cell_type": "code",
   "execution_count": 92,
   "id": "5bd725a4",
   "metadata": {},
   "outputs": [
    {
     "data": {
      "text/plain": [
       "(1059, 1141, 773)"
      ]
     },
     "execution_count": 92,
     "metadata": {},
     "output_type": "execute_result"
    }
   ],
   "source": [
    "their,ours,common"
   ]
  },
  {
   "cell_type": "code",
   "execution_count": 93,
   "id": "cb0e708d",
   "metadata": {},
   "outputs": [],
   "source": [
    "recall_avg=[]\n",
    "precision_avg=[]\n",
    "common2=0\n",
    "for i in range(len(results)):\n",
    "    true_set=set(true[i])\n",
    "    pred_set=set(results[i])\n",
    "    \n",
    "    if len(true_set) == 0 and len(pred_set) == 0:\n",
    "        recall_avg.append(1.0)\n",
    "        precision_avg.append(1.0)\n",
    "    else:\n",
    "        count=0\n",
    "        for m in true_set:\n",
    "            for n in pred_set:\n",
    "                \n",
    "                if m == n or m[:-2]==n:\n",
    "                    count+= 1\n",
    "        recall = count / len(true_set) if len(true_set) > 0 else 0\n",
    "        precision = count / len(pred_set) if len(pred_set) > 0 else 0\n",
    "        common2 += count\n",
    "        recall_avg.append(recall)\n",
    "        precision_avg.append(precision)"
   ]
  },
  {
   "cell_type": "code",
   "execution_count": 94,
   "id": "fd9f954c",
   "metadata": {},
   "outputs": [
    {
     "data": {
      "text/plain": [
       "777"
      ]
     },
     "execution_count": 94,
     "metadata": {},
     "output_type": "execute_result"
    }
   ],
   "source": [
    "common2"
   ]
  },
  {
   "cell_type": "code",
   "execution_count": 95,
   "id": "213bb223",
   "metadata": {},
   "outputs": [
    {
     "data": {
      "text/plain": [
       "(0.7556988536155198, 0.7059909611992947)"
      ]
     },
     "execution_count": 95,
     "metadata": {},
     "output_type": "execute_result"
    }
   ],
   "source": [
    "sum(recall_avg) / len(recall_avg), sum(precision_avg) / len(precision_avg)"
   ]
  },
  {
   "cell_type": "code",
   "execution_count": 96,
   "id": "6be4965c",
   "metadata": {},
   "outputs": [
    {
     "data": {
      "text/plain": [
       "[0.5,\n",
       " 1.0,\n",
       " 0.6666666666666666,\n",
       " 0.75,\n",
       " 1.0,\n",
       " 0.8571428571428571,\n",
       " 0.25,\n",
       " 1.0,\n",
       " 0.6666666666666666,\n",
       " 0.6666666666666666,\n",
       " 1.0,\n",
       " 1.0,\n",
       " 1.0,\n",
       " 1.0,\n",
       " 1.0,\n",
       " 1.0,\n",
       " 0.7,\n",
       " 0.5,\n",
       " 0.6666666666666666,\n",
       " 1.0,\n",
       " 0.0,\n",
       " 1.0,\n",
       " 1.0,\n",
       " 0.0,\n",
       " 0.6,\n",
       " 0.0,\n",
       " 1.0,\n",
       " 1.0,\n",
       " 0.8,\n",
       " 1.0,\n",
       " 1.0,\n",
       " 1.0,\n",
       " 0.75,\n",
       " 0.4,\n",
       " 0.3333333333333333,\n",
       " 0.5714285714285714,\n",
       " 1.0,\n",
       " 0.6666666666666666,\n",
       " 1.0,\n",
       " 1.0,\n",
       " 1.0,\n",
       " 0.3333333333333333,\n",
       " 0.6666666666666666,\n",
       " 0.6666666666666666,\n",
       " 0.5,\n",
       " 0.6666666666666666,\n",
       " 1.0,\n",
       " 0.5,\n",
       " 0.75,\n",
       " 0.8333333333333334,\n",
       " 0.25,\n",
       " 1.0,\n",
       " 0.75,\n",
       " 1.0,\n",
       " 1.0,\n",
       " 0.6666666666666666,\n",
       " 1.0,\n",
       " 0.5,\n",
       " 0.0,\n",
       " 1.0,\n",
       " 1.0,\n",
       " 1.0,\n",
       " 1.0,\n",
       " 1.0,\n",
       " 0.8,\n",
       " 0.75,\n",
       " 0.5,\n",
       " 1.0,\n",
       " 1.0,\n",
       " 1.0,\n",
       " 0.6666666666666666,\n",
       " 0.4,\n",
       " 0.6666666666666666,\n",
       " 0.5,\n",
       " 0.6666666666666666,\n",
       " 0.75,\n",
       " 1.0,\n",
       " 0.5,\n",
       " 0.3333333333333333,\n",
       " 0.8333333333333334,\n",
       " 1.0,\n",
       " 1.0,\n",
       " 1.0,\n",
       " 0.16666666666666666,\n",
       " 0.6666666666666666,\n",
       " 0.8,\n",
       " 0.4,\n",
       " 0.5,\n",
       " 0.0,\n",
       " 0.0,\n",
       " 1.0,\n",
       " 1.0,\n",
       " 0.0,\n",
       " 0.8333333333333334,\n",
       " 0.75,\n",
       " 1.0,\n",
       " 1.0,\n",
       " 1.0,\n",
       " 0.6,\n",
       " 0.6666666666666666,\n",
       " 0.6666666666666666,\n",
       " 1.0,\n",
       " 1.0,\n",
       " 0.3333333333333333,\n",
       " 0.8333333333333334,\n",
       " 1.0,\n",
       " 0.25,\n",
       " 0.4,\n",
       " 0.5,\n",
       " 0.3333333333333333,\n",
       " 1.0,\n",
       " 1.0,\n",
       " 1.0,\n",
       " 0.5,\n",
       " 0.6,\n",
       " 1.0,\n",
       " 0.6666666666666666,\n",
       " 0.5,\n",
       " 0.5,\n",
       " 1.0,\n",
       " 0.75,\n",
       " 0.5714285714285714,\n",
       " 0.6666666666666666,\n",
       " 0.2,\n",
       " 0.6666666666666666,\n",
       " 1.0,\n",
       " 1.0,\n",
       " 1.0,\n",
       " 0.3333333333333333,\n",
       " 1.0,\n",
       " 1.0,\n",
       " 0.3333333333333333,\n",
       " 0.75,\n",
       " 0.6666666666666666,\n",
       " 1.0,\n",
       " 0.75,\n",
       " 0.5,\n",
       " 0.75,\n",
       " 0.75,\n",
       " 1.0,\n",
       " 0.4,\n",
       " 1.0,\n",
       " 0.3333333333333333,\n",
       " 1.0,\n",
       " 0.375,\n",
       " 0.8,\n",
       " 0.5,\n",
       " 0.75,\n",
       " 0.4,\n",
       " 0.8333333333333334,\n",
       " 1.0,\n",
       " 1.0,\n",
       " 1.0,\n",
       " 1.0,\n",
       " 1.0,\n",
       " 1.0,\n",
       " 0.3333333333333333,\n",
       " 0.5,\n",
       " 1.0,\n",
       " 1.0,\n",
       " 1.0,\n",
       " 1.0,\n",
       " 0.5,\n",
       " 0.5714285714285714,\n",
       " 1.0,\n",
       " 0.4,\n",
       " 0.5714285714285714,\n",
       " 0.5,\n",
       " 0.7142857142857143,\n",
       " 1.0,\n",
       " 1.0,\n",
       " 1.0,\n",
       " 0.9166666666666666,\n",
       " 1.0,\n",
       " 1.0,\n",
       " 0.5,\n",
       " 0.75,\n",
       " 1.0,\n",
       " 0.6666666666666666,\n",
       " 0.6666666666666666,\n",
       " 1.0,\n",
       " 1.0,\n",
       " 1.0,\n",
       " 0.75,\n",
       " 0.75,\n",
       " 1.0,\n",
       " 1.0,\n",
       " 1.0,\n",
       " 1.0,\n",
       " 1.0,\n",
       " 0.7142857142857143,\n",
       " 0.75,\n",
       " 0.6666666666666666,\n",
       " 1.0,\n",
       " 0.8,\n",
       " 1.0,\n",
       " 0.8333333333333334,\n",
       " 0.5,\n",
       " 0.8888888888888888,\n",
       " 0.6666666666666666,\n",
       " 0.75,\n",
       " 0.8,\n",
       " 0.8,\n",
       " 0.0,\n",
       " 1.0,\n",
       " 0.5,\n",
       " 0.5,\n",
       " 0.6,\n",
       " 1.0,\n",
       " 0.7142857142857143,\n",
       " 1.0,\n",
       " 0.75,\n",
       " 0.6666666666666666,\n",
       " 0.6666666666666666,\n",
       " 1.0,\n",
       " 0.3333333333333333,\n",
       " 0.5,\n",
       " 0.6,\n",
       " 1.0,\n",
       " 0.75,\n",
       " 1.0,\n",
       " 0.5,\n",
       " 0.6666666666666666,\n",
       " 1.0,\n",
       " 1.0,\n",
       " 1.0,\n",
       " 1.0,\n",
       " 0.75,\n",
       " 0.5,\n",
       " 0.75,\n",
       " 0.625,\n",
       " 1.0,\n",
       " 0.6666666666666666,\n",
       " 0.75,\n",
       " 0.6666666666666666,\n",
       " 0.5,\n",
       " 0.75,\n",
       " 0.6666666666666666,\n",
       " 1.0,\n",
       " 1.0,\n",
       " 0.6,\n",
       " 1.0,\n",
       " 0.5,\n",
       " 1.0,\n",
       " 1.0,\n",
       " 0.6666666666666666,\n",
       " 1.0,\n",
       " 0.3333333333333333,\n",
       " 1.0,\n",
       " 1.0,\n",
       " 1.0,\n",
       " 0.5,\n",
       " 1.0,\n",
       " 1.0,\n",
       " 1.0,\n",
       " 1.0,\n",
       " 1.0,\n",
       " 1.0,\n",
       " 0.75,\n",
       " 0.75,\n",
       " 0.6666666666666666,\n",
       " 0.6,\n",
       " 0.5,\n",
       " 0.6,\n",
       " 0.6666666666666666,\n",
       " 1.0,\n",
       " 1.0,\n",
       " 0.75,\n",
       " 0.6666666666666666,\n",
       " 0.5,\n",
       " 1.0,\n",
       " 0.6666666666666666,\n",
       " 0.5,\n",
       " 0.6666666666666666,\n",
       " 1.0,\n",
       " 0.8,\n",
       " 0.3333333333333333,\n",
       " 0.75,\n",
       " 1.0,\n",
       " 0.6666666666666666,\n",
       " 0.6666666666666666,\n",
       " 1.0,\n",
       " 1.0,\n",
       " 0.4,\n",
       " 0.75,\n",
       " 0.6666666666666666,\n",
       " 0.75,\n",
       " 1.0]"
      ]
     },
     "execution_count": 96,
     "metadata": {},
     "output_type": "execute_result"
    }
   ],
   "source": [
    "recall_avg"
   ]
  },
  {
   "cell_type": "code",
   "execution_count": 97,
   "id": "575ef038",
   "metadata": {},
   "outputs": [
    {
     "data": {
      "text/plain": [
       "[[0, 0, 'Peop', 'Reagan'],\n",
       " [26, 26, 'Other', 'American'],\n",
       " [32, 32, 'Loc', 'America'],\n",
       " [52, 52, 'Other', 'American']]"
      ]
     },
     "execution_count": 97,
     "metadata": {},
     "output_type": "execute_result"
    }
   ],
   "source": [
    "ner[2]"
   ]
  },
  {
   "cell_type": "code",
   "execution_count": 98,
   "id": "2338b6f6",
   "metadata": {},
   "outputs": [
    {
     "data": {
      "text/plain": [
       "[[5, 6, 'Org', 'Hakawati Theatre'],\n",
       " [8, 8, 'Other', 'Arab'],\n",
       " [10, 10, 'Loc', 'Jerusalem'],\n",
       " [17, 17, 'Other', 'Palestinians']]"
      ]
     },
     "execution_count": 98,
     "metadata": {},
     "output_type": "execute_result"
    }
   ],
   "source": [
    "ner[0]"
   ]
  },
  {
   "cell_type": "code",
   "execution_count": 99,
   "id": "5d7ebec6",
   "metadata": {},
   "outputs": [
    {
     "name": "stderr",
     "output_type": "stream",
     "text": [
      "/home/bt19d200/NER_Vamshi/NER_Model/.conda/lib/python3.10/site-packages/transformers/convert_slow_tokenizer.py:561: UserWarning: The sentencepiece tokenizer that you are converting to a fast tokenizer uses the byte fallback option which is not implemented in the fast tokenizers. In practice this means that the fast version of the tokenizer can produce unknown tokens whereas the sentencepiece version would have converted these unknown tokens into a sequence of byte tokens matching the original piece of text.\n",
      "  warnings.warn(\n",
      "100%|██████████| 288/288 [00:27<00:00, 10.52it/s]"
     ]
    },
    {
     "name": "stdout",
     "output_type": "stream",
     "text": [
      "Success! ✅\n"
     ]
    },
    {
     "name": "stderr",
     "output_type": "stream",
     "text": [
      "\n"
     ]
    }
   ],
   "source": [
    "from pair2rel import Pair2Rel\n",
    "\n",
    "rel_model = Pair2Rel.from_pretrained(\"chapalavamshi022/pair2rel\", cache_dir=\"/tmp/hf_cache\",force_download=True)\n",
    "\n",
    "rel_model = rel_model.to(device)\n",
    "\n",
    "labels=['Work_For', 'Live_In', 'OrgBased_In', 'Located_In','Kill']\n",
    "\n",
    "relations_all=[]\n",
    "head_asset={'Peop':'Org','Peop':'Loc','Org':'Loc','Loc':'Loc','Peop':'Peop'}\n",
    "for i in tqdm(range(len(test))):\n",
    "    \n",
    "    relations = rel_model.predict_relations(test[i]['tokens'], labels, threshold=0.1, ner=ner[i], top_k=1)\n",
    "    d={}\n",
    "    for item in ner[i]:\n",
    "        d[item[3]]=item[2]\n",
    "\n",
    "    sorted_data_desc = sorted(relations, key=lambda x: x['score'], reverse=True)\n",
    "    temp=[]\n",
    "    for item in sorted_data_desc:\n",
    "        head=' '.join(item['head_text'])\n",
    "        tail=' '.join(item['tail_text'])\n",
    "        if head!=tail and (d[head]=='Peop' and d[tail]=='Peop') or (d[head]=='Peop' and d[tail]=='Org') or (d[head]=='Peop' and d[tail]=='Loc') or (d[head]=='Org' and d[tail]=='Loc') or (d[head]=='Loc' and d[tail]=='Loc'):\n",
    "            temp.append([head,tail,item['label']])\n",
    "    relations_all.append(temp)\n",
    "        \n",
    "print(\"Success! ✅\")"
   ]
  },
  {
   "cell_type": "code",
   "execution_count": 100,
   "id": "8e3f503a",
   "metadata": {},
   "outputs": [],
   "source": [
    "relations_true=[]\n",
    "for i in range(len(test)):\n",
    "    temp=[]\n",
    "    for j in test[i]['relations']:\n",
    "        head=ner[i][j['head']][3]\n",
    "        tail=ner[i][j['tail']][3]\n",
    "        temp.append([head, tail, j['type']])\n",
    "    relations_true.append(temp)"
   ]
  },
  {
   "cell_type": "code",
   "execution_count": 101,
   "id": "d94b836e",
   "metadata": {},
   "outputs": [
    {
     "data": {
      "text/plain": [
       "[[2, 2, 'Loc', 'Moscow'],\n",
       " [4, 5, 'Org', 'Bolshoi Ballet'],\n",
       " [7, 7, 'Loc', 'Moscow'],\n",
       " [9, 9, 'Loc', 'Leningrad'],\n",
       " [11, 12, 'Org', 'Kirov Ballet'],\n",
       " [20, 20, 'Other', 'Armenian'],\n",
       " [23, 23, 'Loc', 'Yerevan'],\n",
       " [26, 26, 'Loc', 'U.S.'],\n",
       " [28, 29, 'Peop', 'June Anderson'],\n",
       " [31, 32, 'Peop', 'Carol Vaness'],\n",
       " [34, 34, 'Other', 'British']]"
      ]
     },
     "execution_count": 101,
     "metadata": {},
     "output_type": "execute_result"
    }
   ],
   "source": [
    "ner[16]"
   ]
  },
  {
   "cell_type": "code",
   "execution_count": 102,
   "id": "fa7a8c43",
   "metadata": {},
   "outputs": [
    {
     "data": {
      "text/plain": [
       "[{'head': 1, 'tail': 0, 'type': 'OrgBased_In'},\n",
       " {'head': 1, 'tail': 2, 'type': 'OrgBased_In'},\n",
       " {'head': 4, 'tail': 3, 'type': 'OrgBased_In'},\n",
       " {'head': 8, 'tail': 7, 'type': 'Live_In'},\n",
       " {'head': 9, 'tail': 7, 'type': 'Live_In'}]"
      ]
     },
     "execution_count": 102,
     "metadata": {},
     "output_type": "execute_result"
    }
   ],
   "source": [
    "test[16]['relations']"
   ]
  },
  {
   "cell_type": "code",
   "execution_count": 103,
   "id": "86aa262b",
   "metadata": {},
   "outputs": [
    {
     "data": {
      "text/plain": [
       "\"Anastas Mikoyan , then Soviet first deputy premier , was the catalyst for the reversal of Khrushchev 's order , according to the authors .\""
      ]
     },
     "execution_count": 103,
     "metadata": {},
     "output_type": "execute_result"
    }
   ],
   "source": [
    "' '.join(test[7]['tokens'])"
   ]
  },
  {
   "cell_type": "code",
   "execution_count": 104,
   "id": "28844e07",
   "metadata": {},
   "outputs": [
    {
     "data": {
      "text/plain": [
       "[['Anastas Mikoyan', 'Soviet', 'Live_In'], ['Khrushchev', 'Soviet', 'Live_In']]"
      ]
     },
     "execution_count": 104,
     "metadata": {},
     "output_type": "execute_result"
    }
   ],
   "source": [
    "relations_true[7]"
   ]
  },
  {
   "cell_type": "code",
   "execution_count": 105,
   "id": "ab1c0512",
   "metadata": {},
   "outputs": [
    {
     "data": {
      "text/plain": [
       "[['Khrushchev', 'Soviet', 'Work_For'],\n",
       " ['Anastas Mikoyan', 'Soviet', 'Work_For']]"
      ]
     },
     "execution_count": 105,
     "metadata": {},
     "output_type": "execute_result"
    }
   ],
   "source": [
    "relations_all[7]"
   ]
  },
  {
   "cell_type": "code",
   "execution_count": 106,
   "id": "ebe5395c",
   "metadata": {},
   "outputs": [],
   "source": [
    "recall_avg=[]\n",
    "precision_avg=[]\n",
    "common=0\n",
    "ours=0\n",
    "relations_all_filtered=[]\n",
    "for i in range(len(relations_all)):\n",
    "    true_set=relations_true[i]\n",
    "    pred_set=relations_all[i]\n",
    "    d={}\n",
    "    temp=[]\n",
    "    for item in pred_set:\n",
    "        if (item[0],item[1]) not in d and (item[1],item[0]) not in d:\n",
    "            d[(item[0],item[1])]=item[2]\n",
    "            temp.append([item[0],item[1],item[2]])\n",
    "    relations_all_filtered.append(temp)\n",
    "    \n",
    "    ours+=len(d)\n",
    "    if len(true_set) == 0 and len(pred_set) == 0:\n",
    "        recall_avg.append(1.0)\n",
    "        precision_avg.append(1.0)\n",
    "    else:\n",
    "        count=0\n",
    "        for m in true_set:\n",
    "            for n in pred_set:\n",
    "                if m[0]==n[0] and m[1]==n[1] and (m[2]==n[2] or (m[2]=='OrgBased_In' and n[2]=='Located_In')):\n",
    "                    count+= 1\n",
    "        recall = count/ len(true_set) if len(true_set) > 0 else 0\n",
    "        precision = count / len(d) if len(d) > 0 else 0\n",
    "        common += count\n",
    "        recall_avg.append(recall)\n",
    "        precision_avg.append(precision)"
   ]
  },
  {
   "cell_type": "code",
   "execution_count": 107,
   "id": "4d5eb481",
   "metadata": {},
   "outputs": [],
   "source": [
    "relations_labels_predicted_count={}\n",
    "relations_labels_true_count={}\n",
    "for i in range(len(relations_all)):\n",
    "    for j in relations_all_filtered[i]:\n",
    "        if j[2] not in relations_labels_predicted_count:\n",
    "            relations_labels_predicted_count[j[2]]=0\n",
    "        relations_labels_predicted_count[j[2]]+=1\n",
    "    for j in relations_true[i]:\n",
    "        if j[2] not in relations_labels_true_count:\n",
    "            relations_labels_true_count[j[2]]=0\n",
    "        relations_labels_true_count[j[2]]+=1\n",
    "        "
   ]
  },
  {
   "cell_type": "code",
   "execution_count": 108,
   "id": "05c3ead3",
   "metadata": {},
   "outputs": [
    {
     "data": {
      "text/plain": [
       "{'OrgBased_In': 105,\n",
       " 'Located_In': 94,\n",
       " 'Live_In': 100,\n",
       " 'Work_For': 76,\n",
       " 'Kill': 47}"
      ]
     },
     "execution_count": 108,
     "metadata": {},
     "output_type": "execute_result"
    }
   ],
   "source": [
    "relations_labels_true_count"
   ]
  },
  {
   "cell_type": "code",
   "execution_count": 109,
   "id": "e17dedc1",
   "metadata": {},
   "outputs": [
    {
     "data": {
      "text/plain": [
       "{'Located_In': 419,\n",
       " 'Live_In': 226,\n",
       " 'Work_For': 201,\n",
       " 'Kill': 73,\n",
       " 'OrgBased_In': 1}"
      ]
     },
     "execution_count": 109,
     "metadata": {},
     "output_type": "execute_result"
    }
   ],
   "source": [
    "relations_labels_predicted_count"
   ]
  },
  {
   "cell_type": "code",
   "execution_count": 110,
   "id": "78e73c0d",
   "metadata": {},
   "outputs": [
    {
     "data": {
      "image/png": "[encoded data removed]",
      "text/plain": [
       "<Figure size 800x500 with 1 Axes>"
      ]
     },
     "metadata": {},
     "output_type": "display_data"
    }
   ],
   "source": [
    "import matplotlib.pyplot as plt\n",
    "\n",
    "\n",
    "\n",
    "labels = ['Located_In', 'Live_In', 'Work_For', 'Kill', 'OrgBased_In']\n",
    "counts_pred = [relations_labels_predicted_count.get(l, 0) for l in labels]\n",
    "counts_true = [relations_labels_true_count.get(l, 0) for l in labels]\n",
    "\n",
    "x = range(len(labels))\n",
    "plt.figure(figsize=(8, 5))\n",
    "plt.bar(x, counts_pred, width=0.4, label='Predicted', align='center')\n",
    "plt.bar([i + 0.4 for i in x], counts_true, width=0.4, label='True', align='center')\n",
    "plt.xticks([i + 0.2 for i in x], labels)\n",
    "plt.ylabel('Count')\n",
    "plt.title('Relation Label Counts')\n",
    "plt.legend()\n",
    "plt.show()"
   ]
  },
  {
   "cell_type": "code",
   "execution_count": 111,
   "id": "9df44f3b",
   "metadata": {},
   "outputs": [
    {
     "data": {
      "text/plain": [
       "(0.8250578703703704, 0.5565866005816988)"
      ]
     },
     "execution_count": 111,
     "metadata": {},
     "output_type": "execute_result"
    }
   ],
   "source": [
    "sum(recall_avg) / len(recall_avg), sum(precision_avg) / len(precision_avg)"
   ]
  },
  {
   "cell_type": "code",
   "execution_count": 112,
   "id": "189e1caa",
   "metadata": {},
   "outputs": [],
   "source": [
    "their=0\n",
    "for i in range(len(relations_all)):\n",
    "    their+=len(relations_true[i])\n",
    "    "
   ]
  },
  {
   "cell_type": "code",
   "execution_count": 113,
   "id": "29c39271",
   "metadata": {},
   "outputs": [
    {
     "data": {
      "text/plain": [
       "(422, 920, 368)"
      ]
     },
     "execution_count": 113,
     "metadata": {},
     "output_type": "execute_result"
    }
   ],
   "source": [
    "their,ours,common"
   ]
  },
  {
   "cell_type": "code",
   "execution_count": 115,
   "id": "9fe283ab",
   "metadata": {},
   "outputs": [
    {
     "name": "stderr",
     "output_type": "stream",
     "text": [
      "/home/bt19d200/NER_Vamshi/NER_Model/.conda/lib/python3.10/site-packages/transformers/convert_slow_tokenizer.py:561: UserWarning: The sentencepiece tokenizer that you are converting to a fast tokenizer uses the byte fallback option which is not implemented in the fast tokenizers. In practice this means that the fast version of the tokenizer can produce unknown tokens whereas the sentencepiece version would have converted these unknown tokens into a sequence of byte tokens matching the original piece of text.\n",
      "  warnings.warn(\n",
      "100%|██████████| 288/288 [00:29<00:00,  9.86it/s]"
     ]
    },
    {
     "name": "stdout",
     "output_type": "stream",
     "text": [
      "Success! ✅\n"
     ]
    },
    {
     "name": "stderr",
     "output_type": "stream",
     "text": [
      "\n"
     ]
    }
   ],
   "source": [
    "from pair2rel import Pair2Rel\n",
    "\n",
    "rel_model = Pair2Rel.from_pretrained(\"chapalavamshi022/pair2rel\", cache_dir=\"/tmp/hf_cache\",force_download=True)\n",
    "\n",
    "rel_model = rel_model.to(device)\n",
    "\n",
    "labels=['Work_For', 'Live_In', 'OrgBased_In', 'Located_In','Kill']\n",
    "\n",
    "relations_all=[]\n",
    "head_asset={'Peop':'Org','Peop':'Loc','Org':'Loc','Loc':'Loc','Peop':'Peop'}\n",
    "for i in tqdm(range(len(test))):\n",
    "    \n",
    "    relations = rel_model.predict_relations(test[i]['tokens'], labels, threshold=0.1, ner=pred_ner[i], top_k=1)\n",
    "    d={}\n",
    "    for item in ner[i]:\n",
    "        d[item[3]]=item[2]\n",
    "\n",
    "    sorted_data_desc = sorted(relations, key=lambda x: x['score'], reverse=True)\n",
    "    temp=[]\n",
    "    for item in sorted_data_desc:\n",
    "        head=' '.join(item['head_text'])\n",
    "        tail=' '.join(item['tail_text'])\n",
    "        try:\n",
    "            if head!=tail and (d[head]=='Peop' and d[tail]=='Peop') or (d[head]=='Peop' and d[tail]=='Org') or (d[head]=='Peop' and d[tail]=='Loc') or (d[head]=='Org' and d[tail]=='Loc') or (d[head]=='Loc' and d[tail]=='Loc'):\n",
    "                temp.append([head,tail,item['label']])\n",
    "        except:\n",
    "            pass\n",
    "    relations_all.append(temp)\n",
    "        \n",
    "print(\"Success! ✅\")"
   ]
  },
  {
   "cell_type": "code",
   "execution_count": 116,
   "id": "e8703d54",
   "metadata": {},
   "outputs": [],
   "source": [
    "relations_true=[]\n",
    "for i in range(len(test)):\n",
    "    temp=[]\n",
    "    for j in test[i]['relations']:\n",
    "        head=ner[i][j['head']][3]\n",
    "        tail=ner[i][j['tail']][3]\n",
    "        temp.append([head, tail, j['type']])\n",
    "    relations_true.append(temp)"
   ]
  },
  {
   "cell_type": "code",
   "execution_count": 120,
   "id": "0eafa3a2",
   "metadata": {},
   "outputs": [],
   "source": [
    "recall_avg=[]\n",
    "precision_avg=[]\n",
    "common=0\n",
    "ours=0\n",
    "relations_all_filtered=[]\n",
    "for i in range(len(relations_all)):\n",
    "    true_set=relations_true[i]\n",
    "    pred_set=relations_all[i]\n",
    "    d={}\n",
    "    temp=[]\n",
    "    for item in pred_set:\n",
    "        if (item[0],item[1]) not in d and (item[1],item[0]) not in d:\n",
    "            d[(item[0],item[1])]=item[2]\n",
    "            temp.append([item[0],item[1],item[2]])\n",
    "    relations_all_filtered.append(temp)\n",
    "    \n",
    "    ours+=len(d)\n",
    "    if len(true_set) == 0 and len(pred_set) == 0:\n",
    "        recall_avg.append(1.0)\n",
    "        precision_avg.append(1.0)\n",
    "    else:\n",
    "        count=0\n",
    "        for m in true_set:\n",
    "            for n in pred_set:\n",
    "                if (m[0] in n[0] or n[0] in m[0]) and (m[1] in n[1] or n[1] in m[1]) and (m[2]==n[2] or (m[2]=='OrgBased_In' and n[2]=='Located_In')):\n",
    "                    count+= 1\n",
    "        recall = count/ len(true_set) if len(true_set) > 0 else 0\n",
    "        precision = count / len(d) if len(d) > 0 else 0\n",
    "        common += count\n",
    "        recall_avg.append(recall)\n",
    "        precision_avg.append(precision)"
   ]
  },
  {
   "cell_type": "code",
   "execution_count": 121,
   "id": "1d4db1f6",
   "metadata": {},
   "outputs": [],
   "source": [
    "relations_labels_predicted_count={}\n",
    "relations_labels_true_count={}\n",
    "for i in range(len(relations_all)):\n",
    "    for j in relations_all_filtered[i]:\n",
    "        if j[2] not in relations_labels_predicted_count:\n",
    "            relations_labels_predicted_count[j[2]]=0\n",
    "        relations_labels_predicted_count[j[2]]+=1\n",
    "    for j in relations_true[i]:\n",
    "        if j[2] not in relations_labels_true_count:\n",
    "            relations_labels_true_count[j[2]]=0\n",
    "        relations_labels_true_count[j[2]]+=1\n",
    "        "
   ]
  },
  {
   "cell_type": "code",
   "execution_count": 122,
   "id": "f6f7a6bb",
   "metadata": {},
   "outputs": [
    {
     "data": {
      "text/plain": [
       "(0.5293680856180857, 0.4248319003527335)"
      ]
     },
     "execution_count": 122,
     "metadata": {},
     "output_type": "execute_result"
    }
   ],
   "source": [
    "sum(recall_avg) / len(recall_avg), sum(precision_avg) / len(precision_avg)"
   ]
  },
  {
   "cell_type": "code",
   "execution_count": null,
   "id": "fe119000",
   "metadata": {},
   "outputs": [],
   "source": []
  }
 ],
 "metadata": {
  "kernelspec": {
   "display_name": "Python 3",
   "language": "python",
   "name": "python3"
  },
  "language_info": {
   "codemirror_mode": {
    "name": "ipython",
    "version": 3
   },
   "file_extension": ".py",
   "mimetype": "text/x-python",
   "name": "python",
   "nbconvert_exporter": "python",
   "pygments_lexer": "ipython3",
   "version": "3.10.16"
  }
 },
 "nbformat": 4,
 "nbformat_minor": 5
}
