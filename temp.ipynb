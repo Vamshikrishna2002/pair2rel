{
 "cells": [
  {
   "cell_type": "code",
   "execution_count": null,
   "metadata": {},
   "outputs": [
    {
     "name": "stderr",
     "output_type": "stream",
     "text": [
      "No files have been modified since last commit. Skipping to prevent empty commit.\n"
     ]
    },
    {
     "name": "stdout",
     "output_type": "stream",
     "text": [
      "✅ Model uploaded to: https://huggingface.co/chapalavamshi022/pair2rel\n"
     ]
    }
   ],
   "source": [
    "from huggingface_hub import login, create_repo, upload_folder\n",
    "\n",
    "\n",
    "# Paste your token below (get it from https://huggingface.co/settings/tokens)\n",
    "login(token=\"\")\n",
    "\n",
    "# Step 2: Create the model repo (run once)\n",
    "repo_id = \"chapalavamshi022/pair2rel\"  # Replace with your username and desired repo name\n",
    "create_repo(repo_id, repo_type=\"model\", exist_ok=True)\n",
    "\n",
    "# Step 3: Upload your local model folder\n",
    "upload_folder(\n",
    "    folder_path=\"/home/bt19d200/NER_Vamshi/Pair2Rel/pair2rel\",   # Path to your model directory\n",
    "    repo_id=repo_id,\n",
    "    repo_type=\"model\"\n",
    ")\n",
    "\n",
    "print(f\"✅ Model uploaded to: https://huggingface.co/{repo_id}\")\n",
    "\n"
   ]
  },
  {
   "cell_type": "code",
   "execution_count": null,
   "metadata": {},
   "outputs": [],
   "source": []
  }
 ],
 "metadata": {
  "language_info": {
   "name": "python"
  }
 },
 "nbformat": 4,
 "nbformat_minor": 5
}
